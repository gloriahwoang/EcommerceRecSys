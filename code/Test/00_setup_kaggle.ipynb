{
  "nbformat": 4,
  "nbformat_minor": 0,
  "metadata": {
    "colab": {
      "name": "00_setup_kaggle.ipynb",
      "provenance": [],
      "collapsed_sections": []
    },
    "kernelspec": {
      "name": "python3",
      "display_name": "Python 3"
    },
    "language_info": {
      "name": "python"
    }
  },
  "cells": [
    {
      "cell_type": "markdown",
      "source": [
        "# 0. Setup Kaggle data"
      ],
      "metadata": {
        "id": "Qqi-v_IpdnM1"
      }
    },
    {
      "cell_type": "code",
      "execution_count": null,
      "metadata": {
        "id": "VJfQXE0aZlk7"
      },
      "outputs": [],
      "source": [
        "# Refer to https://www.youtube.com/watch?v=57N1g8k2Hwc for setup\n",
        "# Install kaggle\n",
        "!pip install -q kaggle"
      ]
    },
    {
      "cell_type": "code",
      "source": [
        "# upload API json file (CAUTION! sensitive data)\n",
        "from google.colab import files\n",
        "files.upload()"
      ],
      "metadata": {
        "id": "aYe-xpryaNh9"
      },
      "execution_count": null,
      "outputs": []
    },
    {
      "cell_type": "code",
      "source": [
        "# create the kaggle folder and cp json file into it\n",
        "!mkdir -p ~/.kaggle\n",
        "!cp *json ~/.kaggle\n",
        "!ls ~/.kaggle"
      ],
      "metadata": {
        "id": "SfMe4NQ7bB1i",
        "colab": {
          "base_uri": "https://localhost:8080/"
        },
        "outputId": "1b482420-32af-4358-85cb-f2c57658d650"
      },
      "execution_count": null,
      "outputs": [
        {
          "output_type": "stream",
          "name": "stdout",
          "text": [
            "kaggle.json\n"
          ]
        }
      ]
    },
    {
      "cell_type": "code",
      "source": [
        "# change file permission\n",
        "!chmod 600 ~/.kaggle/*json"
      ],
      "metadata": {
        "id": "FtzZDBEcbJfN"
      },
      "execution_count": null,
      "outputs": []
    },
    {
      "cell_type": "code",
      "source": [
        "# download HM dataset\n",
        "!kaggle competitions download -c h-and-m-personalized-fashion-recommendations"
      ],
      "metadata": {
        "id": "ICA05zL4cJxd"
      },
      "execution_count": null,
      "outputs": []
    },
    {
      "cell_type": "code",
      "source": [
        "!mkdir -p hm_data\n",
        "!unzip *zip -d hm_data"
      ],
      "metadata": {
        "id": "ht4Xa1OrdQUp"
      },
      "execution_count": null,
      "outputs": []
    },
    {
      "cell_type": "code",
      "source": [
        "# remove kaggle API credentials\n",
        "!rm ~/.kaggle/*json"
      ],
      "metadata": {
        "id": "WJfvB3DLeM2M"
      },
      "execution_count": null,
      "outputs": []
    },
    {
      "cell_type": "code",
      "source": [
        "!rm *zip"
      ],
      "metadata": {
        "id": "GTvlvwjQhTsQ"
      },
      "execution_count": null,
      "outputs": []
    },
    {
      "cell_type": "code",
      "source": [
        "!ls"
      ],
      "metadata": {
        "id": "dgzNLeh-hp6Z"
      },
      "execution_count": null,
      "outputs": []
    }
  ]
}