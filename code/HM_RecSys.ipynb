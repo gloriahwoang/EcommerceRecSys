{
 "cells": [
  {
   "cell_type": "markdown",
   "metadata": {
    "id": "WXRMd8xKAuwA"
   },
   "source": [
    "# 1. Import data and library"
   ]
  },
  {
   "cell_type": "markdown",
   "metadata": {},
   "source": [
    "### Import data and model metrics"
   ]
  },
  {
   "cell_type": "code",
   "execution_count": 15,
   "metadata": {},
   "outputs": [],
   "source": [
    "import pandas as pd\n",
    "import numpy as np\n",
    "from sklearn.base import BaseEstimator, TransformerMixin\n",
    "import numpy as np\n",
    "#for nlp-based cl\n",
    "import nltk\n",
    "from nltk.corpus import stopwords\n",
    "import re\n",
    "import string\n",
    "from nltk.stem import WordNetLemmatizer\n",
    "from nltk import word_tokenize\n",
    "from nltk.corpus import stopwords\n",
    "from sklearn.feature_extraction.text import TfidfVectorizer \n",
    "from sklearn.metrics.pairwise import cosine_similarity\n",
    "from tqdm import tqdm\n",
    "from sklearn.decomposition import TruncatedSVD\n",
    "from sklearn.cluster import KMeans\n",
    "from mlxtend.frequent_patterns import fpgrowth\n",
    "import scipy.sparse as sparse\n",
    "from lightfm import LightFM # model\n",
    "from lightfm.evaluation import precision_at_k\n",
    "from lightfm.cross_validation import random_train_test_split"
   ]
  },
  {
   "cell_type": "code",
   "execution_count": 16,
   "metadata": {
    "execution": {
     "iopub.execute_input": "2022-04-16T15:40:18.703622Z",
     "iopub.status.busy": "2022-04-16T15:40:18.703245Z",
     "iopub.status.idle": "2022-04-16T15:40:18.730374Z",
     "shell.execute_reply": "2022-04-16T15:40:18.729632Z",
     "shell.execute_reply.started": "2022-04-16T15:40:18.703524Z"
    },
    "id": "DpB2O7boAuwC"
   },
   "outputs": [],
   "source": [
    "def apk(actual, predicted, k=10):\n",
    "    \"\"\"\n",
    "    Computes the average precision at k.\n",
    "\n",
    "    This function computes the average prescision at k between two lists of\n",
    "    items.\n",
    "\n",
    "    Parameters\n",
    "    ----------\n",
    "    actual : list\n",
    "             A list of elements that are to be predicted (order doesn't matter)\n",
    "    predicted : list\n",
    "                A list of predicted elements (order does matter)\n",
    "    k : int, optional\n",
    "        The maximum number of predicted elements\n",
    "\n",
    "    Returns\n",
    "    -------\n",
    "    score : double\n",
    "            The average precision at k over the input lists\n",
    "\n",
    "    \"\"\"\n",
    "    if len(predicted)>k:\n",
    "        predicted = predicted[:k]\n",
    "\n",
    "    score = 0.0\n",
    "    num_hits = 0.0\n",
    "\n",
    "    for i,p in enumerate(predicted):\n",
    "        if p in actual and p not in predicted[:i]:\n",
    "            num_hits += 1.0\n",
    "            score += num_hits / (i+1.0)\n",
    "\n",
    "    if not actual:\n",
    "        return 0.0\n",
    "\n",
    "    return score / min(len(actual), k)\n",
    "\n",
    "def mapk(actual, predicted, k=10):\n",
    "    \"\"\"\n",
    "    Computes the mean average precision at k.\n",
    "\n",
    "    This function computes the mean average prescision at k between two lists\n",
    "    of lists of items.\n",
    "\n",
    "    Parameters\n",
    "    ----------\n",
    "    actual : list\n",
    "             A list of lists of elements that are to be predicted \n",
    "             (order doesn't matter in the lists)\n",
    "    predicted : list\n",
    "                A list of lists of predicted elements\n",
    "                (order matters in the lists)\n",
    "    k : int, optional\n",
    "        The maximum number of predicted elements\n",
    "\n",
    "    Returns\n",
    "    -------\n",
    "    score : double\n",
    "            The mean average precision at k over the input lists\n",
    "\n",
    "    \"\"\"\n",
    "    return np.mean([apk(a,p,k) for a,p in zip(actual, predicted)])"
   ]
  },
  {
   "cell_type": "code",
   "execution_count": 17,
   "metadata": {
    "execution": {
     "iopub.execute_input": "2022-04-16T15:43:57.627341Z",
     "iopub.status.busy": "2022-04-16T15:43:57.626534Z",
     "iopub.status.idle": "2022-04-16T15:43:57.638968Z",
     "shell.execute_reply": "2022-04-16T15:43:57.638025Z",
     "shell.execute_reply.started": "2022-04-16T15:43:57.627285Z"
    },
    "id": "WNwqE7X3AuwD"
   },
   "outputs": [],
   "source": [
    "# https://www.kaggle.com/c/h-and-m-personalized-fashion-recommendations/discussion/308635\n",
    "def customer_hex_id_to_int(series):\n",
    "    return series.str[-16:].apply(hex_id_to_int)\n",
    "\n",
    "def hex_id_to_int(str):\n",
    "    return int(str[-16:], 16)\n",
    "\n",
    "def article_id_str_to_int(series):\n",
    "    return series.astype('int32')\n",
    "\n",
    "def article_id_int_to_str(series):\n",
    "    return '0' + series.astype('str')\n",
    "\n",
    "class Categorize(BaseEstimator, TransformerMixin):\n",
    "    def __init__(self, min_examples=0):\n",
    "        self.min_examples = min_examples\n",
    "        self.categories = []\n",
    "        \n",
    "    def fit(self, X):\n",
    "        for i in range(X.shape[1]):\n",
    "            vc = X.iloc[:, i].value_counts()\n",
    "            self.categories.append(vc[vc > self.min_examples].index.tolist())\n",
    "        return self\n",
    "\n",
    "    def transform(self, X):\n",
    "        data = {X.columns[i]: pd.Categorical(X.iloc[:, i], categories=self.categories[i]).codes for i in range(X.shape[1])}\n",
    "        return pd.DataFrame(data=data)\n",
    "\n",
    "\n",
    "def calculate_apk(list_of_preds, list_of_gts):\n",
    "    # for fast validation this can be changed to operate on dicts of {'cust_id_int': [art_id_int, ...]}\n",
    "    # using 'data/val_week_purchases_by_cust.pkl'\n",
    "    apks = []\n",
    "    for preds, gt in zip(list_of_preds, list_of_gts):\n",
    "        apks.append(apk(gt, preds, k=12))\n",
    "    return np.mean(apks)\n",
    "\n",
    "def eval_sub(sub_csv, skip_cust_with_no_purchases=True):\n",
    "    sub=pd.read_csv(sub_csv)\n",
    "    validation_set=pd.read_parquet('data/validation_ground_truth.parquet')\n",
    "\n",
    "    apks = []\n",
    "\n",
    "    no_purchases_pattern = []\n",
    "    for pred, gt in zip(sub.prediction.str.split(), validation_set.prediction.str.split()):\n",
    "        if skip_cust_with_no_purchases and (gt == no_purchases_pattern): continue\n",
    "        apks.append(apk(gt, pred, k=12))\n",
    "    return np.mean(apks)"
   ]
  },
  {
   "cell_type": "markdown",
   "metadata": {
    "execution": {
     "iopub.execute_input": "2022-04-16T15:43:58.795999Z",
     "iopub.status.busy": "2022-04-16T15:43:58.79552Z",
     "iopub.status.idle": "2022-04-16T15:43:58.799214Z",
     "shell.execute_reply": "2022-04-16T15:43:58.798681Z",
     "shell.execute_reply.started": "2022-04-16T15:43:58.795943Z"
    },
    "id": "qFL8h4DIAuwE"
   },
   "source": [
    "### Import data"
   ]
  },
  {
   "cell_type": "code",
   "execution_count": 185,
   "metadata": {
    "colab": {
     "base_uri": "https://localhost:8080/"
    },
    "execution": {
     "iopub.execute_input": "2022-04-16T15:43:59.108344Z",
     "iopub.status.busy": "2022-04-16T15:43:59.107716Z",
     "iopub.status.idle": "2022-04-16T15:44:06.078986Z",
     "shell.execute_reply": "2022-04-16T15:44:06.078171Z",
     "shell.execute_reply.started": "2022-04-16T15:43:59.108264Z"
    },
    "id": "3UNupEYmAuwF",
    "outputId": "0382bf2a-93cf-46bb-cf1f-30d2beb7ddc5"
   },
   "outputs": [
    {
     "name": "stdout",
     "output_type": "stream",
     "text": [
      "CPU times: user 2 µs, sys: 1e+03 ns, total: 3 µs\n",
      "Wall time: 7.87 µs\n"
     ]
    }
   ],
   "source": [
    "%time\n",
    "\n",
    "transactions = pd.read_parquet('transactions_train.parquet')\n",
    "customers = pd.read_parquet('customers.parquet')\n",
    "articles = pd.read_parquet('articles.parquet')\n",
    "\n",
    "# sample = 0.05\n",
    "# transactions = pd.read_parquet(f'data/transactions_train_sample_{sample}.parquet')\n",
    "# customers = pd.read_parquet(f'data/customers_sample_{sample}.parquet')\n",
    "# articles = pd.read_parquet(f'data/articles_train_sample_{sample}.parquet')"
   ]
  },
  {
   "cell_type": "code",
   "execution_count": 186,
   "metadata": {
    "execution": {
     "iopub.execute_input": "2022-04-16T15:44:06.081314Z",
     "iopub.status.busy": "2022-04-16T15:44:06.081004Z",
     "iopub.status.idle": "2022-04-16T15:44:06.317468Z",
     "shell.execute_reply": "2022-04-16T15:44:06.316598Z",
     "shell.execute_reply.started": "2022-04-16T15:44:06.081272Z"
    },
    "id": "aRqvkT0fAuwF"
   },
   "outputs": [],
   "source": [
    "#test data -> the week next to the most recent week\n",
    "#subset the transactions data in the past 10 weeks for training\n",
    "test_week = transactions.week.max() + 1\n",
    "transactions = transactions[transactions.week > transactions.week.max() - 10]"
   ]
  },
  {
   "cell_type": "markdown",
   "metadata": {
    "id": "hmQmEml8AuwF"
   },
   "source": [
    "# Generating candidates - Recall\n"
   ]
  },
  {
   "cell_type": "markdown",
   "metadata": {
    "id": "7MB43ezKAuwG"
   },
   "source": [
    "### Last purchase candidates"
   ]
  },
  {
   "cell_type": "code",
   "execution_count": 187,
   "metadata": {
    "colab": {
     "base_uri": "https://localhost:8080/"
    },
    "execution": {
     "iopub.execute_input": "2022-04-16T15:44:14.484297Z",
     "iopub.status.busy": "2022-04-16T15:44:14.483924Z",
     "iopub.status.idle": "2022-04-16T15:44:32.713783Z",
     "shell.execute_reply": "2022-04-16T15:44:32.712927Z",
     "shell.execute_reply.started": "2022-04-16T15:44:14.484254Z"
    },
    "id": "ivgDMEIfAuwG",
    "outputId": "d7e1e99f-0af7-4db8-a62f-c26c8d28fa16"
   },
   "outputs": [
    {
     "name": "stdout",
     "output_type": "stream",
     "text": [
      "CPU times: user 15.4 s, sys: 921 ms, total: 16.3 s\n",
      "Wall time: 15.8 s\n"
     ]
    }
   ],
   "source": [
    "%%time\n",
    "#orders in past 5 weeks group by week and customer_id \n",
    "c2weeks = transactions.groupby('customer_id')['week'].unique()"
   ]
  },
  {
   "cell_type": "code",
   "execution_count": 188,
   "metadata": {
    "colab": {
     "base_uri": "https://localhost:8080/",
     "height": 390
    },
    "execution": {
     "iopub.execute_input": "2022-04-16T15:52:20.359362Z",
     "iopub.status.busy": "2022-04-16T15:52:20.359059Z",
     "iopub.status.idle": "2022-04-16T15:52:20.430004Z",
     "shell.execute_reply": "2022-04-16T15:52:20.428905Z",
     "shell.execute_reply.started": "2022-04-16T15:52:20.359332Z"
    },
    "id": "CsC_lTSAAuwG",
    "outputId": "c2ddf21a-5f61-49c6-8d31-5920d9125988"
   },
   "outputs": [
    {
     "data": {
      "text/html": [
       "<div>\n",
       "<style scoped>\n",
       "    .dataframe tbody tr th:only-of-type {\n",
       "        vertical-align: middle;\n",
       "    }\n",
       "\n",
       "    .dataframe tbody tr th {\n",
       "        vertical-align: top;\n",
       "    }\n",
       "\n",
       "    .dataframe thead th {\n",
       "        text-align: right;\n",
       "    }\n",
       "</style>\n",
       "<table border=\"1\" class=\"dataframe\">\n",
       "  <thead>\n",
       "    <tr style=\"text-align: right;\">\n",
       "      <th></th>\n",
       "      <th>min</th>\n",
       "      <th>max</th>\n",
       "    </tr>\n",
       "    <tr>\n",
       "      <th>week</th>\n",
       "      <th></th>\n",
       "      <th></th>\n",
       "    </tr>\n",
       "  </thead>\n",
       "  <tbody>\n",
       "    <tr>\n",
       "      <th>95</th>\n",
       "      <td>2020-07-15</td>\n",
       "      <td>2020-07-21</td>\n",
       "    </tr>\n",
       "    <tr>\n",
       "      <th>96</th>\n",
       "      <td>2020-07-22</td>\n",
       "      <td>2020-07-28</td>\n",
       "    </tr>\n",
       "    <tr>\n",
       "      <th>97</th>\n",
       "      <td>2020-07-29</td>\n",
       "      <td>2020-08-04</td>\n",
       "    </tr>\n",
       "    <tr>\n",
       "      <th>98</th>\n",
       "      <td>2020-08-05</td>\n",
       "      <td>2020-08-11</td>\n",
       "    </tr>\n",
       "    <tr>\n",
       "      <th>99</th>\n",
       "      <td>2020-08-12</td>\n",
       "      <td>2020-08-18</td>\n",
       "    </tr>\n",
       "    <tr>\n",
       "      <th>100</th>\n",
       "      <td>2020-08-19</td>\n",
       "      <td>2020-08-25</td>\n",
       "    </tr>\n",
       "    <tr>\n",
       "      <th>101</th>\n",
       "      <td>2020-08-26</td>\n",
       "      <td>2020-09-01</td>\n",
       "    </tr>\n",
       "    <tr>\n",
       "      <th>102</th>\n",
       "      <td>2020-09-02</td>\n",
       "      <td>2020-09-08</td>\n",
       "    </tr>\n",
       "    <tr>\n",
       "      <th>103</th>\n",
       "      <td>2020-09-09</td>\n",
       "      <td>2020-09-15</td>\n",
       "    </tr>\n",
       "    <tr>\n",
       "      <th>104</th>\n",
       "      <td>2020-09-16</td>\n",
       "      <td>2020-09-22</td>\n",
       "    </tr>\n",
       "  </tbody>\n",
       "</table>\n",
       "</div>"
      ],
      "text/plain": [
       "            min        max\n",
       "week                      \n",
       "95   2020-07-15 2020-07-21\n",
       "96   2020-07-22 2020-07-28\n",
       "97   2020-07-29 2020-08-04\n",
       "98   2020-08-05 2020-08-11\n",
       "99   2020-08-12 2020-08-18\n",
       "100  2020-08-19 2020-08-25\n",
       "101  2020-08-26 2020-09-01\n",
       "102  2020-09-02 2020-09-08\n",
       "103  2020-09-09 2020-09-15\n",
       "104  2020-09-16 2020-09-22"
      ]
     },
     "execution_count": 188,
     "metadata": {},
     "output_type": "execute_result"
    }
   ],
   "source": [
    "# the time interval in each week\n",
    "transactions.groupby('week')['t_dat'].agg(['min', 'max'])"
   ]
  },
  {
   "cell_type": "code",
   "execution_count": 189,
   "metadata": {
    "colab": {
     "base_uri": "https://localhost:8080/"
    },
    "execution": {
     "iopub.execute_input": "2022-04-16T15:51:14.213638Z",
     "iopub.status.busy": "2022-04-16T15:51:14.21265Z",
     "iopub.status.idle": "2022-04-16T15:51:14.231518Z",
     "shell.execute_reply": "2022-04-16T15:51:14.230546Z",
     "shell.execute_reply.started": "2022-04-16T15:51:14.213593Z"
    },
    "id": "2KzLC55mAuwH",
    "outputId": "60a39920-1d84-4307-89ba-bf50a0da5e88"
   },
   "outputs": [
    {
     "data": {
      "text/plain": [
       "customer_id\n",
       "28847241659200          [95, 96, 101, 102]\n",
       "41318098387474                        [98]\n",
       "116809474287335                 [101, 103]\n",
       "200292573348128          [95, 96, 99, 102]\n",
       "248294615847351                       [96]\n",
       "                               ...        \n",
       "18446624797007271432                  [95]\n",
       "18446630855572834764                 [103]\n",
       "18446662237889060501                 [100]\n",
       "18446705133201055310                 [102]\n",
       "18446737527580148316                 [104]\n",
       "Name: week, Length: 437365, dtype: object"
      ]
     },
     "execution_count": 189,
     "metadata": {},
     "output_type": "execute_result"
    }
   ],
   "source": [
    "c2weeks"
   ]
  },
  {
   "cell_type": "code",
   "execution_count": 190,
   "metadata": {
    "colab": {
     "base_uri": "https://localhost:8080/"
    },
    "execution": {
     "iopub.execute_input": "2022-04-16T15:52:37.191281Z",
     "iopub.status.busy": "2022-04-16T15:52:37.190968Z",
     "iopub.status.idle": "2022-04-16T15:52:38.270373Z",
     "shell.execute_reply": "2022-04-16T15:52:38.269366Z",
     "shell.execute_reply.started": "2022-04-16T15:52:37.191249Z"
    },
    "id": "nNo8GskiAuwH",
    "outputId": "102a1d7e-cfdb-4669-cde0-310d12c424ae"
   },
   "outputs": [
    {
     "name": "stdout",
     "output_type": "stream",
     "text": [
      "CPU times: user 614 ms, sys: 539 ms, total: 1.15 s\n",
      "Wall time: 2.4 s\n"
     ]
    }
   ],
   "source": [
    "%%time\n",
    "#use a hashmap to store: a key: customer_id and a value: a hashmap where the key is the current_week and the value is week of the next purchase \n",
    "#the last one is a test week\n",
    "c2weeks2shifted_weeks = {}\n",
    "\n",
    "for c_id, weeks in c2weeks.items():\n",
    "    c2weeks2shifted_weeks[c_id] = {}\n",
    "    for i in range(weeks.shape[0]-1):\n",
    "        c2weeks2shifted_weeks[c_id][weeks[i]] = weeks[i+1]\n",
    "    c2weeks2shifted_weeks[c_id][weeks[-1]] = test_week"
   ]
  },
  {
   "cell_type": "code",
   "execution_count": 191,
   "metadata": {
    "execution": {
     "iopub.execute_input": "2022-04-16T15:54:02.986659Z",
     "iopub.status.busy": "2022-04-16T15:54:02.986364Z",
     "iopub.status.idle": "2022-04-16T15:54:03.008647Z",
     "shell.execute_reply": "2022-04-16T15:54:03.007375Z",
     "shell.execute_reply.started": "2022-04-16T15:54:02.986626Z"
    },
    "id": "1O_lOp1KAuwH"
   },
   "outputs": [],
   "source": [
    "candidates_last_purchase = transactions.copy()"
   ]
  },
  {
   "cell_type": "code",
   "execution_count": 192,
   "metadata": {
    "colab": {
     "base_uri": "https://localhost:8080/"
    },
    "execution": {
     "iopub.execute_input": "2022-04-16T15:54:09.502379Z",
     "iopub.status.busy": "2022-04-16T15:54:09.502111Z",
     "iopub.status.idle": "2022-04-16T15:54:17.173729Z",
     "shell.execute_reply": "2022-04-16T15:54:17.172748Z",
     "shell.execute_reply.started": "2022-04-16T15:54:09.502353Z"
    },
    "id": "M_VGKjOKAuwH",
    "outputId": "97ff21ce-34a4-4c3e-a586-8b781d7e60c3"
   },
   "outputs": [
    {
     "name": "stdout",
     "output_type": "stream",
     "text": [
      "CPU times: user 7.05 s, sys: 189 ms, total: 7.24 s\n",
      "Wall time: 7.5 s\n"
     ]
    }
   ],
   "source": [
    "%%time\n",
    "# for each of combination of customer_id and week, append the next purchase week to weeks\n",
    "weeks = []\n",
    "for i, (c_id, week) in enumerate(zip(transactions['customer_id'], transactions['week'])):\n",
    "    weeks.append(c2weeks2shifted_weeks[c_id][week])\n",
    "    \n",
    "candidates_last_purchase.week=weeks"
   ]
  },
  {
   "cell_type": "markdown",
   "metadata": {
    "id": "Ji3cu4LpAuwI"
   },
   "source": [
    "### Bestsellers candidates"
   ]
  },
  {
   "cell_type": "code",
   "execution_count": 193,
   "metadata": {
    "execution": {
     "iopub.execute_input": "2022-04-16T15:57:17.651075Z",
     "iopub.status.busy": "2022-04-16T15:57:17.65078Z",
     "iopub.status.idle": "2022-04-16T15:57:17.917777Z",
     "shell.execute_reply": "2022-04-16T15:57:17.916726Z",
     "shell.execute_reply.started": "2022-04-16T15:57:17.651046Z"
    },
    "id": "e1Mnpqc4AuwI"
   },
   "outputs": [],
   "source": [
    "#average purchase price group by week and article id \n",
    "mean_price = transactions \\\n",
    "    .groupby(['week', 'article_id'])['price'].mean()"
   ]
  },
  {
   "cell_type": "code",
   "execution_count": 194,
   "metadata": {
    "colab": {
     "base_uri": "https://localhost:8080/"
    },
    "execution": {
     "iopub.execute_input": "2022-04-16T15:57:22.071336Z",
     "iopub.status.busy": "2022-04-16T15:57:22.071051Z",
     "iopub.status.idle": "2022-04-16T15:57:22.081278Z",
     "shell.execute_reply": "2022-04-16T15:57:22.080255Z",
     "shell.execute_reply.started": "2022-04-16T15:57:22.071307Z"
    },
    "id": "8ein50s0AuwI",
    "outputId": "ca2ea940-caf7-413a-d173-9f88ac01b9b4"
   },
   "outputs": [
    {
     "data": {
      "text/plain": [
       "week  article_id\n",
       "95    108775015     0.004729\n",
       "      108775044     0.008458\n",
       "      110065001     0.006085\n",
       "      110065002     0.006085\n",
       "      111565001     0.004288\n",
       "                      ...   \n",
       "104   952267001     0.013732\n",
       "      952938001     0.048651\n",
       "      953450001     0.016932\n",
       "      953763001     0.021885\n",
       "      956217002     0.059068\n",
       "Name: price, Length: 196880, dtype: float32"
      ]
     },
     "execution_count": 194,
     "metadata": {},
     "output_type": "execute_result"
    }
   ],
   "source": [
    "mean_price"
   ]
  },
  {
   "cell_type": "code",
   "execution_count": 195,
   "metadata": {
    "execution": {
     "iopub.execute_input": "2022-04-16T16:02:22.825182Z",
     "iopub.status.busy": "2022-04-16T16:02:22.824751Z",
     "iopub.status.idle": "2022-04-16T16:02:23.799128Z",
     "shell.execute_reply": "2022-04-16T16:02:23.798311Z",
     "shell.execute_reply.started": "2022-04-16T16:02:22.825151Z"
    },
    "id": "8-yv9uEUAuwI"
   },
   "outputs": [],
   "source": [
    "#rank the 12 best sellers in each week\n",
    "sales = transactions \\\n",
    "    .groupby('week')['article_id'].value_counts() \\\n",
    "    .groupby('week').rank(method='dense', ascending=False) \\\n",
    "    .groupby('week').head(12).rename('bestseller_rank').astype('int8')"
   ]
  },
  {
   "cell_type": "code",
   "execution_count": 196,
   "metadata": {
    "colab": {
     "base_uri": "https://localhost:8080/"
    },
    "execution": {
     "iopub.execute_input": "2022-04-16T16:46:11.47305Z",
     "iopub.status.busy": "2022-04-16T16:46:11.472531Z",
     "iopub.status.idle": "2022-04-16T16:46:11.48196Z",
     "shell.execute_reply": "2022-04-16T16:46:11.481241Z",
     "shell.execute_reply.started": "2022-04-16T16:46:11.473006Z"
    },
    "id": "uuKd20pSAuwJ",
    "outputId": "ecbfec5a-545e-46f1-f51e-bcd5e454597d"
   },
   "outputs": [
    {
     "data": {
      "text/plain": [
       "week  article_id\n",
       "95    760084003      1\n",
       "      866731001      2\n",
       "      600886001      3\n",
       "      706016001      4\n",
       "      372860002      5\n",
       "                    ..\n",
       "104   915529003      8\n",
       "      915529005      9\n",
       "      448509014     10\n",
       "      762846027     11\n",
       "      714790020     12\n",
       "Name: bestseller_rank, Length: 120, dtype: int8"
      ]
     },
     "execution_count": 196,
     "metadata": {},
     "output_type": "execute_result"
    }
   ],
   "source": [
    "sales"
   ]
  },
  {
   "cell_type": "code",
   "execution_count": 197,
   "metadata": {
    "execution": {
     "iopub.execute_input": "2022-04-16T16:46:24.316099Z",
     "iopub.status.busy": "2022-04-16T16:46:24.315491Z",
     "iopub.status.idle": "2022-04-16T16:46:24.370425Z",
     "shell.execute_reply": "2022-04-16T16:46:24.369607Z",
     "shell.execute_reply.started": "2022-04-16T16:46:24.31606Z"
    },
    "id": "VCepY2XDAuwJ"
   },
   "outputs": [],
   "source": [
    "bestsellers_previous_week = pd.merge(sales, mean_price, on=['week', 'article_id']).reset_index()\n",
    "bestsellers_previous_week.week += 1"
   ]
  },
  {
   "cell_type": "code",
   "execution_count": 198,
   "metadata": {
    "colab": {
     "base_uri": "https://localhost:8080/",
     "height": 485
    },
    "execution": {
     "iopub.execute_input": "2022-04-16T16:51:04.065012Z",
     "iopub.status.busy": "2022-04-16T16:51:04.064135Z",
     "iopub.status.idle": "2022-04-16T16:51:04.077812Z",
     "shell.execute_reply": "2022-04-16T16:51:04.077199Z",
     "shell.execute_reply.started": "2022-04-16T16:51:04.064965Z"
    },
    "id": "aR1d90stAuwJ",
    "outputId": "f632c98d-e1a0-43b3-b90d-e0a4da0918e6"
   },
   "outputs": [
    {
     "data": {
      "text/html": [
       "<div>\n",
       "<style scoped>\n",
       "    .dataframe tbody tr th:only-of-type {\n",
       "        vertical-align: middle;\n",
       "    }\n",
       "\n",
       "    .dataframe tbody tr th {\n",
       "        vertical-align: top;\n",
       "    }\n",
       "\n",
       "    .dataframe thead th {\n",
       "        text-align: right;\n",
       "    }\n",
       "</style>\n",
       "<table border=\"1\" class=\"dataframe\">\n",
       "  <thead>\n",
       "    <tr style=\"text-align: right;\">\n",
       "      <th></th>\n",
       "      <th>week</th>\n",
       "      <th>article_id</th>\n",
       "      <th>bestseller_rank</th>\n",
       "      <th>price</th>\n",
       "    </tr>\n",
       "  </thead>\n",
       "  <tbody>\n",
       "    <tr>\n",
       "      <th>0</th>\n",
       "      <td>96</td>\n",
       "      <td>760084003</td>\n",
       "      <td>1</td>\n",
       "      <td>0.025094</td>\n",
       "    </tr>\n",
       "    <tr>\n",
       "      <th>1</th>\n",
       "      <td>96</td>\n",
       "      <td>866731001</td>\n",
       "      <td>2</td>\n",
       "      <td>0.024919</td>\n",
       "    </tr>\n",
       "    <tr>\n",
       "      <th>2</th>\n",
       "      <td>96</td>\n",
       "      <td>600886001</td>\n",
       "      <td>3</td>\n",
       "      <td>0.022980</td>\n",
       "    </tr>\n",
       "    <tr>\n",
       "      <th>3</th>\n",
       "      <td>96</td>\n",
       "      <td>706016001</td>\n",
       "      <td>4</td>\n",
       "      <td>0.033197</td>\n",
       "    </tr>\n",
       "    <tr>\n",
       "      <th>4</th>\n",
       "      <td>96</td>\n",
       "      <td>372860002</td>\n",
       "      <td>5</td>\n",
       "      <td>0.013193</td>\n",
       "    </tr>\n",
       "    <tr>\n",
       "      <th>5</th>\n",
       "      <td>96</td>\n",
       "      <td>610776002</td>\n",
       "      <td>6</td>\n",
       "      <td>0.008318</td>\n",
       "    </tr>\n",
       "    <tr>\n",
       "      <th>6</th>\n",
       "      <td>96</td>\n",
       "      <td>877278002</td>\n",
       "      <td>7</td>\n",
       "      <td>0.025036</td>\n",
       "    </tr>\n",
       "    <tr>\n",
       "      <th>7</th>\n",
       "      <td>96</td>\n",
       "      <td>547780003</td>\n",
       "      <td>8</td>\n",
       "      <td>0.024814</td>\n",
       "    </tr>\n",
       "    <tr>\n",
       "      <th>8</th>\n",
       "      <td>96</td>\n",
       "      <td>817354001</td>\n",
       "      <td>9</td>\n",
       "      <td>0.021913</td>\n",
       "    </tr>\n",
       "    <tr>\n",
       "      <th>9</th>\n",
       "      <td>96</td>\n",
       "      <td>827968001</td>\n",
       "      <td>10</td>\n",
       "      <td>0.016436</td>\n",
       "    </tr>\n",
       "    <tr>\n",
       "      <th>10</th>\n",
       "      <td>96</td>\n",
       "      <td>866731003</td>\n",
       "      <td>11</td>\n",
       "      <td>0.024893</td>\n",
       "    </tr>\n",
       "    <tr>\n",
       "      <th>11</th>\n",
       "      <td>96</td>\n",
       "      <td>866383006</td>\n",
       "      <td>12</td>\n",
       "      <td>0.023195</td>\n",
       "    </tr>\n",
       "  </tbody>\n",
       "</table>\n",
       "</div>"
      ],
      "text/plain": [
       "    week  article_id  bestseller_rank     price\n",
       "0     96   760084003                1  0.025094\n",
       "1     96   866731001                2  0.024919\n",
       "2     96   600886001                3  0.022980\n",
       "3     96   706016001                4  0.033197\n",
       "4     96   372860002                5  0.013193\n",
       "5     96   610776002                6  0.008318\n",
       "6     96   877278002                7  0.025036\n",
       "7     96   547780003                8  0.024814\n",
       "8     96   817354001                9  0.021913\n",
       "9     96   827968001               10  0.016436\n",
       "10    96   866731003               11  0.024893\n",
       "11    96   866383006               12  0.023195"
      ]
     },
     "execution_count": 198,
     "metadata": {},
     "output_type": "execute_result"
    }
   ],
   "source": [
    "#combine with the average price\n",
    "bestsellers_previous_week.pipe(lambda df: df[df['week']==96])"
   ]
  },
  {
   "cell_type": "code",
   "execution_count": 199,
   "metadata": {
    "execution": {
     "iopub.execute_input": "2022-04-16T16:51:34.88602Z",
     "iopub.status.busy": "2022-04-16T16:51:34.885365Z",
     "iopub.status.idle": "2022-04-16T16:51:35.522916Z",
     "shell.execute_reply": "2022-04-16T16:51:35.521903Z",
     "shell.execute_reply.started": "2022-04-16T16:51:34.88598Z"
    },
    "id": "a_Ul-Tm6AuwJ"
   },
   "outputs": [],
   "source": [
    "# get the uniques transactions in each week\n",
    "unique_transactions = transactions \\\n",
    "    .groupby(['week', 'customer_id']) \\\n",
    "    .head(1) \\\n",
    "    .drop(columns=['article_id', 'price']) \\\n",
    "    .copy()"
   ]
  },
  {
   "cell_type": "code",
   "execution_count": 200,
   "metadata": {
    "colab": {
     "base_uri": "https://localhost:8080/",
     "height": 653
    },
    "execution": {
     "iopub.execute_input": "2022-04-16T16:51:41.276486Z",
     "iopub.status.busy": "2022-04-16T16:51:41.276191Z",
     "iopub.status.idle": "2022-04-16T16:51:41.290998Z",
     "shell.execute_reply": "2022-04-16T16:51:41.290002Z",
     "shell.execute_reply.started": "2022-04-16T16:51:41.276452Z"
    },
    "id": "Ho5MUBbLAuwK",
    "outputId": "22165b9b-00bf-490f-defc-1acc8aa7f6ff"
   },
   "outputs": [
    {
     "data": {
      "text/html": [
       "<div>\n",
       "<style scoped>\n",
       "    .dataframe tbody tr th:only-of-type {\n",
       "        vertical-align: middle;\n",
       "    }\n",
       "\n",
       "    .dataframe tbody tr th {\n",
       "        vertical-align: top;\n",
       "    }\n",
       "\n",
       "    .dataframe thead th {\n",
       "        text-align: right;\n",
       "    }\n",
       "</style>\n",
       "<table border=\"1\" class=\"dataframe\">\n",
       "  <thead>\n",
       "    <tr style=\"text-align: right;\">\n",
       "      <th></th>\n",
       "      <th>t_dat</th>\n",
       "      <th>customer_id</th>\n",
       "      <th>sales_channel_id</th>\n",
       "      <th>week</th>\n",
       "    </tr>\n",
       "  </thead>\n",
       "  <tbody>\n",
       "    <tr>\n",
       "      <th>29030503</th>\n",
       "      <td>2020-07-15</td>\n",
       "      <td>272412481300040</td>\n",
       "      <td>1</td>\n",
       "      <td>95</td>\n",
       "    </tr>\n",
       "    <tr>\n",
       "      <th>29064059</th>\n",
       "      <td>2020-07-15</td>\n",
       "      <td>1456826891333599</td>\n",
       "      <td>1</td>\n",
       "      <td>95</td>\n",
       "    </tr>\n",
       "    <tr>\n",
       "      <th>29067103</th>\n",
       "      <td>2020-07-15</td>\n",
       "      <td>2133687643102426</td>\n",
       "      <td>2</td>\n",
       "      <td>95</td>\n",
       "    </tr>\n",
       "    <tr>\n",
       "      <th>29027487</th>\n",
       "      <td>2020-07-15</td>\n",
       "      <td>6010692573790711</td>\n",
       "      <td>1</td>\n",
       "      <td>95</td>\n",
       "    </tr>\n",
       "    <tr>\n",
       "      <th>29046403</th>\n",
       "      <td>2020-07-15</td>\n",
       "      <td>6171059100114610</td>\n",
       "      <td>2</td>\n",
       "      <td>95</td>\n",
       "    </tr>\n",
       "    <tr>\n",
       "      <th>...</th>\n",
       "      <td>...</td>\n",
       "      <td>...</td>\n",
       "      <td>...</td>\n",
       "      <td>...</td>\n",
       "    </tr>\n",
       "    <tr>\n",
       "      <th>31760188</th>\n",
       "      <td>2020-09-22</td>\n",
       "      <td>18435221511488011015</td>\n",
       "      <td>1</td>\n",
       "      <td>104</td>\n",
       "    </tr>\n",
       "    <tr>\n",
       "      <th>31782234</th>\n",
       "      <td>2020-09-22</td>\n",
       "      <td>18436859303155335645</td>\n",
       "      <td>1</td>\n",
       "      <td>104</td>\n",
       "    </tr>\n",
       "    <tr>\n",
       "      <th>31787251</th>\n",
       "      <td>2020-09-22</td>\n",
       "      <td>18437941771381362708</td>\n",
       "      <td>2</td>\n",
       "      <td>104</td>\n",
       "    </tr>\n",
       "    <tr>\n",
       "      <th>31776022</th>\n",
       "      <td>2020-09-22</td>\n",
       "      <td>18438270306572912089</td>\n",
       "      <td>1</td>\n",
       "      <td>104</td>\n",
       "    </tr>\n",
       "    <tr>\n",
       "      <th>31779097</th>\n",
       "      <td>2020-09-22</td>\n",
       "      <td>18440902715633436014</td>\n",
       "      <td>1</td>\n",
       "      <td>104</td>\n",
       "    </tr>\n",
       "  </tbody>\n",
       "</table>\n",
       "<p>755710 rows × 4 columns</p>\n",
       "</div>"
      ],
      "text/plain": [
       "              t_dat           customer_id  sales_channel_id  week\n",
       "29030503 2020-07-15       272412481300040                 1    95\n",
       "29064059 2020-07-15      1456826891333599                 1    95\n",
       "29067103 2020-07-15      2133687643102426                 2    95\n",
       "29027487 2020-07-15      6010692573790711                 1    95\n",
       "29046403 2020-07-15      6171059100114610                 2    95\n",
       "...             ...                   ...               ...   ...\n",
       "31760188 2020-09-22  18435221511488011015                 1   104\n",
       "31782234 2020-09-22  18436859303155335645                 1   104\n",
       "31787251 2020-09-22  18437941771381362708                 2   104\n",
       "31776022 2020-09-22  18438270306572912089                 1   104\n",
       "31779097 2020-09-22  18440902715633436014                 1   104\n",
       "\n",
       "[755710 rows x 4 columns]"
      ]
     },
     "execution_count": 200,
     "metadata": {},
     "output_type": "execute_result"
    }
   ],
   "source": [
    "unique_transactions"
   ]
  },
  {
   "cell_type": "code",
   "execution_count": 201,
   "metadata": {
    "colab": {
     "base_uri": "https://localhost:8080/",
     "height": 653
    },
    "execution": {
     "iopub.execute_input": "2022-04-16T16:53:57.807309Z",
     "iopub.status.busy": "2022-04-16T16:53:57.806973Z",
     "iopub.status.idle": "2022-04-16T16:53:58.097008Z",
     "shell.execute_reply": "2022-04-16T16:53:58.095874Z",
     "shell.execute_reply.started": "2022-04-16T16:53:57.807278Z"
    },
    "id": "XacCw5SqAuwK",
    "outputId": "c611b9c5-c279-4d1b-820e-55aa3bf50efc"
   },
   "outputs": [
    {
     "data": {
      "text/html": [
       "<div>\n",
       "<style scoped>\n",
       "    .dataframe tbody tr th:only-of-type {\n",
       "        vertical-align: middle;\n",
       "    }\n",
       "\n",
       "    .dataframe tbody tr th {\n",
       "        vertical-align: top;\n",
       "    }\n",
       "\n",
       "    .dataframe thead th {\n",
       "        text-align: right;\n",
       "    }\n",
       "</style>\n",
       "<table border=\"1\" class=\"dataframe\">\n",
       "  <thead>\n",
       "    <tr style=\"text-align: right;\">\n",
       "      <th></th>\n",
       "      <th>t_dat</th>\n",
       "      <th>customer_id</th>\n",
       "      <th>article_id</th>\n",
       "      <th>price</th>\n",
       "      <th>sales_channel_id</th>\n",
       "      <th>week</th>\n",
       "    </tr>\n",
       "  </thead>\n",
       "  <tbody>\n",
       "    <tr>\n",
       "      <th>29030503</th>\n",
       "      <td>2020-07-15</td>\n",
       "      <td>272412481300040</td>\n",
       "      <td>778064028</td>\n",
       "      <td>0.008458</td>\n",
       "      <td>1</td>\n",
       "      <td>95</td>\n",
       "    </tr>\n",
       "    <tr>\n",
       "      <th>29064059</th>\n",
       "      <td>2020-07-15</td>\n",
       "      <td>1456826891333599</td>\n",
       "      <td>888294001</td>\n",
       "      <td>0.013542</td>\n",
       "      <td>1</td>\n",
       "      <td>95</td>\n",
       "    </tr>\n",
       "    <tr>\n",
       "      <th>29067103</th>\n",
       "      <td>2020-07-15</td>\n",
       "      <td>2133687643102426</td>\n",
       "      <td>843642001</td>\n",
       "      <td>0.042356</td>\n",
       "      <td>2</td>\n",
       "      <td>95</td>\n",
       "    </tr>\n",
       "    <tr>\n",
       "      <th>29027487</th>\n",
       "      <td>2020-07-15</td>\n",
       "      <td>6010692573790711</td>\n",
       "      <td>857812010</td>\n",
       "      <td>0.039661</td>\n",
       "      <td>1</td>\n",
       "      <td>95</td>\n",
       "    </tr>\n",
       "    <tr>\n",
       "      <th>29046403</th>\n",
       "      <td>2020-07-15</td>\n",
       "      <td>6171059100114610</td>\n",
       "      <td>815447007</td>\n",
       "      <td>0.006763</td>\n",
       "      <td>2</td>\n",
       "      <td>95</td>\n",
       "    </tr>\n",
       "    <tr>\n",
       "      <th>...</th>\n",
       "      <td>...</td>\n",
       "      <td>...</td>\n",
       "      <td>...</td>\n",
       "      <td>...</td>\n",
       "      <td>...</td>\n",
       "      <td>...</td>\n",
       "    </tr>\n",
       "    <tr>\n",
       "      <th>31760188</th>\n",
       "      <td>2020-09-22</td>\n",
       "      <td>18435221511488011015</td>\n",
       "      <td>573085055</td>\n",
       "      <td>0.033881</td>\n",
       "      <td>1</td>\n",
       "      <td>104</td>\n",
       "    </tr>\n",
       "    <tr>\n",
       "      <th>31782234</th>\n",
       "      <td>2020-09-22</td>\n",
       "      <td>18436859303155335645</td>\n",
       "      <td>801447001</td>\n",
       "      <td>0.030492</td>\n",
       "      <td>1</td>\n",
       "      <td>104</td>\n",
       "    </tr>\n",
       "    <tr>\n",
       "      <th>31787251</th>\n",
       "      <td>2020-09-22</td>\n",
       "      <td>18437941771381362708</td>\n",
       "      <td>907188001</td>\n",
       "      <td>0.050831</td>\n",
       "      <td>2</td>\n",
       "      <td>104</td>\n",
       "    </tr>\n",
       "    <tr>\n",
       "      <th>31776022</th>\n",
       "      <td>2020-09-22</td>\n",
       "      <td>18438270306572912089</td>\n",
       "      <td>751471043</td>\n",
       "      <td>0.033881</td>\n",
       "      <td>1</td>\n",
       "      <td>104</td>\n",
       "    </tr>\n",
       "    <tr>\n",
       "      <th>31779097</th>\n",
       "      <td>2020-09-22</td>\n",
       "      <td>18440902715633436014</td>\n",
       "      <td>918894002</td>\n",
       "      <td>0.016932</td>\n",
       "      <td>1</td>\n",
       "      <td>104</td>\n",
       "    </tr>\n",
       "  </tbody>\n",
       "</table>\n",
       "<p>755710 rows × 6 columns</p>\n",
       "</div>"
      ],
      "text/plain": [
       "              t_dat           customer_id  article_id     price  \\\n",
       "29030503 2020-07-15       272412481300040   778064028  0.008458   \n",
       "29064059 2020-07-15      1456826891333599   888294001  0.013542   \n",
       "29067103 2020-07-15      2133687643102426   843642001  0.042356   \n",
       "29027487 2020-07-15      6010692573790711   857812010  0.039661   \n",
       "29046403 2020-07-15      6171059100114610   815447007  0.006763   \n",
       "...             ...                   ...         ...       ...   \n",
       "31760188 2020-09-22  18435221511488011015   573085055  0.033881   \n",
       "31782234 2020-09-22  18436859303155335645   801447001  0.030492   \n",
       "31787251 2020-09-22  18437941771381362708   907188001  0.050831   \n",
       "31776022 2020-09-22  18438270306572912089   751471043  0.033881   \n",
       "31779097 2020-09-22  18440902715633436014   918894002  0.016932   \n",
       "\n",
       "          sales_channel_id  week  \n",
       "29030503                 1    95  \n",
       "29064059                 1    95  \n",
       "29067103                 2    95  \n",
       "29027487                 1    95  \n",
       "29046403                 2    95  \n",
       "...                    ...   ...  \n",
       "31760188                 1   104  \n",
       "31782234                 1   104  \n",
       "31787251                 2   104  \n",
       "31776022                 1   104  \n",
       "31779097                 1   104  \n",
       "\n",
       "[755710 rows x 6 columns]"
      ]
     },
     "execution_count": 201,
     "metadata": {},
     "output_type": "execute_result"
    }
   ],
   "source": [
    "#dorp any duplicates for week and customer_id \n",
    "transactions.drop_duplicates(['week', 'customer_id'])"
   ]
  },
  {
   "cell_type": "code",
   "execution_count": 202,
   "metadata": {
    "execution": {
     "iopub.execute_input": "2022-04-16T16:54:53.228505Z",
     "iopub.status.busy": "2022-04-16T16:54:53.227772Z",
     "iopub.status.idle": "2022-04-16T16:54:54.190001Z",
     "shell.execute_reply": "2022-04-16T16:54:54.188749Z",
     "shell.execute_reply.started": "2022-04-16T16:54:53.228453Z"
    },
    "id": "Ii-lbCSTAuwK"
   },
   "outputs": [],
   "source": [
    "#candidate bestsellers -> unique transactions + best sellers in previous week\n",
    "candidates_bestsellers = pd.merge(\n",
    "    unique_transactions,\n",
    "    bestsellers_previous_week,\n",
    "    on='week'\n",
    ")"
   ]
  },
  {
   "cell_type": "code",
   "execution_count": 203,
   "metadata": {
    "execution": {
     "iopub.execute_input": "2022-04-16T16:55:38.064413Z",
     "iopub.status.busy": "2022-04-16T16:55:38.06378Z",
     "iopub.status.idle": "2022-04-16T16:55:38.168415Z",
     "shell.execute_reply": "2022-04-16T16:55:38.167458Z",
     "shell.execute_reply.started": "2022-04-16T16:55:38.064363Z"
    },
    "id": "WGe27wcSAuwK"
   },
   "outputs": [],
   "source": [
    "#create test set transactions -> drop duplicates customer_id, week = test week -> the unique set of customer in final weeks\n",
    "test_set_transactions = unique_transactions.drop_duplicates('customer_id').reset_index(drop=True)\n",
    "test_set_transactions.week = test_week"
   ]
  },
  {
   "cell_type": "code",
   "execution_count": 204,
   "metadata": {
    "colab": {
     "base_uri": "https://localhost:8080/",
     "height": 653
    },
    "execution": {
     "iopub.execute_input": "2022-04-16T16:55:45.020084Z",
     "iopub.status.busy": "2022-04-16T16:55:45.01963Z",
     "iopub.status.idle": "2022-04-16T16:55:45.037194Z",
     "shell.execute_reply": "2022-04-16T16:55:45.036123Z",
     "shell.execute_reply.started": "2022-04-16T16:55:45.020041Z"
    },
    "id": "oyKH5dBxAuwK",
    "outputId": "49c90a0d-693d-48f9-ff8c-c6ce29c5e4f6"
   },
   "outputs": [
    {
     "data": {
      "text/html": [
       "<div>\n",
       "<style scoped>\n",
       "    .dataframe tbody tr th:only-of-type {\n",
       "        vertical-align: middle;\n",
       "    }\n",
       "\n",
       "    .dataframe tbody tr th {\n",
       "        vertical-align: top;\n",
       "    }\n",
       "\n",
       "    .dataframe thead th {\n",
       "        text-align: right;\n",
       "    }\n",
       "</style>\n",
       "<table border=\"1\" class=\"dataframe\">\n",
       "  <thead>\n",
       "    <tr style=\"text-align: right;\">\n",
       "      <th></th>\n",
       "      <th>t_dat</th>\n",
       "      <th>customer_id</th>\n",
       "      <th>sales_channel_id</th>\n",
       "      <th>week</th>\n",
       "    </tr>\n",
       "  </thead>\n",
       "  <tbody>\n",
       "    <tr>\n",
       "      <th>0</th>\n",
       "      <td>2020-07-15</td>\n",
       "      <td>272412481300040</td>\n",
       "      <td>1</td>\n",
       "      <td>105</td>\n",
       "    </tr>\n",
       "    <tr>\n",
       "      <th>1</th>\n",
       "      <td>2020-07-15</td>\n",
       "      <td>1456826891333599</td>\n",
       "      <td>1</td>\n",
       "      <td>105</td>\n",
       "    </tr>\n",
       "    <tr>\n",
       "      <th>2</th>\n",
       "      <td>2020-07-15</td>\n",
       "      <td>2133687643102426</td>\n",
       "      <td>2</td>\n",
       "      <td>105</td>\n",
       "    </tr>\n",
       "    <tr>\n",
       "      <th>3</th>\n",
       "      <td>2020-07-15</td>\n",
       "      <td>6010692573790711</td>\n",
       "      <td>1</td>\n",
       "      <td>105</td>\n",
       "    </tr>\n",
       "    <tr>\n",
       "      <th>4</th>\n",
       "      <td>2020-07-15</td>\n",
       "      <td>6171059100114610</td>\n",
       "      <td>2</td>\n",
       "      <td>105</td>\n",
       "    </tr>\n",
       "    <tr>\n",
       "      <th>...</th>\n",
       "      <td>...</td>\n",
       "      <td>...</td>\n",
       "      <td>...</td>\n",
       "      <td>...</td>\n",
       "    </tr>\n",
       "    <tr>\n",
       "      <th>437360</th>\n",
       "      <td>2020-09-22</td>\n",
       "      <td>18410229429441241008</td>\n",
       "      <td>2</td>\n",
       "      <td>105</td>\n",
       "    </tr>\n",
       "    <tr>\n",
       "      <th>437361</th>\n",
       "      <td>2020-09-22</td>\n",
       "      <td>18417769707947924979</td>\n",
       "      <td>2</td>\n",
       "      <td>105</td>\n",
       "    </tr>\n",
       "    <tr>\n",
       "      <th>437362</th>\n",
       "      <td>2020-09-22</td>\n",
       "      <td>18418054986721795659</td>\n",
       "      <td>2</td>\n",
       "      <td>105</td>\n",
       "    </tr>\n",
       "    <tr>\n",
       "      <th>437363</th>\n",
       "      <td>2020-09-22</td>\n",
       "      <td>18421175435799911749</td>\n",
       "      <td>2</td>\n",
       "      <td>105</td>\n",
       "    </tr>\n",
       "    <tr>\n",
       "      <th>437364</th>\n",
       "      <td>2020-09-22</td>\n",
       "      <td>18438270306572912089</td>\n",
       "      <td>1</td>\n",
       "      <td>105</td>\n",
       "    </tr>\n",
       "  </tbody>\n",
       "</table>\n",
       "<p>437365 rows × 4 columns</p>\n",
       "</div>"
      ],
      "text/plain": [
       "            t_dat           customer_id  sales_channel_id  week\n",
       "0      2020-07-15       272412481300040                 1   105\n",
       "1      2020-07-15      1456826891333599                 1   105\n",
       "2      2020-07-15      2133687643102426                 2   105\n",
       "3      2020-07-15      6010692573790711                 1   105\n",
       "4      2020-07-15      6171059100114610                 2   105\n",
       "...           ...                   ...               ...   ...\n",
       "437360 2020-09-22  18410229429441241008                 2   105\n",
       "437361 2020-09-22  18417769707947924979                 2   105\n",
       "437362 2020-09-22  18418054986721795659                 2   105\n",
       "437363 2020-09-22  18421175435799911749                 2   105\n",
       "437364 2020-09-22  18438270306572912089                 1   105\n",
       "\n",
       "[437365 rows x 4 columns]"
      ]
     },
     "execution_count": 204,
     "metadata": {},
     "output_type": "execute_result"
    }
   ],
   "source": [
    "#get the customer set in test week \n",
    "test_set_transactions"
   ]
  },
  {
   "cell_type": "code",
   "execution_count": 205,
   "metadata": {
    "execution": {
     "iopub.execute_input": "2022-04-16T16:55:58.921976Z",
     "iopub.status.busy": "2022-04-16T16:55:58.92166Z",
     "iopub.status.idle": "2022-04-16T16:55:59.465925Z",
     "shell.execute_reply": "2022-04-16T16:55:59.46506Z",
     "shell.execute_reply.started": "2022-04-16T16:55:58.921943Z"
    },
    "id": "c-qj8LdpAuwK"
   },
   "outputs": [],
   "source": [
    "#outer join two tables -> create candidates bestsellers in test week \n",
    "candidates_bestsellers_test_week = pd.merge(\n",
    "    test_set_transactions,\n",
    "    bestsellers_previous_week,\n",
    "    on='week'\n",
    ")"
   ]
  },
  {
   "cell_type": "code",
   "execution_count": 206,
   "metadata": {
    "execution": {
     "iopub.execute_input": "2022-04-16T16:56:10.119061Z",
     "iopub.status.busy": "2022-04-16T16:56:10.11826Z",
     "iopub.status.idle": "2022-04-16T16:56:11.325461Z",
     "shell.execute_reply": "2022-04-16T16:56:11.324762Z",
     "shell.execute_reply.started": "2022-04-16T16:56:10.119017Z"
    },
    "id": "EslELWTaAuwK"
   },
   "outputs": [],
   "source": [
    "candidates_bestsellers = pd.concat([candidates_bestsellers, candidates_bestsellers_test_week])\n",
    "candidates_bestsellers.drop(columns='bestseller_rank', inplace=True)"
   ]
  },
  {
   "cell_type": "code",
   "execution_count": 207,
   "metadata": {
    "colab": {
     "base_uri": "https://localhost:8080/",
     "height": 653
    },
    "execution": {
     "iopub.execute_input": "2022-04-16T16:56:19.255053Z",
     "iopub.status.busy": "2022-04-16T16:56:19.254726Z",
     "iopub.status.idle": "2022-04-16T16:56:19.271702Z",
     "shell.execute_reply": "2022-04-16T16:56:19.270702Z",
     "shell.execute_reply.started": "2022-04-16T16:56:19.255014Z"
    },
    "id": "zPM6JewDAuwL",
    "outputId": "0ea08118-0f69-4128-f7f5-9bb0190e7566"
   },
   "outputs": [
    {
     "data": {
      "text/html": [
       "<div>\n",
       "<style scoped>\n",
       "    .dataframe tbody tr th:only-of-type {\n",
       "        vertical-align: middle;\n",
       "    }\n",
       "\n",
       "    .dataframe tbody tr th {\n",
       "        vertical-align: top;\n",
       "    }\n",
       "\n",
       "    .dataframe thead th {\n",
       "        text-align: right;\n",
       "    }\n",
       "</style>\n",
       "<table border=\"1\" class=\"dataframe\">\n",
       "  <thead>\n",
       "    <tr style=\"text-align: right;\">\n",
       "      <th></th>\n",
       "      <th>t_dat</th>\n",
       "      <th>customer_id</th>\n",
       "      <th>sales_channel_id</th>\n",
       "      <th>week</th>\n",
       "      <th>article_id</th>\n",
       "      <th>price</th>\n",
       "    </tr>\n",
       "  </thead>\n",
       "  <tbody>\n",
       "    <tr>\n",
       "      <th>0</th>\n",
       "      <td>2020-07-22</td>\n",
       "      <td>200292573348128</td>\n",
       "      <td>2</td>\n",
       "      <td>96</td>\n",
       "      <td>760084003</td>\n",
       "      <td>0.025094</td>\n",
       "    </tr>\n",
       "    <tr>\n",
       "      <th>1</th>\n",
       "      <td>2020-07-22</td>\n",
       "      <td>200292573348128</td>\n",
       "      <td>2</td>\n",
       "      <td>96</td>\n",
       "      <td>866731001</td>\n",
       "      <td>0.024919</td>\n",
       "    </tr>\n",
       "    <tr>\n",
       "      <th>2</th>\n",
       "      <td>2020-07-22</td>\n",
       "      <td>200292573348128</td>\n",
       "      <td>2</td>\n",
       "      <td>96</td>\n",
       "      <td>600886001</td>\n",
       "      <td>0.022980</td>\n",
       "    </tr>\n",
       "    <tr>\n",
       "      <th>3</th>\n",
       "      <td>2020-07-22</td>\n",
       "      <td>200292573348128</td>\n",
       "      <td>2</td>\n",
       "      <td>96</td>\n",
       "      <td>706016001</td>\n",
       "      <td>0.033197</td>\n",
       "    </tr>\n",
       "    <tr>\n",
       "      <th>4</th>\n",
       "      <td>2020-07-22</td>\n",
       "      <td>200292573348128</td>\n",
       "      <td>2</td>\n",
       "      <td>96</td>\n",
       "      <td>372860002</td>\n",
       "      <td>0.013193</td>\n",
       "    </tr>\n",
       "    <tr>\n",
       "      <th>...</th>\n",
       "      <td>...</td>\n",
       "      <td>...</td>\n",
       "      <td>...</td>\n",
       "      <td>...</td>\n",
       "      <td>...</td>\n",
       "      <td>...</td>\n",
       "    </tr>\n",
       "    <tr>\n",
       "      <th>5248375</th>\n",
       "      <td>2020-09-22</td>\n",
       "      <td>18438270306572912089</td>\n",
       "      <td>1</td>\n",
       "      <td>105</td>\n",
       "      <td>915529003</td>\n",
       "      <td>0.033439</td>\n",
       "    </tr>\n",
       "    <tr>\n",
       "      <th>5248376</th>\n",
       "      <td>2020-09-22</td>\n",
       "      <td>18438270306572912089</td>\n",
       "      <td>1</td>\n",
       "      <td>105</td>\n",
       "      <td>915529005</td>\n",
       "      <td>0.033417</td>\n",
       "    </tr>\n",
       "    <tr>\n",
       "      <th>5248377</th>\n",
       "      <td>2020-09-22</td>\n",
       "      <td>18438270306572912089</td>\n",
       "      <td>1</td>\n",
       "      <td>105</td>\n",
       "      <td>448509014</td>\n",
       "      <td>0.041630</td>\n",
       "    </tr>\n",
       "    <tr>\n",
       "      <th>5248378</th>\n",
       "      <td>2020-09-22</td>\n",
       "      <td>18438270306572912089</td>\n",
       "      <td>1</td>\n",
       "      <td>105</td>\n",
       "      <td>762846027</td>\n",
       "      <td>0.025005</td>\n",
       "    </tr>\n",
       "    <tr>\n",
       "      <th>5248379</th>\n",
       "      <td>2020-09-22</td>\n",
       "      <td>18438270306572912089</td>\n",
       "      <td>1</td>\n",
       "      <td>105</td>\n",
       "      <td>714790020</td>\n",
       "      <td>0.049951</td>\n",
       "    </tr>\n",
       "  </tbody>\n",
       "</table>\n",
       "<p>13389576 rows × 6 columns</p>\n",
       "</div>"
      ],
      "text/plain": [
       "             t_dat           customer_id  sales_channel_id  week  article_id  \\\n",
       "0       2020-07-22       200292573348128                 2    96   760084003   \n",
       "1       2020-07-22       200292573348128                 2    96   866731001   \n",
       "2       2020-07-22       200292573348128                 2    96   600886001   \n",
       "3       2020-07-22       200292573348128                 2    96   706016001   \n",
       "4       2020-07-22       200292573348128                 2    96   372860002   \n",
       "...            ...                   ...               ...   ...         ...   \n",
       "5248375 2020-09-22  18438270306572912089                 1   105   915529003   \n",
       "5248376 2020-09-22  18438270306572912089                 1   105   915529005   \n",
       "5248377 2020-09-22  18438270306572912089                 1   105   448509014   \n",
       "5248378 2020-09-22  18438270306572912089                 1   105   762846027   \n",
       "5248379 2020-09-22  18438270306572912089                 1   105   714790020   \n",
       "\n",
       "            price  \n",
       "0        0.025094  \n",
       "1        0.024919  \n",
       "2        0.022980  \n",
       "3        0.033197  \n",
       "4        0.013193  \n",
       "...           ...  \n",
       "5248375  0.033439  \n",
       "5248376  0.033417  \n",
       "5248377  0.041630  \n",
       "5248378  0.025005  \n",
       "5248379  0.049951  \n",
       "\n",
       "[13389576 rows x 6 columns]"
      ]
     },
     "execution_count": 207,
     "metadata": {},
     "output_type": "execute_result"
    }
   ],
   "source": [
    "candidates_bestsellers"
   ]
  },
  {
   "cell_type": "markdown",
   "metadata": {},
   "source": [
    "### LightFM (Light Factorization machine)"
   ]
  },
  {
   "cell_type": "code",
   "execution_count": 208,
   "metadata": {},
   "outputs": [],
   "source": [
    "lightfm_recomm = pd.read_parquet('lightfm_recomm.parquet')"
   ]
  },
  {
   "cell_type": "code",
   "execution_count": 518,
   "metadata": {},
   "outputs": [],
   "source": [
    "from lightfm import LightFM\n",
    "from lightfm.data import Dataset\n",
    "\n",
    "# default number of recommendations\n",
    "K = 5\n",
    "EPOCHS = 10\n",
    "\n",
    "# model learning rate\n",
    "LEARNING_RATE = 0.25\n",
    "# no of latent factors\n",
    "NO_COMPONENTS = 20\n",
    "\n",
    "# no of threads to fit model\n",
    "NO_THREADS = 32\n",
    "# regularisation for both user and item features\n",
    "ITEM_ALPHA=1e-6\n",
    "USER_ALPHA=1e-6\n",
    "SEED = 42\n",
    "np.random.seed(SEED)"
   ]
  },
  {
   "cell_type": "code",
   "execution_count": 465,
   "metadata": {},
   "outputs": [
    {
     "name": "stdout",
     "output_type": "stream",
     "text": [
      "Number of users: 1371980, Number of topics: 105542.\n"
     ]
    }
   ],
   "source": [
    "#create lightFM dataset\n",
    "dataset = Dataset()\n",
    "dataset.fit(users=customers['customer_id'], \n",
    "            items=articles['article_id'])\n",
    "\n",
    "num_users, num_topics = dataset.interactions_shape()\n",
    "print(f'Number of users: {num_users}, Number of topics: {num_topics}.')"
   ]
  },
  {
   "cell_type": "code",
   "execution_count": 243,
   "metadata": {},
   "outputs": [],
   "source": [
    "customer_ids = []\n",
    "preds = []\n",
    "weeks = []"
   ]
  },
  {
   "cell_type": "code",
   "execution_count": 30,
   "metadata": {},
   "outputs": [
    {
     "name": "stderr",
     "output_type": "stream",
     "text": [
      "  0%|                                                    | 0/11 [00:00<?, ?it/s]\n"
     ]
    },
    {
     "ename": "NameError",
     "evalue": "name 'Dataset' is not defined",
     "output_type": "error",
     "traceback": [
      "\u001b[0;31m---------------------------------------------------------------------------\u001b[0m",
      "\u001b[0;31mNameError\u001b[0m                                 Traceback (most recent call last)",
      "\u001b[0;32m/var/folders/gc/gbnv_qb1123_b7xnyw7jd3bm0000gn/T/ipykernel_96861/61415469.py\u001b[0m in \u001b[0;36m<module>\u001b[0;34m\u001b[0m\n\u001b[1;32m      1\u001b[0m \u001b[0;32mfor\u001b[0m \u001b[0mweek\u001b[0m \u001b[0;32min\u001b[0m \u001b[0mtqdm\u001b[0m\u001b[0;34m(\u001b[0m\u001b[0mrange\u001b[0m\u001b[0;34m(\u001b[0m\u001b[0mtransactions\u001b[0m\u001b[0;34m.\u001b[0m\u001b[0mweek\u001b[0m\u001b[0;34m.\u001b[0m\u001b[0mmax\u001b[0m\u001b[0;34m(\u001b[0m\u001b[0;34m)\u001b[0m \u001b[0;34m-\u001b[0m \u001b[0;36m9\u001b[0m\u001b[0;34m,\u001b[0m\u001b[0mtest_week\u001b[0m\u001b[0;34m+\u001b[0m\u001b[0;36m1\u001b[0m\u001b[0;34m)\u001b[0m\u001b[0;34m)\u001b[0m\u001b[0;34m:\u001b[0m\u001b[0;34m\u001b[0m\u001b[0;34m\u001b[0m\u001b[0m\n\u001b[0;32m----> 2\u001b[0;31m     \u001b[0mdataset\u001b[0m \u001b[0;34m=\u001b[0m \u001b[0mDataset\u001b[0m\u001b[0;34m(\u001b[0m\u001b[0;34m)\u001b[0m\u001b[0;34m\u001b[0m\u001b[0;34m\u001b[0m\u001b[0m\n\u001b[0m\u001b[1;32m      3\u001b[0m     dataset.fit(users=transactions[transactions.week == week]['customer_id'].unique(), \n\u001b[1;32m      4\u001b[0m             items=transactions[transactions.week == week]['article_id'].unique())\n\u001b[1;32m      5\u001b[0m     \u001b[0mnum_users\u001b[0m\u001b[0;34m,\u001b[0m \u001b[0mnum_topics\u001b[0m \u001b[0;34m=\u001b[0m \u001b[0mdataset\u001b[0m\u001b[0;34m.\u001b[0m\u001b[0minteractions_shape\u001b[0m\u001b[0;34m(\u001b[0m\u001b[0;34m)\u001b[0m\u001b[0;34m\u001b[0m\u001b[0;34m\u001b[0m\u001b[0m\n",
      "\u001b[0;31mNameError\u001b[0m: name 'Dataset' is not defined"
     ]
    }
   ],
   "source": [
    "for week in tqdm(range(transactions.week.max() - 10,test_week+1)): \n",
    "    dataset = Dataset()\n",
    "    dataset.fit(users=transactions[transactions.week == week]['customer_id'].unique(), \n",
    "            items=transactions[transactions.week == week]['article_id'].unique())\n",
    "    num_users, num_topics = dataset.interactions_shape()\n",
    "    train_set = transactions[transactions.t_dat == week]\n",
    "    train_customer_id = train_set.customer_id.tolist()\n",
    "    train_article_id = train_set.article_id.tolist()\n",
    "    (interactions, weights) = dataset.build_interactions(tuple(map(lambda x,y:(x,y),train_customer_id,train_article_id)))\n",
    "    lightfm = LightFM(loss='warp', no_components=NO_COMPONENTS, \n",
    "                 learning_rate=LEARNING_RATE,                 \n",
    "                 random_state=np.random.RandomState(SEED))\n",
    "    lightfm.fit(interactions=interactions, epochs=EPOCHS, verbose=1)\n",
    "    uid_map, ufeature_map, iid_map, ifeature_map = dataset.mapping() \n",
    "    inv_uid_map = {v:k for k, v in uid_map.items()}\n",
    "    inv_iid_map = {v:k for k, v in iid_map.items()}\n",
    "    test_X = transactions[transactions.week == week]['customer_id'].unique()\n",
    "    lfn_user = lambda x: uid_map[x]\n",
    "    test_X_m = [lfn_user(tx) for tx in test_X]\n",
    "    for usr_ in tqdm(test_X_m, total = len(test_X_m)):\n",
    "        m_opt = lightfm.predict(np.array([usr_] * len(iid_map)), np.array(list(iid_map.values())))\n",
    "        pred = np.argsort(-m_opt)[:K]\n",
    "        customer_ids.extend([inv_uid_map[usr_] for _ in range(K)])\n",
    "        preds.extend([inv_iid_map[p] for p in pred])\n",
    "        weeks.extend([week for _ in range(K)])"
   ]
  },
  {
   "cell_type": "code",
   "execution_count": 273,
   "metadata": {},
   "outputs": [],
   "source": [
    "lightfm_recomm = pd.DataFrame()\n",
    "lightfm_recomm['customer_id'] = customer_ids\n",
    "lightfm_recomm['article_id'] = preds\n",
    "lightfm_recomm['week'] = weeks"
   ]
  },
  {
   "cell_type": "code",
   "execution_count": 274,
   "metadata": {},
   "outputs": [
    {
     "data": {
      "text/html": [
       "<div>\n",
       "<style scoped>\n",
       "    .dataframe tbody tr th:only-of-type {\n",
       "        vertical-align: middle;\n",
       "    }\n",
       "\n",
       "    .dataframe tbody tr th {\n",
       "        vertical-align: top;\n",
       "    }\n",
       "\n",
       "    .dataframe thead th {\n",
       "        text-align: right;\n",
       "    }\n",
       "</style>\n",
       "<table border=\"1\" class=\"dataframe\">\n",
       "  <thead>\n",
       "    <tr style=\"text-align: right;\">\n",
       "      <th></th>\n",
       "      <th>customer_id</th>\n",
       "      <th>article_id</th>\n",
       "      <th>week</th>\n",
       "    </tr>\n",
       "  </thead>\n",
       "  <tbody>\n",
       "    <tr>\n",
       "      <th>0</th>\n",
       "      <td>272412481300040</td>\n",
       "      <td>860334001</td>\n",
       "      <td>95</td>\n",
       "    </tr>\n",
       "    <tr>\n",
       "      <th>1</th>\n",
       "      <td>272412481300040</td>\n",
       "      <td>736624001</td>\n",
       "      <td>95</td>\n",
       "    </tr>\n",
       "    <tr>\n",
       "      <th>2</th>\n",
       "      <td>272412481300040</td>\n",
       "      <td>819147001</td>\n",
       "      <td>95</td>\n",
       "    </tr>\n",
       "    <tr>\n",
       "      <th>3</th>\n",
       "      <td>272412481300040</td>\n",
       "      <td>659832014</td>\n",
       "      <td>95</td>\n",
       "    </tr>\n",
       "    <tr>\n",
       "      <th>4</th>\n",
       "      <td>272412481300040</td>\n",
       "      <td>773720001</td>\n",
       "      <td>95</td>\n",
       "    </tr>\n",
       "    <tr>\n",
       "      <th>...</th>\n",
       "      <td>...</td>\n",
       "      <td>...</td>\n",
       "      <td>...</td>\n",
       "    </tr>\n",
       "    <tr>\n",
       "      <th>3778545</th>\n",
       "      <td>18440902715633436014</td>\n",
       "      <td>791926001</td>\n",
       "      <td>104</td>\n",
       "    </tr>\n",
       "    <tr>\n",
       "      <th>3778546</th>\n",
       "      <td>18440902715633436014</td>\n",
       "      <td>631536021</td>\n",
       "      <td>104</td>\n",
       "    </tr>\n",
       "    <tr>\n",
       "      <th>3778547</th>\n",
       "      <td>18440902715633436014</td>\n",
       "      <td>828116001</td>\n",
       "      <td>104</td>\n",
       "    </tr>\n",
       "    <tr>\n",
       "      <th>3778548</th>\n",
       "      <td>18440902715633436014</td>\n",
       "      <td>567532030</td>\n",
       "      <td>104</td>\n",
       "    </tr>\n",
       "    <tr>\n",
       "      <th>3778549</th>\n",
       "      <td>18440902715633436014</td>\n",
       "      <td>905073001</td>\n",
       "      <td>104</td>\n",
       "    </tr>\n",
       "  </tbody>\n",
       "</table>\n",
       "<p>3778550 rows × 3 columns</p>\n",
       "</div>"
      ],
      "text/plain": [
       "                  customer_id  article_id  week\n",
       "0             272412481300040   860334001    95\n",
       "1             272412481300040   736624001    95\n",
       "2             272412481300040   819147001    95\n",
       "3             272412481300040   659832014    95\n",
       "4             272412481300040   773720001    95\n",
       "...                       ...         ...   ...\n",
       "3778545  18440902715633436014   791926001   104\n",
       "3778546  18440902715633436014   631536021   104\n",
       "3778547  18440902715633436014   828116001   104\n",
       "3778548  18440902715633436014   567532030   104\n",
       "3778549  18440902715633436014   905073001   104\n",
       "\n",
       "[3778550 rows x 3 columns]"
      ]
     },
     "execution_count": 274,
     "metadata": {},
     "output_type": "execute_result"
    }
   ],
   "source": [
    "lightfm_recomm"
   ]
  },
  {
   "cell_type": "code",
   "execution_count": null,
   "metadata": {},
   "outputs": [],
   "source": []
  },
  {
   "cell_type": "code",
   "execution_count": 267,
   "metadata": {},
   "outputs": [],
   "source": [
    "#lightfm_recomm.to_parquet('lightfm_recomm.parquet')"
   ]
  },
  {
   "cell_type": "code",
   "execution_count": 402,
   "metadata": {},
   "outputs": [],
   "source": [
    "lightfm_recomm = pd.merge(lightfm_recomm, mean_price, on=['week', 'article_id'])"
   ]
  },
  {
   "cell_type": "code",
   "execution_count": 403,
   "metadata": {},
   "outputs": [
    {
     "data": {
      "text/html": [
       "<div>\n",
       "<style scoped>\n",
       "    .dataframe tbody tr th:only-of-type {\n",
       "        vertical-align: middle;\n",
       "    }\n",
       "\n",
       "    .dataframe tbody tr th {\n",
       "        vertical-align: top;\n",
       "    }\n",
       "\n",
       "    .dataframe thead th {\n",
       "        text-align: right;\n",
       "    }\n",
       "</style>\n",
       "<table border=\"1\" class=\"dataframe\">\n",
       "  <thead>\n",
       "    <tr style=\"text-align: right;\">\n",
       "      <th></th>\n",
       "      <th>customer_id</th>\n",
       "      <th>article_id</th>\n",
       "      <th>week</th>\n",
       "      <th>price</th>\n",
       "    </tr>\n",
       "  </thead>\n",
       "  <tbody>\n",
       "    <tr>\n",
       "      <th>0</th>\n",
       "      <td>272412481300040</td>\n",
       "      <td>860334001</td>\n",
       "      <td>95</td>\n",
       "      <td>0.013217</td>\n",
       "    </tr>\n",
       "    <tr>\n",
       "      <th>1</th>\n",
       "      <td>1898731674622033915</td>\n",
       "      <td>860334001</td>\n",
       "      <td>95</td>\n",
       "      <td>0.013217</td>\n",
       "    </tr>\n",
       "    <tr>\n",
       "      <th>2</th>\n",
       "      <td>4581772594526530267</td>\n",
       "      <td>860334001</td>\n",
       "      <td>95</td>\n",
       "      <td>0.013217</td>\n",
       "    </tr>\n",
       "    <tr>\n",
       "      <th>3</th>\n",
       "      <td>5864946734502883915</td>\n",
       "      <td>860334001</td>\n",
       "      <td>95</td>\n",
       "      <td>0.013217</td>\n",
       "    </tr>\n",
       "    <tr>\n",
       "      <th>4</th>\n",
       "      <td>6634082454694227640</td>\n",
       "      <td>860334001</td>\n",
       "      <td>95</td>\n",
       "      <td>0.013217</td>\n",
       "    </tr>\n",
       "    <tr>\n",
       "      <th>...</th>\n",
       "      <td>...</td>\n",
       "      <td>...</td>\n",
       "      <td>...</td>\n",
       "      <td>...</td>\n",
       "    </tr>\n",
       "    <tr>\n",
       "      <th>3778545</th>\n",
       "      <td>18159301814341572499</td>\n",
       "      <td>884147001</td>\n",
       "      <td>104</td>\n",
       "      <td>0.022017</td>\n",
       "    </tr>\n",
       "    <tr>\n",
       "      <th>3778546</th>\n",
       "      <td>18181874817344633390</td>\n",
       "      <td>755876005</td>\n",
       "      <td>104</td>\n",
       "      <td>0.052525</td>\n",
       "    </tr>\n",
       "    <tr>\n",
       "      <th>3778547</th>\n",
       "      <td>18339246605359564226</td>\n",
       "      <td>915292001</td>\n",
       "      <td>104</td>\n",
       "      <td>0.024763</td>\n",
       "    </tr>\n",
       "    <tr>\n",
       "      <th>3778548</th>\n",
       "      <td>18378774341933120540</td>\n",
       "      <td>901452002</td>\n",
       "      <td>104</td>\n",
       "      <td>0.031424</td>\n",
       "    </tr>\n",
       "    <tr>\n",
       "      <th>3778549</th>\n",
       "      <td>18432753550436772025</td>\n",
       "      <td>751288001</td>\n",
       "      <td>104</td>\n",
       "      <td>0.010153</td>\n",
       "    </tr>\n",
       "  </tbody>\n",
       "</table>\n",
       "<p>3778550 rows × 4 columns</p>\n",
       "</div>"
      ],
      "text/plain": [
       "                  customer_id  article_id  week     price\n",
       "0             272412481300040   860334001    95  0.013217\n",
       "1         1898731674622033915   860334001    95  0.013217\n",
       "2         4581772594526530267   860334001    95  0.013217\n",
       "3         5864946734502883915   860334001    95  0.013217\n",
       "4         6634082454694227640   860334001    95  0.013217\n",
       "...                       ...         ...   ...       ...\n",
       "3778545  18159301814341572499   884147001   104  0.022017\n",
       "3778546  18181874817344633390   755876005   104  0.052525\n",
       "3778547  18339246605359564226   915292001   104  0.024763\n",
       "3778548  18378774341933120540   901452002   104  0.031424\n",
       "3778549  18432753550436772025   751288001   104  0.010153\n",
       "\n",
       "[3778550 rows x 4 columns]"
      ]
     },
     "execution_count": 403,
     "metadata": {},
     "output_type": "execute_result"
    }
   ],
   "source": [
    "lightfm_recomm"
   ]
  },
  {
   "cell_type": "code",
   "execution_count": 404,
   "metadata": {},
   "outputs": [],
   "source": [
    "lightfm_recomm['week'] = 1 + lightfm_recomm['week']"
   ]
  },
  {
   "cell_type": "markdown",
   "metadata": {
    "id": "Qes4mQHn9kHD"
   },
   "source": [
    "## Item-Based collbrative filtering - using Probabilistic Matrix Factorization"
   ]
  },
  {
   "cell_type": "code",
   "execution_count": 7,
   "metadata": {},
   "outputs": [],
   "source": [
    "from sklearn.metrics.pairwise import cosine_similarity"
   ]
  },
  {
   "cell_type": "code",
   "execution_count": 8,
   "metadata": {},
   "outputs": [],
   "source": [
    "class ItemBased_RecSys:\n",
    "    ''' Collaborative filtering using a custom sim(u,u'). '''\n",
    "\n",
    "    def __init__(self, positive_transactions, num_components=10):\n",
    "        ''' Constructor '''\n",
    "        self.positive_transactions = positive_transactions\n",
    "        self.negative_transactions = self._generate_negative_transactions_()\n",
    "        self.transactions = pd.concat([self.positive_transactions, self.negative_transactions])\n",
    "        self.customers = self.transactions.customer_id.values\n",
    "        self.articles = self.transactions.article_id.values\n",
    "        self.bought = self.transactions.bought.values\n",
    "        self.num_components = num_components\n",
    "        self.customer_id2index = {c: i for i, c in enumerate(np.unique(self.customers))}\n",
    "        self.article_id2index = {a: i for i, a in enumerate(np.unique(self.articles))}\n",
    "    \n",
    "    def _generate_negative_transactions_(self): \n",
    "        \n",
    "        negative_samples = pd.DataFrame({\n",
    "    'article_id': np.random.choice(transactions.article_id.unique(), self.positive_transactions.shape[0]),\n",
    "    'customer_id': np.random.choice(transactions.customer_id.unique(), self.positive_transactions.shape[0]),\n",
    "    'bought': np.zeros(self.positive_transactions.shape[0])\n",
    "})       \n",
    "        return negative_samples\n",
    "    \n",
    "    def __sdg__(self):\n",
    "        for idx in tqdm(self.training_indices):\n",
    "            # Get the current sample\n",
    "            customer_id = self.customers[idx]\n",
    "            article_id = self.articles[idx]\n",
    "            bought = self.bought[idx]\n",
    "\n",
    "            # Get the index of the user and the article\n",
    "            customer_index = self.customer_id2index[customer_id]\n",
    "            article_index = self.article_id2index[article_id]\n",
    "\n",
    "            # Compute the prediction and the error\n",
    "            prediction = self.predict_single(customer_index, article_index)\n",
    "            error = (bought - prediction) # error\n",
    "            \n",
    "            # Update latent factors in terms of the learning rate and the observed error\n",
    "            self.customers_latent_matrix[customer_index] += self.learning_rate * \\\n",
    "                                    (error * self.articles_latent_matrix[article_index] - \\\n",
    "                                     self.lmbda * self.customers_latent_matrix[customer_index])\n",
    "            self.articles_latent_matrix[article_index] += self.learning_rate * \\\n",
    "                                    (error * self.customers_latent_matrix[customer_index] - \\\n",
    "                                     self.lmbda * self.articles_latent_matrix[article_index])\n",
    "                \n",
    "                \n",
    "    def fit(self, n_epochs=1, learning_rate=0.001, lmbda=0.1):\n",
    "        ''' Compute the matrix factorization R = P x Q '''\n",
    "        self.learning_rate = learning_rate\n",
    "        self.lmbda = lmbda\n",
    "        n_samples = self.transactions.shape[0]\n",
    "        \n",
    "        # Initialize latent matrices\n",
    "        self.customers_latent_matrix = np.random.normal(scale=1., size=(len(np.unique(self.customers)), self.num_components))\n",
    "        self.articles_latent_matrix = np.random.normal(scale=1., size=(len(np.unique(self.articles)), self.num_components))\n",
    "\n",
    "        for epoch in range(n_epochs):\n",
    "            print('Epoch: {}'.format(epoch))\n",
    "            self.training_indices = np.arange(n_samples)\n",
    "            \n",
    "            # Shuffle training samples and follow stochastic gradient descent\n",
    "            np.random.shuffle(self.training_indices)\n",
    "            self.__sdg__()\n",
    "\n",
    "    def predict_single(self, customer_index, article_index):\n",
    "        ''' Make a prediction for an specific user and article '''\n",
    "        prediction = np.dot(self.customers_latent_matrix[customer_index], self.articles_latent_matrix[article_index])\n",
    "        prediction = np.clip(prediction, 0, 1)\n",
    "        \n",
    "        return prediction\n",
    "\n",
    "    def default_recommendation(self):\n",
    "        ''' Calculate time decaying popularity '''\n",
    "        # Calculate time decaying popularity. This leads to items bought more recently having more weight in the popularity list.\n",
    "        # In simple words, item A bought 5 times on the first day of the train period is inferior than item B bought 4 times on the last day of the train period.\n",
    "        self.positive_transactions['pop_factor'] = self.positive_transactions['t_dat'].apply(lambda x: 1/(datetime.datetime(2020,9,23) - x).days)\n",
    "        transactions_by_article = self.positive_transactions[['article_id', 'pop_factor']].groupby('article_id').sum().reset_index()\n",
    "        return transactions_by_article.sort_values(by='pop_factor', ascending=False)['article_id'].values[:4]\n",
    "\n",
    "\n",
    "    def predict(self, customers, week):\n",
    "        ''' Make recommendations '''\n",
    "        recommendations = []\n",
    "        current_week = [] \n",
    "        customer_ids = []\n",
    "        self.articles_latent_matrix[np.isnan(self.articles_latent_matrix)] = 0\n",
    "        # Compute similarity matrix (cosine)\n",
    "        similarity_matrix = cosine_similarity(self.articles_latent_matrix, self.articles_latent_matrix, dense_output=False)\n",
    "\n",
    "        # Convert similarity matrix into a matrix containing the 12 most similar items' index for each item\n",
    "        similarity_matrix = np.argsort(similarity_matrix, axis=1)\n",
    "        similarity_matrix = similarity_matrix[:, -4:]\n",
    "\n",
    "        # Get default recommendation (time decay popularity)\n",
    "        default_recommendation = self.default_recommendation()\n",
    "\n",
    "        # Group articles by user and articles to compute the number of times each article has been bought by each user\n",
    "        transactions_by_customer = self.positive_transactions[['customer_id', 'article_id', 'bought']].groupby(['customer_id', 'article_id']).count().reset_index()\n",
    "        most_bought_article = transactions_by_customer.loc[transactions_by_customer.groupby('customer_id').bought.idxmax()]['article_id'].values\n",
    "\n",
    "        # Make predictions\n",
    "        for customer in tqdm(customers):\n",
    "            try:\n",
    "                rec_aux1 = []\n",
    "                rec_aux2 = []\n",
    "                aux = []\n",
    "\n",
    "                # Retrieve the most bought article by customer\n",
    "                user_most_bought_article_id = most_bought_article[self.customer_id2index[customer]]\n",
    "\n",
    "                # Using the similarity matrix, get the 4 most similar articles\n",
    "                rec_aux1 = self.articles[similarity_matrix[self.article_id2index[user_most_bought_article_id]]]\n",
    "                # Return the half of the default recommendation\n",
    "                rec_aux2 = default_recommendation\n",
    "\n",
    "                # Merge half of both recommendation lists\n",
    "                for rec_idx in range(2):\n",
    "                    aux.append(rec_aux2[rec_idx])\n",
    "                    aux.append(rec_aux1[rec_idx])\n",
    "\n",
    "                recommendations.extend(list(aux))\n",
    "                customer_ids.extend([customer for _ in range(4)])\n",
    "                current_week.extend([week for _ in range(4)])\n",
    "            except:\n",
    "                # Return the default recommendation\n",
    "                recommendations.extend(list(default_recommendation))\n",
    "                customer_ids.extend([customer for _ in range(4)])\n",
    "                current_week.extend([week for _ in range(4)])\n",
    "        #print(customer_ids)\n",
    "          \n",
    "        return customer_ids, recommendations, current_week\n",
    "    \n",
    "#         return pd.DataFrame({\n",
    "#             'customer_id': customers,\n",
    "#             'prediction': recommendations,\n",
    "#         })\n",
    "            "
   ]
  },
  {
   "cell_type": "code",
   "execution_count": 9,
   "metadata": {},
   "outputs": [],
   "source": [
    "import datetime"
   ]
  },
  {
   "cell_type": "code",
   "execution_count": 10,
   "metadata": {},
   "outputs": [
    {
     "name": "stderr",
     "output_type": "stream",
     "text": [
      "\r",
      "  0%|                                                     | 0/1 [00:00<?, ?it/s]"
     ]
    },
    {
     "name": "stdout",
     "output_type": "stream",
     "text": [
      "Epoch: 0\n"
     ]
    },
    {
     "name": "stderr",
     "output_type": "stream",
     "text": [
      "\n",
      "  0%|                                                | 0/480622 [00:00<?, ?it/s]\u001b[A\n",
      "  1%|▎                                 | 3610/480622 [00:00<00:13, 36085.24it/s]\u001b[A\n",
      "  2%|▌                                 | 7219/480622 [00:00<00:13, 35496.44it/s]\u001b[A\n",
      "  2%|▋                                | 10781/480622 [00:00<00:13, 35551.25it/s]\u001b[A\n",
      "  3%|▉                                | 14372/480622 [00:00<00:13, 35689.98it/s]\u001b[A\n",
      "  4%|█▏                               | 17942/480622 [00:00<00:12, 35591.90it/s]\u001b[A\n",
      "  4%|█▍                               | 21510/480622 [00:00<00:12, 35620.65it/s]\u001b[A\n",
      "  5%|█▋                               | 25073/480622 [00:00<00:13, 34932.24it/s]\u001b[A\n",
      "  6%|█▉                               | 28569/480622 [00:00<00:13, 34575.44it/s]\u001b[A\n",
      "  7%|██▏                              | 32029/480622 [00:00<00:12, 34563.55it/s]\u001b[A\n",
      "  7%|██▍                              | 35487/480622 [00:01<00:13, 34151.27it/s]\u001b[A\n",
      "  8%|██▋                              | 38915/480622 [00:01<00:12, 34187.55it/s]\u001b[A\n",
      "  9%|██▉                              | 42335/480622 [00:01<00:12, 33932.36it/s]\u001b[A\n",
      " 10%|███▏                             | 45855/480622 [00:01<00:12, 34310.38it/s]\u001b[A\n",
      " 10%|███▍                             | 49379/480622 [00:01<00:12, 34586.50it/s]\u001b[A\n",
      " 11%|███▋                             | 52839/480622 [00:01<00:12, 34549.69it/s]\u001b[A\n",
      " 12%|███▊                             | 56396/480622 [00:01<00:12, 34853.23it/s]\u001b[A\n",
      " 12%|████                             | 59883/480622 [00:01<00:12, 34801.53it/s]\u001b[A\n",
      " 13%|████▎                            | 63376/480622 [00:01<00:11, 34839.35it/s]\u001b[A\n",
      " 14%|████▌                            | 66926/480622 [00:01<00:11, 35035.33it/s]\u001b[A\n",
      " 15%|████▊                            | 70501/480622 [00:02<00:11, 35247.48it/s]\u001b[A\n",
      " 15%|█████                            | 74026/480622 [00:02<00:11, 35217.49it/s]\u001b[A\n",
      " 16%|█████▎                           | 77548/480622 [00:02<00:11, 35045.08it/s]\u001b[A\n",
      " 17%|█████▌                           | 81053/480622 [00:02<00:11, 34394.35it/s]\u001b[A\n",
      " 18%|█████▊                           | 84496/480622 [00:02<00:11, 34085.41it/s]\u001b[A\n",
      " 18%|██████                           | 87907/480622 [00:02<00:11, 33750.66it/s]\u001b[A\n",
      " 19%|██████▎                          | 91288/480622 [00:02<00:11, 33766.42it/s]\u001b[A\n",
      " 20%|██████▌                          | 94743/480622 [00:02<00:11, 33996.85it/s]\u001b[A\n",
      " 20%|██████▋                          | 98295/480622 [00:02<00:11, 34448.95it/s]\u001b[A\n",
      " 21%|██████▊                         | 102037/480622 [00:02<00:10, 35332.74it/s]\u001b[A\n",
      " 22%|███████                         | 105816/480622 [00:03<00:10, 36064.43it/s]\u001b[A\n",
      " 23%|███████▎                        | 109424/480622 [00:03<00:10, 36027.49it/s]\u001b[A\n",
      " 24%|███████▌                        | 113181/480622 [00:03<00:10, 36485.81it/s]\u001b[A\n",
      " 24%|███████▊                        | 116831/480622 [00:03<00:09, 36416.94it/s]\u001b[A\n",
      " 25%|████████                        | 120598/480622 [00:03<00:09, 36789.53it/s]\u001b[A\n",
      " 26%|████████▎                       | 124396/480622 [00:03<00:09, 37143.24it/s]\u001b[A\n",
      " 27%|████████▌                       | 128141/480622 [00:03<00:09, 37233.56it/s]\u001b[A\n",
      " 27%|████████▊                       | 131865/480622 [00:03<00:09, 36202.05it/s]\u001b[A\n",
      " 28%|█████████                       | 135492/480622 [00:03<00:09, 35472.79it/s]\u001b[A\n",
      " 29%|█████████▎                      | 139046/480622 [00:03<00:09, 34748.72it/s]\u001b[A\n",
      " 30%|█████████▍                      | 142527/480622 [00:04<00:09, 34515.45it/s]\u001b[A\n",
      " 30%|█████████▋                      | 145983/480622 [00:04<00:09, 34301.06it/s]\u001b[A\n",
      " 31%|█████████▉                      | 149468/480622 [00:04<00:09, 34460.22it/s]\u001b[A\n",
      " 32%|██████████▏                     | 153255/480622 [00:04<00:09, 35462.82it/s]\u001b[A\n",
      " 33%|██████████▍                     | 156897/480622 [00:04<00:09, 35743.33it/s]\u001b[A\n",
      " 33%|██████████▋                     | 160530/480622 [00:04<00:08, 35914.42it/s]\u001b[A\n",
      " 34%|██████████▉                     | 164124/480622 [00:04<00:09, 34786.00it/s]\u001b[A\n",
      " 35%|███████████▏                    | 167612/480622 [00:04<00:09, 33699.07it/s]\u001b[A\n",
      " 36%|███████████▍                    | 171125/480622 [00:04<00:09, 34109.64it/s]\u001b[A\n",
      " 36%|███████████▋                    | 174940/480622 [00:04<00:08, 35283.81it/s]\u001b[A\n",
      " 37%|███████████▉                    | 178751/480622 [00:05<00:08, 36112.12it/s]\u001b[A\n",
      " 38%|████████████▏                   | 182372/480622 [00:05<00:08, 35325.29it/s]\u001b[A\n",
      " 39%|████████████▍                   | 186136/480622 [00:05<00:08, 35999.58it/s]\u001b[A\n",
      " 40%|████████████▋                   | 189984/480622 [00:05<00:07, 36729.01it/s]\u001b[A\n",
      " 40%|████████████▉                   | 193781/480622 [00:05<00:07, 37093.93it/s]\u001b[A\n",
      " 41%|█████████████▏                  | 197496/480622 [00:05<00:07, 36882.24it/s]\u001b[A\n",
      " 42%|█████████████▍                  | 201189/480622 [00:05<00:07, 36769.05it/s]\u001b[A\n",
      " 43%|█████████████▋                  | 204869/480622 [00:05<00:07, 36586.69it/s]\u001b[A\n",
      " 43%|█████████████▉                  | 208581/480622 [00:05<00:07, 36744.11it/s]\u001b[A\n",
      " 44%|██████████████▏                 | 212257/480622 [00:06<00:07, 36402.00it/s]\u001b[A\n",
      " 45%|██████████████▍                 | 216012/480622 [00:06<00:07, 36738.93it/s]\u001b[A\n",
      " 46%|██████████████▋                 | 219820/480622 [00:06<00:07, 37137.33it/s]\u001b[A\n",
      " 47%|██████████████▉                 | 223536/480622 [00:06<00:06, 36740.23it/s]\u001b[A\n",
      " 47%|███████████████▏                | 227283/480622 [00:06<00:06, 36953.20it/s]\u001b[A\n",
      " 48%|███████████████▍                | 230980/480622 [00:06<00:06, 36751.75it/s]\u001b[A\n",
      " 49%|███████████████▌                | 234657/480622 [00:06<00:06, 36749.63it/s]\u001b[A\n",
      " 50%|███████████████▉                | 238449/480622 [00:06<00:06, 37096.30it/s]\u001b[A\n",
      " 50%|████████████████                | 242160/480622 [00:06<00:06, 35853.59it/s]\u001b[A\n",
      " 51%|████████████████▎               | 245755/480622 [00:06<00:06, 35451.05it/s]\u001b[A\n",
      " 52%|████████████████▌               | 249307/480622 [00:07<00:06, 35271.00it/s]\u001b[A\n",
      " 53%|████████████████▊               | 252994/480622 [00:07<00:06, 35736.80it/s]\u001b[A\n",
      " 53%|█████████████████               | 256782/480622 [00:07<00:06, 36366.34it/s]\u001b[A\n",
      " 54%|█████████████████▎              | 260524/480622 [00:07<00:06, 36676.25it/s]\u001b[A\n",
      " 55%|█████████████████▌              | 264323/480622 [00:07<00:05, 37065.59it/s]\u001b[A\n",
      " 56%|█████████████████▊              | 268033/480622 [00:07<00:05, 36790.33it/s]\u001b[A\n",
      " 57%|██████████████████              | 271715/480622 [00:07<00:05, 35016.08it/s]\u001b[A\n",
      " 57%|██████████████████▎             | 275235/480622 [00:07<00:06, 33798.11it/s]\u001b[A\n",
      " 58%|██████████████████▌             | 278633/480622 [00:07<00:06, 32918.86it/s]\u001b[A\n",
      " 59%|██████████████████▊             | 281939/480622 [00:07<00:06, 32239.57it/s]\u001b[A\n",
      " 59%|██████████████████▉             | 285173/480622 [00:08<00:06, 32066.17it/s]\u001b[A\n",
      " 60%|███████████████████▏            | 288386/480622 [00:08<00:06, 31983.87it/s]\u001b[A\n",
      " 61%|███████████████████▍            | 291589/480622 [00:08<00:06, 31466.97it/s]\u001b[A\n",
      " 61%|███████████████████▋            | 294934/480622 [00:08<00:05, 32039.46it/s]\u001b[A\n",
      " 62%|███████████████████▉            | 298703/480622 [00:08<00:05, 33691.42it/s]\u001b[A\n",
      " 63%|████████████████████▏           | 302381/480622 [00:08<00:05, 34601.08it/s]\u001b[A\n",
      " 64%|████████████████████▍           | 306187/480622 [00:08<00:04, 35623.47it/s]\u001b[A\n",
      " 64%|████████████████████▋           | 309861/480622 [00:08<00:04, 35954.97it/s]\u001b[A\n",
      " 65%|████████████████████▊           | 313523/480622 [00:08<00:04, 36152.46it/s]\u001b[A\n",
      " 66%|█████████████████████           | 317142/480622 [00:08<00:04, 35550.84it/s]\u001b[A\n",
      " 67%|█████████████████████▎          | 320702/480622 [00:09<00:04, 35399.54it/s]\u001b[A\n",
      " 67%|█████████████████████▌          | 324245/480622 [00:09<00:04, 35327.05it/s]\u001b[A\n",
      " 68%|█████████████████████▊          | 327990/480622 [00:09<00:04, 35954.73it/s]\u001b[A\n",
      " 69%|██████████████████████          | 331779/480622 [00:09<00:04, 36528.71it/s]\u001b[A\n",
      " 70%|██████████████████████▎         | 335532/480622 [00:09<00:03, 36826.63it/s]\u001b[A\n",
      " 71%|██████████████████████▌         | 339217/480622 [00:09<00:03, 36551.30it/s]\u001b[A\n",
      " 71%|██████████████████████▊         | 342979/480622 [00:09<00:03, 36867.87it/s]\u001b[A\n",
      " 72%|███████████████████████         | 346757/480622 [00:09<00:03, 37137.26it/s]\u001b[A\n"
     ]
    },
    {
     "name": "stderr",
     "output_type": "stream",
     "text": [
      " 73%|███████████████████████▎        | 350549/480622 [00:09<00:03, 37368.23it/s]\u001b[A\n",
      " 74%|███████████████████████▌        | 354328/480622 [00:09<00:03, 37492.93it/s]\u001b[A\n",
      " 75%|███████████████████████▊        | 358127/480622 [00:10<00:03, 37640.84it/s]\u001b[A\n",
      " 75%|████████████████████████        | 361975/480622 [00:10<00:03, 37889.15it/s]\u001b[A\n",
      " 76%|████████████████████████▎       | 365765/480622 [00:10<00:03, 37310.08it/s]\u001b[A\n",
      " 77%|████████████████████████▌       | 369499/480622 [00:10<00:03, 36938.98it/s]\u001b[A\n",
      " 78%|████████████████████████▊       | 373195/480622 [00:10<00:02, 36885.24it/s]\u001b[A\n",
      " 78%|█████████████████████████       | 376937/480622 [00:10<00:02, 37042.65it/s]\u001b[A\n",
      " 79%|█████████████████████████▎      | 380692/480622 [00:10<00:02, 37192.94it/s]\u001b[A\n",
      " 80%|█████████████████████████▌      | 384413/480622 [00:10<00:02, 36574.86it/s]\u001b[A\n",
      " 81%|█████████████████████████▊      | 388126/480622 [00:10<00:02, 36736.80it/s]\u001b[A\n",
      " 82%|██████████████████████████      | 391877/480622 [00:11<00:02, 36964.21it/s]\u001b[A\n",
      " 82%|██████████████████████████▎     | 395576/480622 [00:11<00:02, 36491.63it/s]\u001b[A\n",
      " 83%|██████████████████████████▌     | 399355/480622 [00:11<00:02, 36872.82it/s]\u001b[A\n",
      " 84%|██████████████████████████▊     | 403045/480622 [00:11<00:02, 36036.74it/s]\u001b[A\n",
      " 85%|███████████████████████████     | 406654/480622 [00:11<00:02, 35385.67it/s]\u001b[A\n",
      " 85%|███████████████████████████▎    | 410198/480622 [00:11<00:01, 35389.76it/s]\u001b[A\n",
      " 86%|███████████████████████████▌    | 413794/480622 [00:11<00:01, 35556.19it/s]\u001b[A\n",
      " 87%|███████████████████████████▊    | 417590/480622 [00:11<00:01, 36265.89it/s]\u001b[A\n",
      " 88%|████████████████████████████    | 421333/480622 [00:11<00:01, 36608.44it/s]\u001b[A\n",
      " 88%|████████████████████████████▎   | 425109/480622 [00:11<00:01, 36948.96it/s]\u001b[A\n",
      " 89%|████████████████████████████▌   | 428907/480622 [00:12<00:01, 37253.44it/s]\u001b[A\n",
      " 90%|████████████████████████████▊   | 432634/480622 [00:12<00:01, 36668.10it/s]\u001b[A\n",
      " 91%|█████████████████████████████   | 436304/480622 [00:12<00:01, 36492.38it/s]\u001b[A\n",
      " 92%|█████████████████████████████▎  | 439956/480622 [00:12<00:01, 36493.97it/s]\u001b[A\n",
      " 92%|█████████████████████████████▌  | 443607/480622 [00:12<00:01, 36024.24it/s]\u001b[A\n",
      " 93%|█████████████████████████████▊  | 447212/480622 [00:12<00:00, 35093.89it/s]\u001b[A\n",
      " 94%|██████████████████████████████  | 450727/480622 [00:12<00:00, 34701.78it/s]\u001b[A\n",
      " 95%|██████████████████████████████▏ | 454284/480622 [00:12<00:00, 34952.94it/s]\u001b[A\n",
      " 95%|██████████████████████████████▍ | 457783/480622 [00:12<00:00, 34697.06it/s]\u001b[A\n",
      " 96%|██████████████████████████████▋ | 461276/480622 [00:12<00:00, 34762.39it/s]\u001b[A\n",
      " 97%|██████████████████████████████▉ | 464870/480622 [00:13<00:00, 35108.99it/s]\u001b[A\n",
      " 98%|███████████████████████████████▏| 468681/480622 [00:13<00:00, 35998.34it/s]\u001b[A\n",
      " 98%|███████████████████████████████▍| 472414/480622 [00:13<00:00, 36391.93it/s]\u001b[A\n",
      " 99%|███████████████████████████████▋| 476055/480622 [00:13<00:00, 35963.80it/s]\u001b[A\n",
      "100%|████████████████████████████████| 480622/480622 [00:13<00:00, 35615.98it/s]\u001b[A\n",
      "\n",
      "0it [00:00, ?it/s]\u001b[A\n",
      "  0%|                                                     | 0/1 [04:47<?, ?it/s]\n"
     ]
    },
    {
     "ename": "NameError",
     "evalue": "name 'sub' is not defined",
     "output_type": "error",
     "traceback": [
      "\u001b[0;31m---------------------------------------------------------------------------\u001b[0m",
      "\u001b[0;31mNameError\u001b[0m                                 Traceback (most recent call last)",
      "\u001b[0;32m/var/folders/gc/gbnv_qb1123_b7xnyw7jd3bm0000gn/T/ipykernel_27883/576399000.py\u001b[0m in \u001b[0;36m<module>\u001b[0;34m\u001b[0m\n\u001b[1;32m     13\u001b[0m     \u001b[0mitem_based_weeks\u001b[0m\u001b[0;34m.\u001b[0m\u001b[0mextend\u001b[0m\u001b[0;34m(\u001b[0m\u001b[0mweeks\u001b[0m\u001b[0;34m)\u001b[0m\u001b[0;34m\u001b[0m\u001b[0;34m\u001b[0m\u001b[0m\n\u001b[1;32m     14\u001b[0m     \u001b[0;32mif\u001b[0m \u001b[0mweek\u001b[0m \u001b[0;34m==\u001b[0m \u001b[0;36m104\u001b[0m\u001b[0;34m:\u001b[0m\u001b[0;34m\u001b[0m\u001b[0;34m\u001b[0m\u001b[0m\n\u001b[0;32m---> 15\u001b[0;31m         \u001b[0mnext_week_customer\u001b[0m \u001b[0;34m=\u001b[0m \u001b[0msub\u001b[0m\u001b[0;34m[\u001b[0m\u001b[0;34m'customer_id'\u001b[0m\u001b[0;34m]\u001b[0m\u001b[0;34m\u001b[0m\u001b[0;34m\u001b[0m\u001b[0m\n\u001b[0m\u001b[1;32m     16\u001b[0m         \u001b[0mrec\u001b[0m \u001b[0;34m=\u001b[0m \u001b[0mItemBased_RecSys\u001b[0m\u001b[0;34m(\u001b[0m\u001b[0mtrans_week\u001b[0m\u001b[0;34m,\u001b[0m\u001b[0mnum_components\u001b[0m\u001b[0;34m=\u001b[0m\u001b[0;36m10\u001b[0m\u001b[0;34m)\u001b[0m\u001b[0;34m\u001b[0m\u001b[0;34m\u001b[0m\u001b[0m\n\u001b[1;32m     17\u001b[0m         \u001b[0mrec\u001b[0m\u001b[0;34m.\u001b[0m\u001b[0mfit\u001b[0m\u001b[0;34m(\u001b[0m\u001b[0mn_epochs\u001b[0m\u001b[0;34m=\u001b[0m\u001b[0;36m1\u001b[0m\u001b[0;34m)\u001b[0m\u001b[0;34m\u001b[0m\u001b[0;34m\u001b[0m\u001b[0m\n",
      "\u001b[0;31mNameError\u001b[0m: name 'sub' is not defined"
     ]
    }
   ],
   "source": [
    "item_based_customer_ids  = []\n",
    "item_based_pred = []\n",
    "item_based_weeks = [] #transactions.week.max() - 10\n",
    "for week in tqdm(range(104,test_week)): \n",
    "    trans_week = transactions[transactions.week == week][['article_id','customer_id','t_dat']]\n",
    "    trans_week['bought'] = 1\n",
    "    next_week_customer = transactions[transactions.week ==(week + 1)]['customer_id'].unique()\n",
    "    rec = ItemBased_RecSys(trans_week,num_components=10) \n",
    "    rec.fit(n_epochs=1)\n",
    "    cust, recomm, weeks = rec.predict(next_week_customer, week)\n",
    "    item_based_customer_ids.extend(cust)\n",
    "    item_based_pred.extend(recomm)\n",
    "    item_based_weeks.extend(weeks)\n",
    "    if week == 104: \n",
    "        next_week_customer = sub['customer_id'].unique()\n",
    "        rec = ItemBased_RecSys(trans_week,num_components=10) \n",
    "        rec.fit(n_epochs=1)\n",
    "        cust, recomm, weeks = rec.predict(next_week_customer, week)\n",
    "        item_based_customer_ids.extend(cust)\n",
    "        item_based_pred.extend(recomm)\n",
    "        item_based_weeks.extend(weeks)\n",
    "    #print(len(item_based_customer_ids) == len(item_based_pred))"
   ]
  },
  {
   "cell_type": "code",
   "execution_count": null,
   "metadata": {},
   "outputs": [],
   "source": []
  },
  {
   "cell_type": "code",
   "execution_count": 119,
   "metadata": {},
   "outputs": [
    {
     "name": "stdout",
     "output_type": "stream",
     "text": [
      "Epoch: 0\n"
     ]
    },
    {
     "name": "stderr",
     "output_type": "stream",
     "text": [
      "100%|██████████████████████████████| 5525744/5525744 [02:30<00:00, 36604.37it/s]\n"
     ]
    }
   ],
   "source": [
    "transactions['bought'] = 1\n",
    "next_week_customer = sub['customer_id'].unique()\n",
    "rec = ItemBased_RecSys(transactions,num_components=5) \n",
    "rec.fit(n_epochs=1)"
   ]
  },
  {
   "cell_type": "code",
   "execution_count": 120,
   "metadata": {},
   "outputs": [
    {
     "name": "stderr",
     "output_type": "stream",
     "text": [
      "100%|█████████████████████████████| 1371980/1371980 [00:04<00:00, 313323.43it/s]\n"
     ]
    }
   ],
   "source": [
    "cust, recomm, weeks = rec.predict(next_week_customer, week)\n",
    "item_based_customer_ids.extend(cust)\n",
    "item_based_pred.extend(recomm)\n",
    "item_based_weeks.extend(weeks)"
   ]
  },
  {
   "cell_type": "code",
   "execution_count": 14,
   "metadata": {},
   "outputs": [
    {
     "data": {
      "text/plain": [
       "[]"
      ]
     },
     "execution_count": 14,
     "metadata": {},
     "output_type": "execute_result"
    }
   ],
   "source": []
  },
  {
   "cell_type": "code",
   "execution_count": 121,
   "metadata": {},
   "outputs": [],
   "source": [
    "item_cf_data = pd.DataFrame()\n",
    "item_cf_data['week'] = item_based_weeks\n",
    "item_cf_data['customer_id'] = item_based_customer_ids\n",
    "item_cf_data['article_id'] = item_based_pred"
   ]
  },
  {
   "cell_type": "code",
   "execution_count": 122,
   "metadata": {},
   "outputs": [
    {
     "data": {
      "text/html": [
       "<div>\n",
       "<style scoped>\n",
       "    .dataframe tbody tr th:only-of-type {\n",
       "        vertical-align: middle;\n",
       "    }\n",
       "\n",
       "    .dataframe tbody tr th {\n",
       "        vertical-align: top;\n",
       "    }\n",
       "\n",
       "    .dataframe thead th {\n",
       "        text-align: right;\n",
       "    }\n",
       "</style>\n",
       "<table border=\"1\" class=\"dataframe\">\n",
       "  <thead>\n",
       "    <tr style=\"text-align: right;\">\n",
       "      <th></th>\n",
       "      <th>week</th>\n",
       "      <th>customer_id</th>\n",
       "      <th>article_id</th>\n",
       "    </tr>\n",
       "  </thead>\n",
       "  <tbody>\n",
       "    <tr>\n",
       "      <th>0</th>\n",
       "      <td>104</td>\n",
       "      <td>00000dbacae5abe5e23885899a1fa44253a17956c6d1c3...</td>\n",
       "      <td>751471001</td>\n",
       "    </tr>\n",
       "    <tr>\n",
       "      <th>1</th>\n",
       "      <td>104</td>\n",
       "      <td>00000dbacae5abe5e23885899a1fa44253a17956c6d1c3...</td>\n",
       "      <td>448509014</td>\n",
       "    </tr>\n",
       "    <tr>\n",
       "      <th>2</th>\n",
       "      <td>104</td>\n",
       "      <td>00000dbacae5abe5e23885899a1fa44253a17956c6d1c3...</td>\n",
       "      <td>918292001</td>\n",
       "    </tr>\n",
       "    <tr>\n",
       "      <th>3</th>\n",
       "      <td>104</td>\n",
       "      <td>00000dbacae5abe5e23885899a1fa44253a17956c6d1c3...</td>\n",
       "      <td>924243001</td>\n",
       "    </tr>\n",
       "    <tr>\n",
       "      <th>4</th>\n",
       "      <td>104</td>\n",
       "      <td>0000423b00ade91418cceaf3b26c6af3dd342b51fd051e...</td>\n",
       "      <td>751471001</td>\n",
       "    </tr>\n",
       "    <tr>\n",
       "      <th>...</th>\n",
       "      <td>...</td>\n",
       "      <td>...</td>\n",
       "      <td>...</td>\n",
       "    </tr>\n",
       "    <tr>\n",
       "      <th>5487915</th>\n",
       "      <td>104</td>\n",
       "      <td>ffffd7744cebcf3aca44ae7049d2a94b87074c3d4ffe38...</td>\n",
       "      <td>924243001</td>\n",
       "    </tr>\n",
       "    <tr>\n",
       "      <th>5487916</th>\n",
       "      <td>104</td>\n",
       "      <td>ffffd9ac14e89946416d80e791d064701994755c3ab686...</td>\n",
       "      <td>751471001</td>\n",
       "    </tr>\n",
       "    <tr>\n",
       "      <th>5487917</th>\n",
       "      <td>104</td>\n",
       "      <td>ffffd9ac14e89946416d80e791d064701994755c3ab686...</td>\n",
       "      <td>448509014</td>\n",
       "    </tr>\n",
       "    <tr>\n",
       "      <th>5487918</th>\n",
       "      <td>104</td>\n",
       "      <td>ffffd9ac14e89946416d80e791d064701994755c3ab686...</td>\n",
       "      <td>918292001</td>\n",
       "    </tr>\n",
       "    <tr>\n",
       "      <th>5487919</th>\n",
       "      <td>104</td>\n",
       "      <td>ffffd9ac14e89946416d80e791d064701994755c3ab686...</td>\n",
       "      <td>924243001</td>\n",
       "    </tr>\n",
       "  </tbody>\n",
       "</table>\n",
       "<p>5487920 rows × 3 columns</p>\n",
       "</div>"
      ],
      "text/plain": [
       "         week                                        customer_id  article_id\n",
       "0         104  00000dbacae5abe5e23885899a1fa44253a17956c6d1c3...   751471001\n",
       "1         104  00000dbacae5abe5e23885899a1fa44253a17956c6d1c3...   448509014\n",
       "2         104  00000dbacae5abe5e23885899a1fa44253a17956c6d1c3...   918292001\n",
       "3         104  00000dbacae5abe5e23885899a1fa44253a17956c6d1c3...   924243001\n",
       "4         104  0000423b00ade91418cceaf3b26c6af3dd342b51fd051e...   751471001\n",
       "...       ...                                                ...         ...\n",
       "5487915   104  ffffd7744cebcf3aca44ae7049d2a94b87074c3d4ffe38...   924243001\n",
       "5487916   104  ffffd9ac14e89946416d80e791d064701994755c3ab686...   751471001\n",
       "5487917   104  ffffd9ac14e89946416d80e791d064701994755c3ab686...   448509014\n",
       "5487918   104  ffffd9ac14e89946416d80e791d064701994755c3ab686...   918292001\n",
       "5487919   104  ffffd9ac14e89946416d80e791d064701994755c3ab686...   924243001\n",
       "\n",
       "[5487920 rows x 3 columns]"
      ]
     },
     "execution_count": 122,
     "metadata": {},
     "output_type": "execute_result"
    }
   ],
   "source": [
    "item_cf_data"
   ]
  },
  {
   "cell_type": "code",
   "execution_count": null,
   "metadata": {},
   "outputs": [],
   "source": [
    "#item_cf_data['week'] += 2"
   ]
  },
  {
   "cell_type": "code",
   "execution_count": 52,
   "metadata": {},
   "outputs": [],
   "source": [
    "#item_cf_data.to_parquet('item_cf_data.parquet')"
   ]
  },
  {
   "cell_type": "code",
   "execution_count": 123,
   "metadata": {},
   "outputs": [],
   "source": [
    "item_cf_data = pd.merge(item_cf_data, mean_price, on=['week', 'article_id'])\n",
    "item_cf_data['week'] += 1"
   ]
  },
  {
   "cell_type": "markdown",
   "metadata": {
    "id": "TkRTaYLDAuwL"
   },
   "source": [
    "# Combining transactions and candidates / negative examples"
   ]
  },
  {
   "cell_type": "code",
   "execution_count": 209,
   "metadata": {
    "execution": {
     "iopub.execute_input": "2022-04-16T16:56:25.609882Z",
     "iopub.status.busy": "2022-04-16T16:56:25.60895Z",
     "iopub.status.idle": "2022-04-16T16:56:25.620461Z",
     "shell.execute_reply": "2022-04-16T16:56:25.619506Z",
     "shell.execute_reply.started": "2022-04-16T16:56:25.609833Z"
    },
    "id": "mQz5QjNTAuwL"
   },
   "outputs": [],
   "source": [
    "transactions['purchased'] = 1"
   ]
  },
  {
   "cell_type": "code",
   "execution_count": 210,
   "metadata": {
    "colab": {
     "base_uri": "https://localhost:8080/",
     "height": 419
    },
    "id": "gnql_nAN1k8I",
    "outputId": "9a780b7a-a544-430e-9dc1-1a2d7551792f"
   },
   "outputs": [
    {
     "data": {
      "text/html": [
       "<div>\n",
       "<style scoped>\n",
       "    .dataframe tbody tr th:only-of-type {\n",
       "        vertical-align: middle;\n",
       "    }\n",
       "\n",
       "    .dataframe tbody tr th {\n",
       "        vertical-align: top;\n",
       "    }\n",
       "\n",
       "    .dataframe thead th {\n",
       "        text-align: right;\n",
       "    }\n",
       "</style>\n",
       "<table border=\"1\" class=\"dataframe\">\n",
       "  <thead>\n",
       "    <tr style=\"text-align: right;\">\n",
       "      <th></th>\n",
       "      <th>t_dat</th>\n",
       "      <th>customer_id</th>\n",
       "      <th>article_id</th>\n",
       "      <th>price</th>\n",
       "      <th>sales_channel_id</th>\n",
       "      <th>week</th>\n",
       "      <th>purchased</th>\n",
       "    </tr>\n",
       "  </thead>\n",
       "  <tbody>\n",
       "    <tr>\n",
       "      <th>29030503</th>\n",
       "      <td>2020-07-15</td>\n",
       "      <td>272412481300040</td>\n",
       "      <td>778064028</td>\n",
       "      <td>0.008458</td>\n",
       "      <td>1</td>\n",
       "      <td>95</td>\n",
       "      <td>1</td>\n",
       "    </tr>\n",
       "    <tr>\n",
       "      <th>29030504</th>\n",
       "      <td>2020-07-15</td>\n",
       "      <td>272412481300040</td>\n",
       "      <td>816592008</td>\n",
       "      <td>0.016932</td>\n",
       "      <td>1</td>\n",
       "      <td>95</td>\n",
       "      <td>1</td>\n",
       "    </tr>\n",
       "    <tr>\n",
       "      <th>29030505</th>\n",
       "      <td>2020-07-15</td>\n",
       "      <td>272412481300040</td>\n",
       "      <td>621381021</td>\n",
       "      <td>0.033881</td>\n",
       "      <td>1</td>\n",
       "      <td>95</td>\n",
       "      <td>1</td>\n",
       "    </tr>\n",
       "    <tr>\n",
       "      <th>29030506</th>\n",
       "      <td>2020-07-15</td>\n",
       "      <td>272412481300040</td>\n",
       "      <td>817477003</td>\n",
       "      <td>0.025407</td>\n",
       "      <td>1</td>\n",
       "      <td>95</td>\n",
       "      <td>1</td>\n",
       "    </tr>\n",
       "    <tr>\n",
       "      <th>29030507</th>\n",
       "      <td>2020-07-15</td>\n",
       "      <td>272412481300040</td>\n",
       "      <td>899088002</td>\n",
       "      <td>0.025407</td>\n",
       "      <td>1</td>\n",
       "      <td>95</td>\n",
       "      <td>1</td>\n",
       "    </tr>\n",
       "    <tr>\n",
       "      <th>...</th>\n",
       "      <td>...</td>\n",
       "      <td>...</td>\n",
       "      <td>...</td>\n",
       "      <td>...</td>\n",
       "      <td>...</td>\n",
       "      <td>...</td>\n",
       "      <td>...</td>\n",
       "    </tr>\n",
       "    <tr>\n",
       "      <th>31774722</th>\n",
       "      <td>2020-09-22</td>\n",
       "      <td>18439937050817258297</td>\n",
       "      <td>891591003</td>\n",
       "      <td>0.084729</td>\n",
       "      <td>2</td>\n",
       "      <td>104</td>\n",
       "      <td>1</td>\n",
       "    </tr>\n",
       "    <tr>\n",
       "      <th>31774723</th>\n",
       "      <td>2020-09-22</td>\n",
       "      <td>18439937050817258297</td>\n",
       "      <td>869706005</td>\n",
       "      <td>0.084729</td>\n",
       "      <td>2</td>\n",
       "      <td>104</td>\n",
       "      <td>1</td>\n",
       "    </tr>\n",
       "    <tr>\n",
       "      <th>31779097</th>\n",
       "      <td>2020-09-22</td>\n",
       "      <td>18440902715633436014</td>\n",
       "      <td>918894002</td>\n",
       "      <td>0.016932</td>\n",
       "      <td>1</td>\n",
       "      <td>104</td>\n",
       "      <td>1</td>\n",
       "    </tr>\n",
       "    <tr>\n",
       "      <th>31779098</th>\n",
       "      <td>2020-09-22</td>\n",
       "      <td>18440902715633436014</td>\n",
       "      <td>761269001</td>\n",
       "      <td>0.016932</td>\n",
       "      <td>1</td>\n",
       "      <td>104</td>\n",
       "      <td>1</td>\n",
       "    </tr>\n",
       "    <tr>\n",
       "      <th>31780475</th>\n",
       "      <td>2020-09-22</td>\n",
       "      <td>18443633011701112574</td>\n",
       "      <td>914868002</td>\n",
       "      <td>0.033881</td>\n",
       "      <td>1</td>\n",
       "      <td>104</td>\n",
       "      <td>1</td>\n",
       "    </tr>\n",
       "  </tbody>\n",
       "</table>\n",
       "<p>2762872 rows × 7 columns</p>\n",
       "</div>"
      ],
      "text/plain": [
       "              t_dat           customer_id  article_id     price  \\\n",
       "29030503 2020-07-15       272412481300040   778064028  0.008458   \n",
       "29030504 2020-07-15       272412481300040   816592008  0.016932   \n",
       "29030505 2020-07-15       272412481300040   621381021  0.033881   \n",
       "29030506 2020-07-15       272412481300040   817477003  0.025407   \n",
       "29030507 2020-07-15       272412481300040   899088002  0.025407   \n",
       "...             ...                   ...         ...       ...   \n",
       "31774722 2020-09-22  18439937050817258297   891591003  0.084729   \n",
       "31774723 2020-09-22  18439937050817258297   869706005  0.084729   \n",
       "31779097 2020-09-22  18440902715633436014   918894002  0.016932   \n",
       "31779098 2020-09-22  18440902715633436014   761269001  0.016932   \n",
       "31780475 2020-09-22  18443633011701112574   914868002  0.033881   \n",
       "\n",
       "          sales_channel_id  week  purchased  \n",
       "29030503                 1    95          1  \n",
       "29030504                 1    95          1  \n",
       "29030505                 1    95          1  \n",
       "29030506                 1    95          1  \n",
       "29030507                 1    95          1  \n",
       "...                    ...   ...        ...  \n",
       "31774722                 2   104          1  \n",
       "31774723                 2   104          1  \n",
       "31779097                 1   104          1  \n",
       "31779098                 1   104          1  \n",
       "31780475                 1   104          1  \n",
       "\n",
       "[2762872 rows x 7 columns]"
      ]
     },
     "execution_count": 210,
     "metadata": {},
     "output_type": "execute_result"
    }
   ],
   "source": [
    "transactions"
   ]
  },
  {
   "cell_type": "code",
   "execution_count": 211,
   "metadata": {
    "colab": {
     "base_uri": "https://localhost:8080/",
     "height": 419
    },
    "id": "jyRhImgs05IU",
    "outputId": "311c3b73-5e90-49c8-b74d-455d07b5342a"
   },
   "outputs": [
    {
     "data": {
      "text/html": [
       "<div>\n",
       "<style scoped>\n",
       "    .dataframe tbody tr th:only-of-type {\n",
       "        vertical-align: middle;\n",
       "    }\n",
       "\n",
       "    .dataframe tbody tr th {\n",
       "        vertical-align: top;\n",
       "    }\n",
       "\n",
       "    .dataframe thead th {\n",
       "        text-align: right;\n",
       "    }\n",
       "</style>\n",
       "<table border=\"1\" class=\"dataframe\">\n",
       "  <thead>\n",
       "    <tr style=\"text-align: right;\">\n",
       "      <th></th>\n",
       "      <th>t_dat</th>\n",
       "      <th>customer_id</th>\n",
       "      <th>article_id</th>\n",
       "      <th>price</th>\n",
       "      <th>sales_channel_id</th>\n",
       "      <th>week</th>\n",
       "    </tr>\n",
       "  </thead>\n",
       "  <tbody>\n",
       "    <tr>\n",
       "      <th>29030503</th>\n",
       "      <td>2020-07-15</td>\n",
       "      <td>272412481300040</td>\n",
       "      <td>778064028</td>\n",
       "      <td>0.008458</td>\n",
       "      <td>1</td>\n",
       "      <td>96</td>\n",
       "    </tr>\n",
       "    <tr>\n",
       "      <th>29030504</th>\n",
       "      <td>2020-07-15</td>\n",
       "      <td>272412481300040</td>\n",
       "      <td>816592008</td>\n",
       "      <td>0.016932</td>\n",
       "      <td>1</td>\n",
       "      <td>96</td>\n",
       "    </tr>\n",
       "    <tr>\n",
       "      <th>29030505</th>\n",
       "      <td>2020-07-15</td>\n",
       "      <td>272412481300040</td>\n",
       "      <td>621381021</td>\n",
       "      <td>0.033881</td>\n",
       "      <td>1</td>\n",
       "      <td>96</td>\n",
       "    </tr>\n",
       "    <tr>\n",
       "      <th>29030506</th>\n",
       "      <td>2020-07-15</td>\n",
       "      <td>272412481300040</td>\n",
       "      <td>817477003</td>\n",
       "      <td>0.025407</td>\n",
       "      <td>1</td>\n",
       "      <td>96</td>\n",
       "    </tr>\n",
       "    <tr>\n",
       "      <th>29030507</th>\n",
       "      <td>2020-07-15</td>\n",
       "      <td>272412481300040</td>\n",
       "      <td>899088002</td>\n",
       "      <td>0.025407</td>\n",
       "      <td>1</td>\n",
       "      <td>96</td>\n",
       "    </tr>\n",
       "    <tr>\n",
       "      <th>...</th>\n",
       "      <td>...</td>\n",
       "      <td>...</td>\n",
       "      <td>...</td>\n",
       "      <td>...</td>\n",
       "      <td>...</td>\n",
       "      <td>...</td>\n",
       "    </tr>\n",
       "    <tr>\n",
       "      <th>31774722</th>\n",
       "      <td>2020-09-22</td>\n",
       "      <td>18439937050817258297</td>\n",
       "      <td>891591003</td>\n",
       "      <td>0.084729</td>\n",
       "      <td>2</td>\n",
       "      <td>105</td>\n",
       "    </tr>\n",
       "    <tr>\n",
       "      <th>31774723</th>\n",
       "      <td>2020-09-22</td>\n",
       "      <td>18439937050817258297</td>\n",
       "      <td>869706005</td>\n",
       "      <td>0.084729</td>\n",
       "      <td>2</td>\n",
       "      <td>105</td>\n",
       "    </tr>\n",
       "    <tr>\n",
       "      <th>31779097</th>\n",
       "      <td>2020-09-22</td>\n",
       "      <td>18440902715633436014</td>\n",
       "      <td>918894002</td>\n",
       "      <td>0.016932</td>\n",
       "      <td>1</td>\n",
       "      <td>105</td>\n",
       "    </tr>\n",
       "    <tr>\n",
       "      <th>31779098</th>\n",
       "      <td>2020-09-22</td>\n",
       "      <td>18440902715633436014</td>\n",
       "      <td>761269001</td>\n",
       "      <td>0.016932</td>\n",
       "      <td>1</td>\n",
       "      <td>105</td>\n",
       "    </tr>\n",
       "    <tr>\n",
       "      <th>31780475</th>\n",
       "      <td>2020-09-22</td>\n",
       "      <td>18443633011701112574</td>\n",
       "      <td>914868002</td>\n",
       "      <td>0.033881</td>\n",
       "      <td>1</td>\n",
       "      <td>105</td>\n",
       "    </tr>\n",
       "  </tbody>\n",
       "</table>\n",
       "<p>2762872 rows × 6 columns</p>\n",
       "</div>"
      ],
      "text/plain": [
       "              t_dat           customer_id  article_id     price  \\\n",
       "29030503 2020-07-15       272412481300040   778064028  0.008458   \n",
       "29030504 2020-07-15       272412481300040   816592008  0.016932   \n",
       "29030505 2020-07-15       272412481300040   621381021  0.033881   \n",
       "29030506 2020-07-15       272412481300040   817477003  0.025407   \n",
       "29030507 2020-07-15       272412481300040   899088002  0.025407   \n",
       "...             ...                   ...         ...       ...   \n",
       "31774722 2020-09-22  18439937050817258297   891591003  0.084729   \n",
       "31774723 2020-09-22  18439937050817258297   869706005  0.084729   \n",
       "31779097 2020-09-22  18440902715633436014   918894002  0.016932   \n",
       "31779098 2020-09-22  18440902715633436014   761269001  0.016932   \n",
       "31780475 2020-09-22  18443633011701112574   914868002  0.033881   \n",
       "\n",
       "          sales_channel_id  week  \n",
       "29030503                 1    96  \n",
       "29030504                 1    96  \n",
       "29030505                 1    96  \n",
       "29030506                 1    96  \n",
       "29030507                 1    96  \n",
       "...                    ...   ...  \n",
       "31774722                 2   105  \n",
       "31774723                 2   105  \n",
       "31779097                 1   105  \n",
       "31779098                 1   105  \n",
       "31780475                 1   105  \n",
       "\n",
       "[2762872 rows x 6 columns]"
      ]
     },
     "execution_count": 211,
     "metadata": {},
     "output_type": "execute_result"
    }
   ],
   "source": [
    "candidates_last_purchase"
   ]
  },
  {
   "cell_type": "code",
   "execution_count": 212,
   "metadata": {},
   "outputs": [
    {
     "data": {
      "text/html": [
       "<div>\n",
       "<style scoped>\n",
       "    .dataframe tbody tr th:only-of-type {\n",
       "        vertical-align: middle;\n",
       "    }\n",
       "\n",
       "    .dataframe tbody tr th {\n",
       "        vertical-align: top;\n",
       "    }\n",
       "\n",
       "    .dataframe thead th {\n",
       "        text-align: right;\n",
       "    }\n",
       "</style>\n",
       "<table border=\"1\" class=\"dataframe\">\n",
       "  <thead>\n",
       "    <tr style=\"text-align: right;\">\n",
       "      <th></th>\n",
       "      <th>t_dat</th>\n",
       "      <th>customer_id</th>\n",
       "      <th>sales_channel_id</th>\n",
       "      <th>week</th>\n",
       "      <th>article_id</th>\n",
       "      <th>price</th>\n",
       "    </tr>\n",
       "  </thead>\n",
       "  <tbody>\n",
       "    <tr>\n",
       "      <th>0</th>\n",
       "      <td>2020-07-22</td>\n",
       "      <td>200292573348128</td>\n",
       "      <td>2</td>\n",
       "      <td>96</td>\n",
       "      <td>760084003</td>\n",
       "      <td>0.025094</td>\n",
       "    </tr>\n",
       "    <tr>\n",
       "      <th>1</th>\n",
       "      <td>2020-07-22</td>\n",
       "      <td>200292573348128</td>\n",
       "      <td>2</td>\n",
       "      <td>96</td>\n",
       "      <td>866731001</td>\n",
       "      <td>0.024919</td>\n",
       "    </tr>\n",
       "    <tr>\n",
       "      <th>2</th>\n",
       "      <td>2020-07-22</td>\n",
       "      <td>200292573348128</td>\n",
       "      <td>2</td>\n",
       "      <td>96</td>\n",
       "      <td>600886001</td>\n",
       "      <td>0.022980</td>\n",
       "    </tr>\n",
       "    <tr>\n",
       "      <th>3</th>\n",
       "      <td>2020-07-22</td>\n",
       "      <td>200292573348128</td>\n",
       "      <td>2</td>\n",
       "      <td>96</td>\n",
       "      <td>706016001</td>\n",
       "      <td>0.033197</td>\n",
       "    </tr>\n",
       "    <tr>\n",
       "      <th>4</th>\n",
       "      <td>2020-07-22</td>\n",
       "      <td>200292573348128</td>\n",
       "      <td>2</td>\n",
       "      <td>96</td>\n",
       "      <td>372860002</td>\n",
       "      <td>0.013193</td>\n",
       "    </tr>\n",
       "    <tr>\n",
       "      <th>...</th>\n",
       "      <td>...</td>\n",
       "      <td>...</td>\n",
       "      <td>...</td>\n",
       "      <td>...</td>\n",
       "      <td>...</td>\n",
       "      <td>...</td>\n",
       "    </tr>\n",
       "    <tr>\n",
       "      <th>5248375</th>\n",
       "      <td>2020-09-22</td>\n",
       "      <td>18438270306572912089</td>\n",
       "      <td>1</td>\n",
       "      <td>105</td>\n",
       "      <td>915529003</td>\n",
       "      <td>0.033439</td>\n",
       "    </tr>\n",
       "    <tr>\n",
       "      <th>5248376</th>\n",
       "      <td>2020-09-22</td>\n",
       "      <td>18438270306572912089</td>\n",
       "      <td>1</td>\n",
       "      <td>105</td>\n",
       "      <td>915529005</td>\n",
       "      <td>0.033417</td>\n",
       "    </tr>\n",
       "    <tr>\n",
       "      <th>5248377</th>\n",
       "      <td>2020-09-22</td>\n",
       "      <td>18438270306572912089</td>\n",
       "      <td>1</td>\n",
       "      <td>105</td>\n",
       "      <td>448509014</td>\n",
       "      <td>0.041630</td>\n",
       "    </tr>\n",
       "    <tr>\n",
       "      <th>5248378</th>\n",
       "      <td>2020-09-22</td>\n",
       "      <td>18438270306572912089</td>\n",
       "      <td>1</td>\n",
       "      <td>105</td>\n",
       "      <td>762846027</td>\n",
       "      <td>0.025005</td>\n",
       "    </tr>\n",
       "    <tr>\n",
       "      <th>5248379</th>\n",
       "      <td>2020-09-22</td>\n",
       "      <td>18438270306572912089</td>\n",
       "      <td>1</td>\n",
       "      <td>105</td>\n",
       "      <td>714790020</td>\n",
       "      <td>0.049951</td>\n",
       "    </tr>\n",
       "  </tbody>\n",
       "</table>\n",
       "<p>13389576 rows × 6 columns</p>\n",
       "</div>"
      ],
      "text/plain": [
       "             t_dat           customer_id  sales_channel_id  week  article_id  \\\n",
       "0       2020-07-22       200292573348128                 2    96   760084003   \n",
       "1       2020-07-22       200292573348128                 2    96   866731001   \n",
       "2       2020-07-22       200292573348128                 2    96   600886001   \n",
       "3       2020-07-22       200292573348128                 2    96   706016001   \n",
       "4       2020-07-22       200292573348128                 2    96   372860002   \n",
       "...            ...                   ...               ...   ...         ...   \n",
       "5248375 2020-09-22  18438270306572912089                 1   105   915529003   \n",
       "5248376 2020-09-22  18438270306572912089                 1   105   915529005   \n",
       "5248377 2020-09-22  18438270306572912089                 1   105   448509014   \n",
       "5248378 2020-09-22  18438270306572912089                 1   105   762846027   \n",
       "5248379 2020-09-22  18438270306572912089                 1   105   714790020   \n",
       "\n",
       "            price  \n",
       "0        0.025094  \n",
       "1        0.024919  \n",
       "2        0.022980  \n",
       "3        0.033197  \n",
       "4        0.013193  \n",
       "...           ...  \n",
       "5248375  0.033439  \n",
       "5248376  0.033417  \n",
       "5248377  0.041630  \n",
       "5248378  0.025005  \n",
       "5248379  0.049951  \n",
       "\n",
       "[13389576 rows x 6 columns]"
      ]
     },
     "execution_count": 212,
     "metadata": {},
     "output_type": "execute_result"
    }
   ],
   "source": [
    "candidates_bestsellers"
   ]
  },
  {
   "cell_type": "code",
   "execution_count": 45,
   "metadata": {},
   "outputs": [
    {
     "ename": "NameError",
     "evalue": "name 'lightfm_recomm' is not defined",
     "output_type": "error",
     "traceback": [
      "\u001b[0;31m---------------------------------------------------------------------------\u001b[0m",
      "\u001b[0;31mNameError\u001b[0m                                 Traceback (most recent call last)",
      "\u001b[0;32m/var/folders/gc/gbnv_qb1123_b7xnyw7jd3bm0000gn/T/ipykernel_27883/3021172271.py\u001b[0m in \u001b[0;36m<module>\u001b[0;34m\u001b[0m\n\u001b[0;32m----> 1\u001b[0;31m \u001b[0mlightfm_recomm\u001b[0m\u001b[0;34m\u001b[0m\u001b[0;34m\u001b[0m\u001b[0m\n\u001b[0m",
      "\u001b[0;31mNameError\u001b[0m: name 'lightfm_recomm' is not defined"
     ]
    }
   ],
   "source": [
    "lightfm_recomm"
   ]
  },
  {
   "cell_type": "code",
   "execution_count": 213,
   "metadata": {
    "execution": {
     "iopub.execute_input": "2022-04-16T16:56:31.824982Z",
     "iopub.status.busy": "2022-04-16T16:56:31.824647Z",
     "iopub.status.idle": "2022-04-16T16:56:32.437836Z",
     "shell.execute_reply": "2022-04-16T16:56:32.436995Z",
     "shell.execute_reply.started": "2022-04-16T16:56:31.824952Z"
    },
    "id": "0_xCTb72AuwL"
   },
   "outputs": [
    {
     "data": {
      "text/html": [
       "<div>\n",
       "<style scoped>\n",
       "    .dataframe tbody tr th:only-of-type {\n",
       "        vertical-align: middle;\n",
       "    }\n",
       "\n",
       "    .dataframe tbody tr th {\n",
       "        vertical-align: top;\n",
       "    }\n",
       "\n",
       "    .dataframe thead th {\n",
       "        text-align: right;\n",
       "    }\n",
       "</style>\n",
       "<table border=\"1\" class=\"dataframe\">\n",
       "  <thead>\n",
       "    <tr style=\"text-align: right;\">\n",
       "      <th></th>\n",
       "      <th>customer_id</th>\n",
       "      <th>article_id</th>\n",
       "      <th>price</th>\n",
       "      <th>week</th>\n",
       "      <th>purchased</th>\n",
       "    </tr>\n",
       "  </thead>\n",
       "  <tbody>\n",
       "    <tr>\n",
       "      <th>29030503</th>\n",
       "      <td>272412481300040</td>\n",
       "      <td>778064028</td>\n",
       "      <td>0.008458</td>\n",
       "      <td>95</td>\n",
       "      <td>1.0</td>\n",
       "    </tr>\n",
       "    <tr>\n",
       "      <th>29030504</th>\n",
       "      <td>272412481300040</td>\n",
       "      <td>816592008</td>\n",
       "      <td>0.016932</td>\n",
       "      <td>95</td>\n",
       "      <td>1.0</td>\n",
       "    </tr>\n",
       "    <tr>\n",
       "      <th>29030505</th>\n",
       "      <td>272412481300040</td>\n",
       "      <td>621381021</td>\n",
       "      <td>0.033881</td>\n",
       "      <td>95</td>\n",
       "      <td>1.0</td>\n",
       "    </tr>\n",
       "    <tr>\n",
       "      <th>29030506</th>\n",
       "      <td>272412481300040</td>\n",
       "      <td>817477003</td>\n",
       "      <td>0.025407</td>\n",
       "      <td>95</td>\n",
       "      <td>1.0</td>\n",
       "    </tr>\n",
       "    <tr>\n",
       "      <th>29030507</th>\n",
       "      <td>272412481300040</td>\n",
       "      <td>899088002</td>\n",
       "      <td>0.025407</td>\n",
       "      <td>95</td>\n",
       "      <td>1.0</td>\n",
       "    </tr>\n",
       "    <tr>\n",
       "      <th>...</th>\n",
       "      <td>...</td>\n",
       "      <td>...</td>\n",
       "      <td>...</td>\n",
       "      <td>...</td>\n",
       "      <td>...</td>\n",
       "    </tr>\n",
       "    <tr>\n",
       "      <th>5487915</th>\n",
       "      <td>ffffbbf78b6eaac697a8a5dfbfd2bfa8113ee5b403e474...</td>\n",
       "      <td>924243001</td>\n",
       "      <td>0.041535</td>\n",
       "      <td>105</td>\n",
       "      <td>0.0</td>\n",
       "    </tr>\n",
       "    <tr>\n",
       "      <th>5487916</th>\n",
       "      <td>ffffcd5046a6143d29a04fb8c424ce494a76e5cdf4fab5...</td>\n",
       "      <td>924243001</td>\n",
       "      <td>0.041535</td>\n",
       "      <td>105</td>\n",
       "      <td>0.0</td>\n",
       "    </tr>\n",
       "    <tr>\n",
       "      <th>5487917</th>\n",
       "      <td>ffffcf35913a0bee60e8741cb2b4e78b8a98ee5ff2e6a1...</td>\n",
       "      <td>924243001</td>\n",
       "      <td>0.041535</td>\n",
       "      <td>105</td>\n",
       "      <td>0.0</td>\n",
       "    </tr>\n",
       "    <tr>\n",
       "      <th>5487918</th>\n",
       "      <td>ffffd7744cebcf3aca44ae7049d2a94b87074c3d4ffe38...</td>\n",
       "      <td>924243001</td>\n",
       "      <td>0.041535</td>\n",
       "      <td>105</td>\n",
       "      <td>0.0</td>\n",
       "    </tr>\n",
       "    <tr>\n",
       "      <th>5487919</th>\n",
       "      <td>ffffd9ac14e89946416d80e791d064701994755c3ab686...</td>\n",
       "      <td>924243001</td>\n",
       "      <td>0.041535</td>\n",
       "      <td>105</td>\n",
       "      <td>0.0</td>\n",
       "    </tr>\n",
       "  </tbody>\n",
       "</table>\n",
       "<p>24403240 rows × 5 columns</p>\n",
       "</div>"
      ],
      "text/plain": [
       "                                                customer_id  article_id  \\\n",
       "29030503                                    272412481300040   778064028   \n",
       "29030504                                    272412481300040   816592008   \n",
       "29030505                                    272412481300040   621381021   \n",
       "29030506                                    272412481300040   817477003   \n",
       "29030507                                    272412481300040   899088002   \n",
       "...                                                     ...         ...   \n",
       "5487915   ffffbbf78b6eaac697a8a5dfbfd2bfa8113ee5b403e474...   924243001   \n",
       "5487916   ffffcd5046a6143d29a04fb8c424ce494a76e5cdf4fab5...   924243001   \n",
       "5487917   ffffcf35913a0bee60e8741cb2b4e78b8a98ee5ff2e6a1...   924243001   \n",
       "5487918   ffffd7744cebcf3aca44ae7049d2a94b87074c3d4ffe38...   924243001   \n",
       "5487919   ffffd9ac14e89946416d80e791d064701994755c3ab686...   924243001   \n",
       "\n",
       "             price  week  purchased  \n",
       "29030503  0.008458    95        1.0  \n",
       "29030504  0.016932    95        1.0  \n",
       "29030505  0.033881    95        1.0  \n",
       "29030506  0.025407    95        1.0  \n",
       "29030507  0.025407    95        1.0  \n",
       "...            ...   ...        ...  \n",
       "5487915   0.041535   105        0.0  \n",
       "5487916   0.041535   105        0.0  \n",
       "5487917   0.041535   105        0.0  \n",
       "5487918   0.041535   105        0.0  \n",
       "5487919   0.041535   105        0.0  \n",
       "\n",
       "[24403240 rows x 5 columns]"
      ]
     },
     "execution_count": 213,
     "metadata": {},
     "output_type": "execute_result"
    }
   ],
   "source": [
    "data = pd.concat([transactions, candidates_last_purchase, candidates_bestsellers,item_cf_data])\n",
    "data.purchased.fillna(0, inplace=True)\n",
    "data.drop(['sales_channel_id', 't_dat'], axis = 1)"
   ]
  },
  {
   "cell_type": "code",
   "execution_count": 525,
   "metadata": {},
   "outputs": [],
   "source": [
    "#data = pd.concat([item_based_rec,data])"
   ]
  },
  {
   "cell_type": "code",
   "execution_count": 526,
   "metadata": {},
   "outputs": [],
   "source": [
    "#item_based_rec['week'] = 101\n",
    "#data = pd.concat([item_based_rec,data])"
   ]
  },
  {
   "cell_type": "code",
   "execution_count": 214,
   "metadata": {
    "execution": {
     "iopub.execute_input": "2022-04-16T16:56:54.897571Z",
     "iopub.status.busy": "2022-04-16T16:56:54.897286Z",
     "iopub.status.idle": "2022-04-16T16:57:02.803119Z",
     "shell.execute_reply": "2022-04-16T16:57:02.802139Z",
     "shell.execute_reply.started": "2022-04-16T16:56:54.897538Z"
    },
    "id": "IBOCSpkWAuwL"
   },
   "outputs": [],
   "source": [
    "data.drop_duplicates(['customer_id', 'article_id', 'week'], inplace=True)"
   ]
  },
  {
   "cell_type": "code",
   "execution_count": 215,
   "metadata": {
    "colab": {
     "base_uri": "https://localhost:8080/"
    },
    "execution": {
     "iopub.execute_input": "2022-04-16T16:57:02.805659Z",
     "iopub.status.busy": "2022-04-16T16:57:02.805002Z",
     "iopub.status.idle": "2022-04-16T16:57:02.868471Z",
     "shell.execute_reply": "2022-04-16T16:57:02.867456Z",
     "shell.execute_reply.started": "2022-04-16T16:57:02.805609Z"
    },
    "id": "4kjrkb8yAuwM",
    "outputId": "6d2129da-a5ab-4b5c-fea9-40e7b876c65a"
   },
   "outputs": [
    {
     "data": {
      "text/plain": [
       "0.104621709619488"
      ]
     },
     "execution_count": 215,
     "metadata": {},
     "output_type": "execute_result"
    }
   ],
   "source": [
    "data.purchased.mean()"
   ]
  },
  {
   "cell_type": "markdown",
   "metadata": {},
   "source": [
    "### Text embedding\n",
    "1. We only use detail desc of productions\n",
    "2. Generate TFIDF matrix\n",
    "3. SVD\n",
    "4. K-means with k = 17"
   ]
  },
  {
   "cell_type": "code",
   "execution_count": 216,
   "metadata": {},
   "outputs": [],
   "source": [
    "articles[\"text\"] = articles['detail_desc'] "
   ]
  },
  {
   "cell_type": "code",
   "execution_count": 217,
   "metadata": {},
   "outputs": [
    {
     "name": "stderr",
     "output_type": "stream",
     "text": [
      "/Users/elisazhang/opt/anaconda3/lib/python3.7/site-packages/ipykernel_launcher.py:2: SettingWithCopyWarning: \n",
      "A value is trying to be set on a copy of a slice from a DataFrame.\n",
      "Try using .loc[row_indexer,col_indexer] = value instead\n",
      "\n",
      "See the caveats in the documentation: https://pandas.pydata.org/pandas-docs/stable/user_guide/indexing.html#returning-a-view-versus-a-copy\n",
      "  \n"
     ]
    }
   ],
   "source": [
    "articles_text = articles[['article_id', 'product_code', 'text']]\n",
    "articles_text['text'] = articles_text['text'].astype(str)"
   ]
  },
  {
   "cell_type": "code",
   "execution_count": 218,
   "metadata": {},
   "outputs": [],
   "source": [
    "#download nlp need files\n",
    "# nltk.download('punkt')\n",
    "# nltk.download('stopwords')\n",
    "# nltk.download('wordnet')\n",
    "# nltk.download('averaged_perceptron_tagger')"
   ]
  },
  {
   "cell_type": "code",
   "execution_count": 219,
   "metadata": {},
   "outputs": [],
   "source": [
    "stop = stopwords.words('english')\n",
    "stop_words = set(stopwords.words('english'))\n",
    "wn = WordNetLemmatizer() #Lemmatize using WordNet's built-in morphy function.\n",
    "\n",
    "#the meaningful text will not be in the stop words or puntuactions and must have a len > 2\n",
    "def black_txt(token): \n",
    "    return  token not in stop_words and token not in list(string.punctuation) and len(token)>2   \n",
    "  \n",
    "def clean_txt(text):\n",
    "  clean_text = []\n",
    "  clean_text2 = []\n",
    "  text = re.sub(\"'\", \"\",text) #get rid of '' in text\n",
    "  text=re.sub(\"(\\\\d|\\\\W)+\",\" \",text) #get rid of (1) in the text\n",
    "  text = text.replace(\"nbsp\", \"\")\n",
    "  clean_text = [wn.lemmatize(word, pos=\"v\") for word in word_tokenize(text.lower()) if black_txt(word)] #lemmatize the verbs\n",
    "  clean_text2 = [word for word in clean_text if black_txt(word)]\n",
    "  return \" \".join(clean_text2)"
   ]
  },
  {
   "cell_type": "code",
   "execution_count": 220,
   "metadata": {},
   "outputs": [
    {
     "name": "stdout",
     "output_type": "stream",
     "text": [
      "CPU times: user 2 µs, sys: 3 µs, total: 5 µs\n",
      "Wall time: 17.2 µs\n"
     ]
    },
    {
     "name": "stderr",
     "output_type": "stream",
     "text": [
      "/Users/elisazhang/opt/anaconda3/lib/python3.7/site-packages/ipykernel_launcher.py:3: SettingWithCopyWarning: \n",
      "A value is trying to be set on a copy of a slice from a DataFrame.\n",
      "Try using .loc[row_indexer,col_indexer] = value instead\n",
      "\n",
      "See the caveats in the documentation: https://pandas.pydata.org/pandas-docs/stable/user_guide/indexing.html#returning-a-view-versus-a-copy\n",
      "  This is separate from the ipykernel package so we can avoid doing imports until\n"
     ]
    }
   ],
   "source": [
    "#apply the function to the column \n",
    "%time\n",
    "articles_text['text'] = articles_text['text'].apply(clean_txt)"
   ]
  },
  {
   "cell_type": "code",
   "execution_count": 221,
   "metadata": {
    "scrolled": true
   },
   "outputs": [
    {
     "data": {
      "text/plain": [
       "0                          jersey top narrow shoulder strap\n",
       "1                          jersey top narrow shoulder strap\n",
       "2                          jersey top narrow shoulder strap\n",
       "3         microfibre shirt bra underwired mould lightly ...\n",
       "4         microfibre shirt bra underwired mould lightly ...\n",
       "                                ...                        \n",
       "105537    sock fine knit cotton blend small motif top el...\n",
       "105538    loose fit sport vest top rib fast dry function...\n",
       "105539    short line dress jersey round neckline shape o...\n",
       "105540                              large plastic hair claw\n",
       "105541    calf length dress rib jersey make cotton blend...\n",
       "Name: text, Length: 105542, dtype: object"
      ]
     },
     "execution_count": 221,
     "metadata": {},
     "output_type": "execute_result"
    }
   ],
   "source": [
    "articles_text['text']"
   ]
  },
  {
   "cell_type": "code",
   "execution_count": 222,
   "metadata": {},
   "outputs": [
    {
     "data": {
      "text/plain": [
       "<105542x2263 sparse matrix of type '<class 'numpy.float64'>'\n",
       "\twith 1574599 stored elements in Compressed Sparse Row format>"
      ]
     },
     "execution_count": 222,
     "metadata": {},
     "output_type": "execute_result"
    }
   ],
   "source": [
    "# Convert a collection of raw documents to a matrix of TF-IDF features.\n",
    "tfidf_vectorizer = TfidfVectorizer()\n",
    "tfidf_article = tfidf_vectorizer.fit_transform((articles_text['text'])) \n",
    "tfidf_article"
   ]
  },
  {
   "cell_type": "code",
   "execution_count": 223,
   "metadata": {},
   "outputs": [
    {
     "name": "stderr",
     "output_type": "stream",
     "text": [
      "/Users/elisazhang/opt/anaconda3/lib/python3.7/site-packages/sklearn/utils/deprecation.py:87: FutureWarning: Function get_feature_names is deprecated; get_feature_names is deprecated in 1.0 and will be removed in 1.2. Please use get_feature_names_out instead.\n",
      "  warnings.warn(msg, category=FutureWarning)\n"
     ]
    },
    {
     "data": {
      "text/html": [
       "<div>\n",
       "<style scoped>\n",
       "    .dataframe tbody tr th:only-of-type {\n",
       "        vertical-align: middle;\n",
       "    }\n",
       "\n",
       "    .dataframe tbody tr th {\n",
       "        vertical-align: top;\n",
       "    }\n",
       "\n",
       "    .dataframe thead th {\n",
       "        text-align: right;\n",
       "    }\n",
       "</style>\n",
       "<table border=\"1\" class=\"dataframe\">\n",
       "  <thead>\n",
       "    <tr style=\"text-align: right;\">\n",
       "      <th></th>\n",
       "      <th>absorb</th>\n",
       "      <th>accentuate</th>\n",
       "      <th>access</th>\n",
       "      <th>accessories</th>\n",
       "      <th>accessory</th>\n",
       "      <th>accompany</th>\n",
       "      <th>ace</th>\n",
       "      <th>acetate</th>\n",
       "      <th>across</th>\n",
       "      <th>acrylic</th>\n",
       "      <th>...</th>\n",
       "      <th>yoke</th>\n",
       "      <th>yoyo</th>\n",
       "      <th>zebra</th>\n",
       "      <th>zeolites</th>\n",
       "      <th>zero</th>\n",
       "      <th>zigzag</th>\n",
       "      <th>zinc</th>\n",
       "      <th>zip</th>\n",
       "      <th>zlideon</th>\n",
       "      <th>ﬁbres</th>\n",
       "    </tr>\n",
       "    <tr>\n",
       "      <th>article_id</th>\n",
       "      <th></th>\n",
       "      <th></th>\n",
       "      <th></th>\n",
       "      <th></th>\n",
       "      <th></th>\n",
       "      <th></th>\n",
       "      <th></th>\n",
       "      <th></th>\n",
       "      <th></th>\n",
       "      <th></th>\n",
       "      <th></th>\n",
       "      <th></th>\n",
       "      <th></th>\n",
       "      <th></th>\n",
       "      <th></th>\n",
       "      <th></th>\n",
       "      <th></th>\n",
       "      <th></th>\n",
       "      <th></th>\n",
       "      <th></th>\n",
       "      <th></th>\n",
       "    </tr>\n",
       "  </thead>\n",
       "  <tbody>\n",
       "    <tr>\n",
       "      <th>108775015</th>\n",
       "      <td>0.0</td>\n",
       "      <td>0.0</td>\n",
       "      <td>0.0</td>\n",
       "      <td>0.0</td>\n",
       "      <td>0.0</td>\n",
       "      <td>0.0</td>\n",
       "      <td>0.0</td>\n",
       "      <td>0.0</td>\n",
       "      <td>0.0</td>\n",
       "      <td>0.0</td>\n",
       "      <td>...</td>\n",
       "      <td>0.0</td>\n",
       "      <td>0.0</td>\n",
       "      <td>0.0</td>\n",
       "      <td>0.0</td>\n",
       "      <td>0.0</td>\n",
       "      <td>0.0</td>\n",
       "      <td>0.0</td>\n",
       "      <td>0.0</td>\n",
       "      <td>0.0</td>\n",
       "      <td>0.0</td>\n",
       "    </tr>\n",
       "    <tr>\n",
       "      <th>108775044</th>\n",
       "      <td>0.0</td>\n",
       "      <td>0.0</td>\n",
       "      <td>0.0</td>\n",
       "      <td>0.0</td>\n",
       "      <td>0.0</td>\n",
       "      <td>0.0</td>\n",
       "      <td>0.0</td>\n",
       "      <td>0.0</td>\n",
       "      <td>0.0</td>\n",
       "      <td>0.0</td>\n",
       "      <td>...</td>\n",
       "      <td>0.0</td>\n",
       "      <td>0.0</td>\n",
       "      <td>0.0</td>\n",
       "      <td>0.0</td>\n",
       "      <td>0.0</td>\n",
       "      <td>0.0</td>\n",
       "      <td>0.0</td>\n",
       "      <td>0.0</td>\n",
       "      <td>0.0</td>\n",
       "      <td>0.0</td>\n",
       "    </tr>\n",
       "    <tr>\n",
       "      <th>108775051</th>\n",
       "      <td>0.0</td>\n",
       "      <td>0.0</td>\n",
       "      <td>0.0</td>\n",
       "      <td>0.0</td>\n",
       "      <td>0.0</td>\n",
       "      <td>0.0</td>\n",
       "      <td>0.0</td>\n",
       "      <td>0.0</td>\n",
       "      <td>0.0</td>\n",
       "      <td>0.0</td>\n",
       "      <td>...</td>\n",
       "      <td>0.0</td>\n",
       "      <td>0.0</td>\n",
       "      <td>0.0</td>\n",
       "      <td>0.0</td>\n",
       "      <td>0.0</td>\n",
       "      <td>0.0</td>\n",
       "      <td>0.0</td>\n",
       "      <td>0.0</td>\n",
       "      <td>0.0</td>\n",
       "      <td>0.0</td>\n",
       "    </tr>\n",
       "    <tr>\n",
       "      <th>110065001</th>\n",
       "      <td>0.0</td>\n",
       "      <td>0.0</td>\n",
       "      <td>0.0</td>\n",
       "      <td>0.0</td>\n",
       "      <td>0.0</td>\n",
       "      <td>0.0</td>\n",
       "      <td>0.0</td>\n",
       "      <td>0.0</td>\n",
       "      <td>0.0</td>\n",
       "      <td>0.0</td>\n",
       "      <td>...</td>\n",
       "      <td>0.0</td>\n",
       "      <td>0.0</td>\n",
       "      <td>0.0</td>\n",
       "      <td>0.0</td>\n",
       "      <td>0.0</td>\n",
       "      <td>0.0</td>\n",
       "      <td>0.0</td>\n",
       "      <td>0.0</td>\n",
       "      <td>0.0</td>\n",
       "      <td>0.0</td>\n",
       "    </tr>\n",
       "    <tr>\n",
       "      <th>110065002</th>\n",
       "      <td>0.0</td>\n",
       "      <td>0.0</td>\n",
       "      <td>0.0</td>\n",
       "      <td>0.0</td>\n",
       "      <td>0.0</td>\n",
       "      <td>0.0</td>\n",
       "      <td>0.0</td>\n",
       "      <td>0.0</td>\n",
       "      <td>0.0</td>\n",
       "      <td>0.0</td>\n",
       "      <td>...</td>\n",
       "      <td>0.0</td>\n",
       "      <td>0.0</td>\n",
       "      <td>0.0</td>\n",
       "      <td>0.0</td>\n",
       "      <td>0.0</td>\n",
       "      <td>0.0</td>\n",
       "      <td>0.0</td>\n",
       "      <td>0.0</td>\n",
       "      <td>0.0</td>\n",
       "      <td>0.0</td>\n",
       "    </tr>\n",
       "    <tr>\n",
       "      <th>...</th>\n",
       "      <td>...</td>\n",
       "      <td>...</td>\n",
       "      <td>...</td>\n",
       "      <td>...</td>\n",
       "      <td>...</td>\n",
       "      <td>...</td>\n",
       "      <td>...</td>\n",
       "      <td>...</td>\n",
       "      <td>...</td>\n",
       "      <td>...</td>\n",
       "      <td>...</td>\n",
       "      <td>...</td>\n",
       "      <td>...</td>\n",
       "      <td>...</td>\n",
       "      <td>...</td>\n",
       "      <td>...</td>\n",
       "      <td>...</td>\n",
       "      <td>...</td>\n",
       "      <td>...</td>\n",
       "      <td>...</td>\n",
       "      <td>...</td>\n",
       "    </tr>\n",
       "    <tr>\n",
       "      <th>953450001</th>\n",
       "      <td>0.0</td>\n",
       "      <td>0.0</td>\n",
       "      <td>0.0</td>\n",
       "      <td>0.0</td>\n",
       "      <td>0.0</td>\n",
       "      <td>0.0</td>\n",
       "      <td>0.0</td>\n",
       "      <td>0.0</td>\n",
       "      <td>0.0</td>\n",
       "      <td>0.0</td>\n",
       "      <td>...</td>\n",
       "      <td>0.0</td>\n",
       "      <td>0.0</td>\n",
       "      <td>0.0</td>\n",
       "      <td>0.0</td>\n",
       "      <td>0.0</td>\n",
       "      <td>0.0</td>\n",
       "      <td>0.0</td>\n",
       "      <td>0.0</td>\n",
       "      <td>0.0</td>\n",
       "      <td>0.0</td>\n",
       "    </tr>\n",
       "    <tr>\n",
       "      <th>953763001</th>\n",
       "      <td>0.0</td>\n",
       "      <td>0.0</td>\n",
       "      <td>0.0</td>\n",
       "      <td>0.0</td>\n",
       "      <td>0.0</td>\n",
       "      <td>0.0</td>\n",
       "      <td>0.0</td>\n",
       "      <td>0.0</td>\n",
       "      <td>0.0</td>\n",
       "      <td>0.0</td>\n",
       "      <td>...</td>\n",
       "      <td>0.0</td>\n",
       "      <td>0.0</td>\n",
       "      <td>0.0</td>\n",
       "      <td>0.0</td>\n",
       "      <td>0.0</td>\n",
       "      <td>0.0</td>\n",
       "      <td>0.0</td>\n",
       "      <td>0.0</td>\n",
       "      <td>0.0</td>\n",
       "      <td>0.0</td>\n",
       "    </tr>\n",
       "    <tr>\n",
       "      <th>956217002</th>\n",
       "      <td>0.0</td>\n",
       "      <td>0.0</td>\n",
       "      <td>0.0</td>\n",
       "      <td>0.0</td>\n",
       "      <td>0.0</td>\n",
       "      <td>0.0</td>\n",
       "      <td>0.0</td>\n",
       "      <td>0.0</td>\n",
       "      <td>0.0</td>\n",
       "      <td>0.0</td>\n",
       "      <td>...</td>\n",
       "      <td>0.0</td>\n",
       "      <td>0.0</td>\n",
       "      <td>0.0</td>\n",
       "      <td>0.0</td>\n",
       "      <td>0.0</td>\n",
       "      <td>0.0</td>\n",
       "      <td>0.0</td>\n",
       "      <td>0.0</td>\n",
       "      <td>0.0</td>\n",
       "      <td>0.0</td>\n",
       "    </tr>\n",
       "    <tr>\n",
       "      <th>957375001</th>\n",
       "      <td>0.0</td>\n",
       "      <td>0.0</td>\n",
       "      <td>0.0</td>\n",
       "      <td>0.0</td>\n",
       "      <td>0.0</td>\n",
       "      <td>0.0</td>\n",
       "      <td>0.0</td>\n",
       "      <td>0.0</td>\n",
       "      <td>0.0</td>\n",
       "      <td>0.0</td>\n",
       "      <td>...</td>\n",
       "      <td>0.0</td>\n",
       "      <td>0.0</td>\n",
       "      <td>0.0</td>\n",
       "      <td>0.0</td>\n",
       "      <td>0.0</td>\n",
       "      <td>0.0</td>\n",
       "      <td>0.0</td>\n",
       "      <td>0.0</td>\n",
       "      <td>0.0</td>\n",
       "      <td>0.0</td>\n",
       "    </tr>\n",
       "    <tr>\n",
       "      <th>959461001</th>\n",
       "      <td>0.0</td>\n",
       "      <td>0.0</td>\n",
       "      <td>0.0</td>\n",
       "      <td>0.0</td>\n",
       "      <td>0.0</td>\n",
       "      <td>0.0</td>\n",
       "      <td>0.0</td>\n",
       "      <td>0.0</td>\n",
       "      <td>0.0</td>\n",
       "      <td>0.0</td>\n",
       "      <td>...</td>\n",
       "      <td>0.0</td>\n",
       "      <td>0.0</td>\n",
       "      <td>0.0</td>\n",
       "      <td>0.0</td>\n",
       "      <td>0.0</td>\n",
       "      <td>0.0</td>\n",
       "      <td>0.0</td>\n",
       "      <td>0.0</td>\n",
       "      <td>0.0</td>\n",
       "      <td>0.0</td>\n",
       "    </tr>\n",
       "  </tbody>\n",
       "</table>\n",
       "<p>105542 rows × 2263 columns</p>\n",
       "</div>"
      ],
      "text/plain": [
       "            absorb  accentuate  access  accessories  accessory  accompany  \\\n",
       "article_id                                                                  \n",
       "108775015      0.0         0.0     0.0          0.0        0.0        0.0   \n",
       "108775044      0.0         0.0     0.0          0.0        0.0        0.0   \n",
       "108775051      0.0         0.0     0.0          0.0        0.0        0.0   \n",
       "110065001      0.0         0.0     0.0          0.0        0.0        0.0   \n",
       "110065002      0.0         0.0     0.0          0.0        0.0        0.0   \n",
       "...            ...         ...     ...          ...        ...        ...   \n",
       "953450001      0.0         0.0     0.0          0.0        0.0        0.0   \n",
       "953763001      0.0         0.0     0.0          0.0        0.0        0.0   \n",
       "956217002      0.0         0.0     0.0          0.0        0.0        0.0   \n",
       "957375001      0.0         0.0     0.0          0.0        0.0        0.0   \n",
       "959461001      0.0         0.0     0.0          0.0        0.0        0.0   \n",
       "\n",
       "            ace  acetate  across  acrylic  ...  yoke  yoyo  zebra  zeolites  \\\n",
       "article_id                                 ...                                \n",
       "108775015   0.0      0.0     0.0      0.0  ...   0.0   0.0    0.0       0.0   \n",
       "108775044   0.0      0.0     0.0      0.0  ...   0.0   0.0    0.0       0.0   \n",
       "108775051   0.0      0.0     0.0      0.0  ...   0.0   0.0    0.0       0.0   \n",
       "110065001   0.0      0.0     0.0      0.0  ...   0.0   0.0    0.0       0.0   \n",
       "110065002   0.0      0.0     0.0      0.0  ...   0.0   0.0    0.0       0.0   \n",
       "...         ...      ...     ...      ...  ...   ...   ...    ...       ...   \n",
       "953450001   0.0      0.0     0.0      0.0  ...   0.0   0.0    0.0       0.0   \n",
       "953763001   0.0      0.0     0.0      0.0  ...   0.0   0.0    0.0       0.0   \n",
       "956217002   0.0      0.0     0.0      0.0  ...   0.0   0.0    0.0       0.0   \n",
       "957375001   0.0      0.0     0.0      0.0  ...   0.0   0.0    0.0       0.0   \n",
       "959461001   0.0      0.0     0.0      0.0  ...   0.0   0.0    0.0       0.0   \n",
       "\n",
       "            zero  zigzag  zinc  zip  zlideon  ﬁbres  \n",
       "article_id                                           \n",
       "108775015    0.0     0.0   0.0  0.0      0.0    0.0  \n",
       "108775044    0.0     0.0   0.0  0.0      0.0    0.0  \n",
       "108775051    0.0     0.0   0.0  0.0      0.0    0.0  \n",
       "110065001    0.0     0.0   0.0  0.0      0.0    0.0  \n",
       "110065002    0.0     0.0   0.0  0.0      0.0    0.0  \n",
       "...          ...     ...   ...  ...      ...    ...  \n",
       "953450001    0.0     0.0   0.0  0.0      0.0    0.0  \n",
       "953763001    0.0     0.0   0.0  0.0      0.0    0.0  \n",
       "956217002    0.0     0.0   0.0  0.0      0.0    0.0  \n",
       "957375001    0.0     0.0   0.0  0.0      0.0    0.0  \n",
       "959461001    0.0     0.0   0.0  0.0      0.0    0.0  \n",
       "\n",
       "[105542 rows x 2263 columns]"
      ]
     },
     "execution_count": 223,
     "metadata": {},
     "output_type": "execute_result"
    }
   ],
   "source": [
    "#visualize the tfide matrix\n",
    "pd.DataFrame(tfidf_article.todense(), columns=tfidf_vectorizer.get_feature_names(),   \n",
    "             index=articles_text.article_id)#.sample(5, axis=1).sample(10, axis=0)"
   ]
  },
  {
   "cell_type": "code",
   "execution_count": 224,
   "metadata": {},
   "outputs": [],
   "source": [
    "from scipy.sparse import csr_matrix\n",
    "\n",
    "def save_sparse_csr(filename,array):\n",
    "    np.savez(filename,data = array.data ,indices=array.indices,\n",
    "             indptr =array.indptr, shape=array.shape )\n",
    "\n",
    "def load_sparse_csr(filename):\n",
    "    loader = np.load(filename)\n",
    "    return csr_matrix((loader['data'], loader['indices'], loader['indptr']),\n",
    "                         shape = loader['shape'])\n",
    "\n",
    "save_sparse_csr('prod_tf_idf.npz', tfidf_article)"
   ]
  },
  {
   "cell_type": "code",
   "execution_count": 225,
   "metadata": {},
   "outputs": [],
   "source": [
    "tfidf_article = load_sparse_csr('prod_tf_idf.npz')"
   ]
  },
  {
   "cell_type": "code",
   "execution_count": 226,
   "metadata": {},
   "outputs": [
    {
     "name": "stdout",
     "output_type": "stream",
     "text": [
      "Total variance explained: 0.39\n"
     ]
    }
   ],
   "source": [
    "#try SVD - singular vector decomposition\n",
    "svd = TruncatedSVD(n_components=35, random_state=42)\n",
    "X_svd = svd.fit_transform(tfidf_article)\n",
    "print(f\"Total variance explained: {np.sum(svd.explained_variance_ratio_):.2f}\")"
   ]
  },
  {
   "cell_type": "code",
   "execution_count": 227,
   "metadata": {},
   "outputs": [
    {
     "name": "stderr",
     "output_type": "stream",
     "text": [
      "100%|███████████████████████████████████████████| 18/18 [00:33<00:00,  1.85s/it]\n"
     ]
    }
   ],
   "source": [
    "##### Inertia error method\n",
    "from scipy.spatial.distance import cdist\n",
    "import matplotlib.pyplot as plt\n",
    "cluster_range = range(2, 20)\n",
    "cluster_errors = []\n",
    "cluster_dist = []\n",
    "distortions = []\n",
    "for num_clusters in tqdm(cluster_range):\n",
    "   clusters = KMeans(num_clusters)\n",
    "   clusters.fit(X_svd)\n",
    "   #cluster_errors.append(clusters.inertia_ )\n",
    "   #cluster_dist.append(sum(np.min(cdist(X, clusters.cluster_centers_,\n",
    "   #                                'euclidean'), axis=1)) / X.shape[0])\n",
    "   distortions.append(sum(np.min(cdist(X_svd, clusters.cluster_centers_,\n",
    "                                        'euclidean'), axis=1)) / X_svd.shape[0])\n",
    "clusters_df = pd.DataFrame( { \"num_clusters\":cluster_range, \"distortions\": distortions } )\n"
   ]
  },
  {
   "cell_type": "code",
   "execution_count": 228,
   "metadata": {},
   "outputs": [
    {
     "data": {
      "text/plain": [
       "[<matplotlib.lines.Line2D at 0x7fa69a919610>]"
      ]
     },
     "execution_count": 228,
     "metadata": {},
     "output_type": "execute_result"
    },
    {
     "data": {
      "image/png": "[encoded data removed]",
      "text/plain": [
       "<Figure size 864x432 with 1 Axes>"
      ]
     },
     "metadata": {
      "needs_background": "light"
     },
     "output_type": "display_data"
    }
   ],
   "source": [
    "plt.figure(figsize=(12,6))\n",
    "plt.plot(clusters_df.num_clusters, clusters_df.distortions, marker = \"o\" )"
   ]
  },
  {
   "cell_type": "markdown",
   "metadata": {},
   "source": [
    "Now that we have an initial vector representation, we can use it to cluster our documents. We will focus on the K-means algorithm with K starting from 2 and increasing. Next, we can choose the K value that better helps us to spot topics in the final clusters. Doing so, we are impersonating a domain expert that analyzes and evaluates the final subdivision. Remember that, in our context, one clear topic per cluster is the desired outcome.\n",
    "\n",
    "One simple approach to describe the clusters would exploit wordcloud images. These “clouds” include the most important words in collection of texts for a certain metric. The more a word is significant the bigger it appears in the picture. Fortunately, we already have a “significance” metric: the TFIDF weight of each word. Let’s exploit its very meaning and choose it as the “importance” metric for the wordcloud."
   ]
  },
  {
   "cell_type": "code",
   "execution_count": 229,
   "metadata": {},
   "outputs": [],
   "source": [
    "model = KMeans(n_clusters=18, random_state=42)\n",
    "y_pred = model.fit_predict(X_svd)\n",
    "cluster_ids = set(y_pred)\n",
    "\n",
    "df_all = pd.DataFrame()\n",
    "min_support = 0.3\n",
    "word_positions = {v: k for k, v in tfidf_vectorizer.vocabulary_.items()}\n",
    "dist_words = sorted(v for k, v in word_positions.items()) # distinct words in the vocabulary\n",
    "articles['cluster_id'] = y_pred"
   ]
  },
  {
   "cell_type": "markdown",
   "metadata": {},
   "source": [
    "### Customer features\n",
    "* expense in the past N weeks\n",
    "* mean price / max price -> for customer \n",
    "* mean channel_id by each \n",
    "* numbers of orders "
   ]
  },
  {
   "cell_type": "code",
   "execution_count": 230,
   "metadata": {},
   "outputs": [],
   "source": [
    "customer_price = transactions.groupby(['customer_id'])['price'].mean()/transactions.groupby(['customer_id'])['price'].max()"
   ]
  },
  {
   "cell_type": "code",
   "execution_count": 231,
   "metadata": {},
   "outputs": [],
   "source": [
    "customers = pd.merge(customer_price,customers, on = ['customer_id'])"
   ]
  },
  {
   "cell_type": "code",
   "execution_count": 232,
   "metadata": {},
   "outputs": [],
   "source": [
    "customers = customers.rename(columns={\"price\":\"mean_max_price\"})"
   ]
  },
  {
   "cell_type": "code",
   "execution_count": 233,
   "metadata": {},
   "outputs": [],
   "source": [
    "customer_channel = transactions.groupby(['customer_id'])['sales_channel_id'].mean()"
   ]
  },
  {
   "cell_type": "code",
   "execution_count": 234,
   "metadata": {},
   "outputs": [],
   "source": [
    "customers = pd.merge(customer_channel,customers, on = ['customer_id']).rename(columns={\"sales_channel_id\":\"avg_channel_id\"})"
   ]
  },
  {
   "cell_type": "code",
   "execution_count": 235,
   "metadata": {},
   "outputs": [],
   "source": [
    "# expense in the past N weeks"
   ]
  },
  {
   "cell_type": "code",
   "execution_count": 236,
   "metadata": {},
   "outputs": [],
   "source": [
    "customer_avg_expense = transactions.groupby(['customer_id'])['price'].mean()"
   ]
  },
  {
   "cell_type": "code",
   "execution_count": 237,
   "metadata": {},
   "outputs": [],
   "source": [
    "customers = pd.merge(customers, customer_avg_expense, on = ['customer_id']).rename(columns = {'price': 'avg_expense'})"
   ]
  },
  {
   "cell_type": "code",
   "execution_count": 238,
   "metadata": {},
   "outputs": [],
   "source": [
    "#number of orders"
   ]
  },
  {
   "cell_type": "code",
   "execution_count": 239,
   "metadata": {},
   "outputs": [],
   "source": [
    "orders_num = transactions.groupby(['customer_id'])['customer_id'].agg('count').reset_index(name='counts')"
   ]
  },
  {
   "cell_type": "code",
   "execution_count": 240,
   "metadata": {},
   "outputs": [
    {
     "data": {
      "text/html": [
       "<div>\n",
       "<style scoped>\n",
       "    .dataframe tbody tr th:only-of-type {\n",
       "        vertical-align: middle;\n",
       "    }\n",
       "\n",
       "    .dataframe tbody tr th {\n",
       "        vertical-align: top;\n",
       "    }\n",
       "\n",
       "    .dataframe thead th {\n",
       "        text-align: right;\n",
       "    }\n",
       "</style>\n",
       "<table border=\"1\" class=\"dataframe\">\n",
       "  <thead>\n",
       "    <tr style=\"text-align: right;\">\n",
       "      <th></th>\n",
       "      <th>customer_id</th>\n",
       "      <th>counts</th>\n",
       "    </tr>\n",
       "  </thead>\n",
       "  <tbody>\n",
       "    <tr>\n",
       "      <th>0</th>\n",
       "      <td>28847241659200</td>\n",
       "      <td>5</td>\n",
       "    </tr>\n",
       "    <tr>\n",
       "      <th>1</th>\n",
       "      <td>41318098387474</td>\n",
       "      <td>1</td>\n",
       "    </tr>\n",
       "    <tr>\n",
       "      <th>2</th>\n",
       "      <td>116809474287335</td>\n",
       "      <td>6</td>\n",
       "    </tr>\n",
       "    <tr>\n",
       "      <th>3</th>\n",
       "      <td>200292573348128</td>\n",
       "      <td>19</td>\n",
       "    </tr>\n",
       "    <tr>\n",
       "      <th>4</th>\n",
       "      <td>248294615847351</td>\n",
       "      <td>4</td>\n",
       "    </tr>\n",
       "    <tr>\n",
       "      <th>...</th>\n",
       "      <td>...</td>\n",
       "      <td>...</td>\n",
       "    </tr>\n",
       "    <tr>\n",
       "      <th>437360</th>\n",
       "      <td>18446624797007271432</td>\n",
       "      <td>4</td>\n",
       "    </tr>\n",
       "    <tr>\n",
       "      <th>437361</th>\n",
       "      <td>18446630855572834764</td>\n",
       "      <td>5</td>\n",
       "    </tr>\n",
       "    <tr>\n",
       "      <th>437362</th>\n",
       "      <td>18446662237889060501</td>\n",
       "      <td>2</td>\n",
       "    </tr>\n",
       "    <tr>\n",
       "      <th>437363</th>\n",
       "      <td>18446705133201055310</td>\n",
       "      <td>1</td>\n",
       "    </tr>\n",
       "    <tr>\n",
       "      <th>437364</th>\n",
       "      <td>18446737527580148316</td>\n",
       "      <td>4</td>\n",
       "    </tr>\n",
       "  </tbody>\n",
       "</table>\n",
       "<p>437365 rows × 2 columns</p>\n",
       "</div>"
      ],
      "text/plain": [
       "                 customer_id  counts\n",
       "0             28847241659200       5\n",
       "1             41318098387474       1\n",
       "2            116809474287335       6\n",
       "3            200292573348128      19\n",
       "4            248294615847351       4\n",
       "...                      ...     ...\n",
       "437360  18446624797007271432       4\n",
       "437361  18446630855572834764       5\n",
       "437362  18446662237889060501       2\n",
       "437363  18446705133201055310       1\n",
       "437364  18446737527580148316       4\n",
       "\n",
       "[437365 rows x 2 columns]"
      ]
     },
     "execution_count": 240,
     "metadata": {},
     "output_type": "execute_result"
    }
   ],
   "source": [
    "orders_num"
   ]
  },
  {
   "cell_type": "code",
   "execution_count": 241,
   "metadata": {},
   "outputs": [],
   "source": [
    "customers = pd.merge(orders_num, customers, on = ['customer_id'])"
   ]
  },
  {
   "cell_type": "code",
   "execution_count": 242,
   "metadata": {},
   "outputs": [],
   "source": [
    "# expense in the past N weeks"
   ]
  },
  {
   "cell_type": "code",
   "execution_count": 243,
   "metadata": {},
   "outputs": [],
   "source": [
    "customer_sum_expense = transactions.groupby(['customer_id'])['price'].sum()"
   ]
  },
  {
   "cell_type": "code",
   "execution_count": 244,
   "metadata": {},
   "outputs": [],
   "source": [
    "customers = pd.merge(customers, customer_sum_expense, on= ['customer_id']).rename(columns = {'price': 'total_expense'})"
   ]
  },
  {
   "cell_type": "markdown",
   "metadata": {
    "id": "Vcz9bc1-AuwM"
   },
   "source": [
    "### Add bestseller information"
   ]
  },
  {
   "cell_type": "code",
   "execution_count": 245,
   "metadata": {
    "execution": {
     "iopub.execute_input": "2022-04-16T16:57:05.130915Z",
     "iopub.status.busy": "2022-04-16T16:57:05.130621Z",
     "iopub.status.idle": "2022-04-16T16:57:08.938612Z",
     "shell.execute_reply": "2022-04-16T16:57:08.93771Z",
     "shell.execute_reply.started": "2022-04-16T16:57:05.130885Z"
    },
    "id": "BEz3VaoKAuwM"
   },
   "outputs": [],
   "source": [
    "data = pd.merge(\n",
    "    data,\n",
    "    bestsellers_previous_week[['week', 'article_id', 'bestseller_rank']],\n",
    "    on=['week', 'article_id'],\n",
    "    how='left'\n",
    ")"
   ]
  },
  {
   "cell_type": "code",
   "execution_count": 246,
   "metadata": {
    "colab": {
     "base_uri": "https://localhost:8080/"
    },
    "execution": {
     "iopub.execute_input": "2022-04-16T16:57:08.940616Z",
     "iopub.status.busy": "2022-04-16T16:57:08.940267Z",
     "iopub.status.idle": "2022-04-16T16:57:11.304612Z",
     "shell.execute_reply": "2022-04-16T16:57:11.303642Z",
     "shell.execute_reply.started": "2022-04-16T16:57:08.940582Z"
    },
    "id": "uwe5W7RXAuwM",
    "outputId": "adee1c6e-8049-4db1-ef78-fbcb53e18b19"
   },
   "outputs": [],
   "source": [
    "data = data[data.week != data.week.min()]\n",
    "data.bestseller_rank.fillna(999, inplace=True)"
   ]
  },
  {
   "cell_type": "code",
   "execution_count": 247,
   "metadata": {
    "execution": {
     "iopub.execute_input": "2022-04-16T16:57:11.306171Z",
     "iopub.status.busy": "2022-04-16T16:57:11.305896Z",
     "iopub.status.idle": "2022-04-16T16:57:33.962326Z",
     "shell.execute_reply": "2022-04-16T16:57:33.961223Z",
     "shell.execute_reply.started": "2022-04-16T16:57:11.306138Z"
    },
    "id": "cHFEIta7AuwM"
   },
   "outputs": [],
   "source": [
    "data = pd.merge(data, articles, on='article_id', how='left')\n",
    "data = pd.merge(data, customers, on='customer_id', how='left')"
   ]
  },
  {
   "cell_type": "code",
   "execution_count": 248,
   "metadata": {
    "execution": {
     "iopub.execute_input": "2022-04-16T16:57:33.964533Z",
     "iopub.status.busy": "2022-04-16T16:57:33.964281Z",
     "iopub.status.idle": "2022-04-16T16:57:40.05823Z",
     "shell.execute_reply": "2022-04-16T16:57:40.057265Z",
     "shell.execute_reply.started": "2022-04-16T16:57:33.964502Z"
    },
    "id": "WYpUNTfnAuwM"
   },
   "outputs": [],
   "source": [
    "data.sort_values(['week', 'customer_id'], inplace=True)\n",
    "data.reset_index(drop=True, inplace=True)"
   ]
  },
  {
   "cell_type": "code",
   "execution_count": 249,
   "metadata": {
    "execution": {
     "iopub.execute_input": "2022-04-16T16:57:40.059659Z",
     "iopub.status.busy": "2022-04-16T16:57:40.059395Z",
     "iopub.status.idle": "2022-04-16T16:57:47.342576Z",
     "shell.execute_reply": "2022-04-16T16:57:47.34179Z",
     "shell.execute_reply.started": "2022-04-16T16:57:40.059627Z"
    },
    "id": "fqEhPq3NAuwM"
   },
   "outputs": [],
   "source": [
    "train = data[data.week != test_week]\n",
    "test = data[data.week==test_week].drop_duplicates(['customer_id', 'article_id', 'sales_channel_id']).copy()"
   ]
  },
  {
   "cell_type": "code",
   "execution_count": 250,
   "metadata": {
    "colab": {
     "base_uri": "https://localhost:8080/"
    },
    "id": "g4XvGbbgo5Zl",
    "outputId": "4c91b356-8357-453e-b2b3-f704b48ff9c6"
   },
   "outputs": [
    {
     "data": {
      "text/plain": [
       "0           999.0\n",
       "1           999.0\n",
       "2           999.0\n",
       "3             1.0\n",
       "4             2.0\n",
       "            ...  \n",
       "11381607      8.0\n",
       "11381608      9.0\n",
       "11381609     10.0\n",
       "11381610     11.0\n",
       "11381611     12.0\n",
       "Name: bestseller_rank, Length: 11381612, dtype: float64"
      ]
     },
     "execution_count": 250,
     "metadata": {},
     "output_type": "execute_result"
    }
   ],
   "source": [
    "train.bestseller_rank"
   ]
  },
  {
   "cell_type": "code",
   "execution_count": 251,
   "metadata": {
    "execution": {
     "iopub.execute_input": "2022-04-16T16:57:47.344074Z",
     "iopub.status.busy": "2022-04-16T16:57:47.343704Z",
     "iopub.status.idle": "2022-04-16T16:57:48.278583Z",
     "shell.execute_reply": "2022-04-16T16:57:48.277693Z",
     "shell.execute_reply.started": "2022-04-16T16:57:47.344043Z"
    },
    "id": "jbuCeSCwAuwN"
   },
   "outputs": [],
   "source": [
    "train_baskets = train.groupby(['week', 'customer_id'])['article_id'].count().values"
   ]
  },
  {
   "cell_type": "code",
   "execution_count": 252,
   "metadata": {
    "colab": {
     "base_uri": "https://localhost:8080/"
    },
    "id": "K5bQb_KJzcnS",
    "outputId": "f49c95b0-e404-4335-87d7-e525be423df2"
   },
   "outputs": [
    {
     "data": {
      "text/plain": [
       "week  customer_id         \n",
       "96    28847241659200          [887770001, 762846001, 829308001, 760084003, 8...\n",
       "      200292573348128         [880777001, 784332002, 827968001, 599580086, 6...\n",
       "      248294615847351         [720504008, 471714002, 878987003, 337991001, 7...\n",
       "      272412481300040         [885077001, 850176003, 875803001, 892970003, 8...\n",
       "      366493139417506         [822344001, 839287007, 760084003, 866731001, 6...\n",
       "                                                    ...                        \n",
       "104   18444954504588539615    [903062001, 807244017, 909370001, 865799006, 9...\n",
       "      18445164350380731040    [730683050, 909370001, 865799006, 918522001, 9...\n",
       "      18445340048433064259    [714790028, 906612002, 909370001, 865799006, 9...\n",
       "      18445641720816255142    [898713001, 909014001, 919365008, 827635001, 8...\n",
       "      18446737527580148316    [547780001, 763988001, 763988003, 547780040, 9...\n",
       "Name: article_id, Length: 678433, dtype: object"
      ]
     },
     "execution_count": 252,
     "metadata": {},
     "output_type": "execute_result"
    }
   ],
   "source": [
    "train.groupby(['week', 'customer_id'])['article_id'].agg(list)"
   ]
  },
  {
   "cell_type": "code",
   "execution_count": 253,
   "metadata": {},
   "outputs": [
    {
     "data": {
      "text/html": [
       "<div>\n",
       "<style scoped>\n",
       "    .dataframe tbody tr th:only-of-type {\n",
       "        vertical-align: middle;\n",
       "    }\n",
       "\n",
       "    .dataframe tbody tr th {\n",
       "        vertical-align: top;\n",
       "    }\n",
       "\n",
       "    .dataframe thead th {\n",
       "        text-align: right;\n",
       "    }\n",
       "</style>\n",
       "<table border=\"1\" class=\"dataframe\">\n",
       "  <thead>\n",
       "    <tr style=\"text-align: right;\">\n",
       "      <th></th>\n",
       "      <th>t_dat</th>\n",
       "      <th>customer_id</th>\n",
       "      <th>article_id</th>\n",
       "      <th>price</th>\n",
       "      <th>sales_channel_id</th>\n",
       "      <th>week</th>\n",
       "      <th>purchased</th>\n",
       "      <th>bestseller_rank</th>\n",
       "      <th>product_code</th>\n",
       "      <th>prod_name</th>\n",
       "      <th>...</th>\n",
       "      <th>avg_channel_id</th>\n",
       "      <th>mean_max_price</th>\n",
       "      <th>FN</th>\n",
       "      <th>Active</th>\n",
       "      <th>club_member_status</th>\n",
       "      <th>fashion_news_frequency</th>\n",
       "      <th>age</th>\n",
       "      <th>postal_code</th>\n",
       "      <th>avg_expense</th>\n",
       "      <th>total_expense</th>\n",
       "    </tr>\n",
       "  </thead>\n",
       "  <tbody>\n",
       "    <tr>\n",
       "      <th>0</th>\n",
       "      <td>2020-07-26</td>\n",
       "      <td>28847241659200</td>\n",
       "      <td>887770001</td>\n",
       "      <td>0.016932</td>\n",
       "      <td>1.0</td>\n",
       "      <td>96</td>\n",
       "      <td>1.0</td>\n",
       "      <td>999.0</td>\n",
       "      <td>887770</td>\n",
       "      <td>Orvar strap top</td>\n",
       "      <td>...</td>\n",
       "      <td>1.2</td>\n",
       "      <td>0.35781</td>\n",
       "      <td>1.0</td>\n",
       "      <td>1.0</td>\n",
       "      <td>0.0</td>\n",
       "      <td>1.0</td>\n",
       "      <td>21.0</td>\n",
       "      <td>57896.0</td>\n",
       "      <td>0.046085</td>\n",
       "      <td>0.230424</td>\n",
       "    </tr>\n",
       "    <tr>\n",
       "      <th>1</th>\n",
       "      <td>2020-07-18</td>\n",
       "      <td>28847241659200</td>\n",
       "      <td>762846001</td>\n",
       "      <td>0.025407</td>\n",
       "      <td>1.0</td>\n",
       "      <td>96</td>\n",
       "      <td>0.0</td>\n",
       "      <td>999.0</td>\n",
       "      <td>762846</td>\n",
       "      <td>Lucy blouse</td>\n",
       "      <td>...</td>\n",
       "      <td>1.2</td>\n",
       "      <td>0.35781</td>\n",
       "      <td>1.0</td>\n",
       "      <td>1.0</td>\n",
       "      <td>0.0</td>\n",
       "      <td>1.0</td>\n",
       "      <td>21.0</td>\n",
       "      <td>57896.0</td>\n",
       "      <td>0.046085</td>\n",
       "      <td>0.230424</td>\n",
       "    </tr>\n",
       "    <tr>\n",
       "      <th>2</th>\n",
       "      <td>2020-07-18</td>\n",
       "      <td>28847241659200</td>\n",
       "      <td>829308001</td>\n",
       "      <td>0.033881</td>\n",
       "      <td>1.0</td>\n",
       "      <td>96</td>\n",
       "      <td>0.0</td>\n",
       "      <td>999.0</td>\n",
       "      <td>829308</td>\n",
       "      <td>HAVANA HW cropped</td>\n",
       "      <td>...</td>\n",
       "      <td>1.2</td>\n",
       "      <td>0.35781</td>\n",
       "      <td>1.0</td>\n",
       "      <td>1.0</td>\n",
       "      <td>0.0</td>\n",
       "      <td>1.0</td>\n",
       "      <td>21.0</td>\n",
       "      <td>57896.0</td>\n",
       "      <td>0.046085</td>\n",
       "      <td>0.230424</td>\n",
       "    </tr>\n",
       "    <tr>\n",
       "      <th>3</th>\n",
       "      <td>2020-07-26</td>\n",
       "      <td>28847241659200</td>\n",
       "      <td>760084003</td>\n",
       "      <td>0.025094</td>\n",
       "      <td>1.0</td>\n",
       "      <td>96</td>\n",
       "      <td>0.0</td>\n",
       "      <td>1.0</td>\n",
       "      <td>760084</td>\n",
       "      <td>Victorville HW Pull-on TRS</td>\n",
       "      <td>...</td>\n",
       "      <td>1.2</td>\n",
       "      <td>0.35781</td>\n",
       "      <td>1.0</td>\n",
       "      <td>1.0</td>\n",
       "      <td>0.0</td>\n",
       "      <td>1.0</td>\n",
       "      <td>21.0</td>\n",
       "      <td>57896.0</td>\n",
       "      <td>0.046085</td>\n",
       "      <td>0.230424</td>\n",
       "    </tr>\n",
       "    <tr>\n",
       "      <th>4</th>\n",
       "      <td>2020-07-26</td>\n",
       "      <td>28847241659200</td>\n",
       "      <td>866731001</td>\n",
       "      <td>0.024919</td>\n",
       "      <td>1.0</td>\n",
       "      <td>96</td>\n",
       "      <td>0.0</td>\n",
       "      <td>2.0</td>\n",
       "      <td>866731</td>\n",
       "      <td>LANA seamless HW tigths</td>\n",
       "      <td>...</td>\n",
       "      <td>1.2</td>\n",
       "      <td>0.35781</td>\n",
       "      <td>1.0</td>\n",
       "      <td>1.0</td>\n",
       "      <td>0.0</td>\n",
       "      <td>1.0</td>\n",
       "      <td>21.0</td>\n",
       "      <td>57896.0</td>\n",
       "      <td>0.046085</td>\n",
       "      <td>0.230424</td>\n",
       "    </tr>\n",
       "    <tr>\n",
       "      <th>...</th>\n",
       "      <td>...</td>\n",
       "      <td>...</td>\n",
       "      <td>...</td>\n",
       "      <td>...</td>\n",
       "      <td>...</td>\n",
       "      <td>...</td>\n",
       "      <td>...</td>\n",
       "      <td>...</td>\n",
       "      <td>...</td>\n",
       "      <td>...</td>\n",
       "      <td>...</td>\n",
       "      <td>...</td>\n",
       "      <td>...</td>\n",
       "      <td>...</td>\n",
       "      <td>...</td>\n",
       "      <td>...</td>\n",
       "      <td>...</td>\n",
       "      <td>...</td>\n",
       "      <td>...</td>\n",
       "      <td>...</td>\n",
       "      <td>...</td>\n",
       "    </tr>\n",
       "    <tr>\n",
       "      <th>11381607</th>\n",
       "      <td>2020-09-21</td>\n",
       "      <td>18446737527580148316</td>\n",
       "      <td>918292001</td>\n",
       "      <td>0.041424</td>\n",
       "      <td>2.0</td>\n",
       "      <td>104</td>\n",
       "      <td>0.0</td>\n",
       "      <td>8.0</td>\n",
       "      <td>918292</td>\n",
       "      <td>STRONG HW seamless tights</td>\n",
       "      <td>...</td>\n",
       "      <td>2.0</td>\n",
       "      <td>1.00000</td>\n",
       "      <td>1.0</td>\n",
       "      <td>1.0</td>\n",
       "      <td>0.0</td>\n",
       "      <td>1.0</td>\n",
       "      <td>60.0</td>\n",
       "      <td>96323.0</td>\n",
       "      <td>0.023712</td>\n",
       "      <td>0.094847</td>\n",
       "    </tr>\n",
       "    <tr>\n",
       "      <th>11381608</th>\n",
       "      <td>2020-09-21</td>\n",
       "      <td>18446737527580148316</td>\n",
       "      <td>762846027</td>\n",
       "      <td>0.025104</td>\n",
       "      <td>2.0</td>\n",
       "      <td>104</td>\n",
       "      <td>0.0</td>\n",
       "      <td>9.0</td>\n",
       "      <td>762846</td>\n",
       "      <td>Lucy blouse</td>\n",
       "      <td>...</td>\n",
       "      <td>2.0</td>\n",
       "      <td>1.00000</td>\n",
       "      <td>1.0</td>\n",
       "      <td>1.0</td>\n",
       "      <td>0.0</td>\n",
       "      <td>1.0</td>\n",
       "      <td>60.0</td>\n",
       "      <td>96323.0</td>\n",
       "      <td>0.023712</td>\n",
       "      <td>0.094847</td>\n",
       "    </tr>\n",
       "    <tr>\n",
       "      <th>11381609</th>\n",
       "      <td>2020-09-21</td>\n",
       "      <td>18446737527580148316</td>\n",
       "      <td>809238005</td>\n",
       "      <td>0.041656</td>\n",
       "      <td>2.0</td>\n",
       "      <td>104</td>\n",
       "      <td>0.0</td>\n",
       "      <td>10.0</td>\n",
       "      <td>809238</td>\n",
       "      <td>Atomic Wrap Sweater</td>\n",
       "      <td>...</td>\n",
       "      <td>2.0</td>\n",
       "      <td>1.00000</td>\n",
       "      <td>1.0</td>\n",
       "      <td>1.0</td>\n",
       "      <td>0.0</td>\n",
       "      <td>1.0</td>\n",
       "      <td>60.0</td>\n",
       "      <td>96323.0</td>\n",
       "      <td>0.023712</td>\n",
       "      <td>0.094847</td>\n",
       "    </tr>\n",
       "    <tr>\n",
       "      <th>11381610</th>\n",
       "      <td>2020-09-21</td>\n",
       "      <td>18446737527580148316</td>\n",
       "      <td>673677002</td>\n",
       "      <td>0.024925</td>\n",
       "      <td>2.0</td>\n",
       "      <td>104</td>\n",
       "      <td>0.0</td>\n",
       "      <td>11.0</td>\n",
       "      <td>673677</td>\n",
       "      <td>Henry polo. (1)</td>\n",
       "      <td>...</td>\n",
       "      <td>2.0</td>\n",
       "      <td>1.00000</td>\n",
       "      <td>1.0</td>\n",
       "      <td>1.0</td>\n",
       "      <td>0.0</td>\n",
       "      <td>1.0</td>\n",
       "      <td>60.0</td>\n",
       "      <td>96323.0</td>\n",
       "      <td>0.023712</td>\n",
       "      <td>0.094847</td>\n",
       "    </tr>\n",
       "    <tr>\n",
       "      <th>11381611</th>\n",
       "      <td>2020-09-21</td>\n",
       "      <td>18446737527580148316</td>\n",
       "      <td>923758001</td>\n",
       "      <td>0.033478</td>\n",
       "      <td>2.0</td>\n",
       "      <td>104</td>\n",
       "      <td>0.0</td>\n",
       "      <td>12.0</td>\n",
       "      <td>923758</td>\n",
       "      <td>Vanessa</td>\n",
       "      <td>...</td>\n",
       "      <td>2.0</td>\n",
       "      <td>1.00000</td>\n",
       "      <td>1.0</td>\n",
       "      <td>1.0</td>\n",
       "      <td>0.0</td>\n",
       "      <td>1.0</td>\n",
       "      <td>60.0</td>\n",
       "      <td>96323.0</td>\n",
       "      <td>0.023712</td>\n",
       "      <td>0.094847</td>\n",
       "    </tr>\n",
       "  </tbody>\n",
       "</table>\n",
       "<p>11381612 rows × 45 columns</p>\n",
       "</div>"
      ],
      "text/plain": [
       "              t_dat           customer_id  article_id     price  \\\n",
       "0        2020-07-26        28847241659200   887770001  0.016932   \n",
       "1        2020-07-18        28847241659200   762846001  0.025407   \n",
       "2        2020-07-18        28847241659200   829308001  0.033881   \n",
       "3        2020-07-26        28847241659200   760084003  0.025094   \n",
       "4        2020-07-26        28847241659200   866731001  0.024919   \n",
       "...             ...                   ...         ...       ...   \n",
       "11381607 2020-09-21  18446737527580148316   918292001  0.041424   \n",
       "11381608 2020-09-21  18446737527580148316   762846027  0.025104   \n",
       "11381609 2020-09-21  18446737527580148316   809238005  0.041656   \n",
       "11381610 2020-09-21  18446737527580148316   673677002  0.024925   \n",
       "11381611 2020-09-21  18446737527580148316   923758001  0.033478   \n",
       "\n",
       "          sales_channel_id  week  purchased  bestseller_rank  product_code  \\\n",
       "0                      1.0    96        1.0            999.0        887770   \n",
       "1                      1.0    96        0.0            999.0        762846   \n",
       "2                      1.0    96        0.0            999.0        829308   \n",
       "3                      1.0    96        0.0              1.0        760084   \n",
       "4                      1.0    96        0.0              2.0        866731   \n",
       "...                    ...   ...        ...              ...           ...   \n",
       "11381607               2.0   104        0.0              8.0        918292   \n",
       "11381608               2.0   104        0.0              9.0        762846   \n",
       "11381609               2.0   104        0.0             10.0        809238   \n",
       "11381610               2.0   104        0.0             11.0        673677   \n",
       "11381611               2.0   104        0.0             12.0        923758   \n",
       "\n",
       "                           prod_name  ...  avg_channel_id mean_max_price   FN  \\\n",
       "0                    Orvar strap top  ...             1.2        0.35781  1.0   \n",
       "1                        Lucy blouse  ...             1.2        0.35781  1.0   \n",
       "2                  HAVANA HW cropped  ...             1.2        0.35781  1.0   \n",
       "3         Victorville HW Pull-on TRS  ...             1.2        0.35781  1.0   \n",
       "4            LANA seamless HW tigths  ...             1.2        0.35781  1.0   \n",
       "...                              ...  ...             ...            ...  ...   \n",
       "11381607   STRONG HW seamless tights  ...             2.0        1.00000  1.0   \n",
       "11381608                 Lucy blouse  ...             2.0        1.00000  1.0   \n",
       "11381609         Atomic Wrap Sweater  ...             2.0        1.00000  1.0   \n",
       "11381610             Henry polo. (1)  ...             2.0        1.00000  1.0   \n",
       "11381611                     Vanessa  ...             2.0        1.00000  1.0   \n",
       "\n",
       "          Active club_member_status  fashion_news_frequency   age  \\\n",
       "0            1.0                0.0                     1.0  21.0   \n",
       "1            1.0                0.0                     1.0  21.0   \n",
       "2            1.0                0.0                     1.0  21.0   \n",
       "3            1.0                0.0                     1.0  21.0   \n",
       "4            1.0                0.0                     1.0  21.0   \n",
       "...          ...                ...                     ...   ...   \n",
       "11381607     1.0                0.0                     1.0  60.0   \n",
       "11381608     1.0                0.0                     1.0  60.0   \n",
       "11381609     1.0                0.0                     1.0  60.0   \n",
       "11381610     1.0                0.0                     1.0  60.0   \n",
       "11381611     1.0                0.0                     1.0  60.0   \n",
       "\n",
       "          postal_code avg_expense  total_expense  \n",
       "0             57896.0    0.046085       0.230424  \n",
       "1             57896.0    0.046085       0.230424  \n",
       "2             57896.0    0.046085       0.230424  \n",
       "3             57896.0    0.046085       0.230424  \n",
       "4             57896.0    0.046085       0.230424  \n",
       "...               ...         ...            ...  \n",
       "11381607      96323.0    0.023712       0.094847  \n",
       "11381608      96323.0    0.023712       0.094847  \n",
       "11381609      96323.0    0.023712       0.094847  \n",
       "11381610      96323.0    0.023712       0.094847  \n",
       "11381611      96323.0    0.023712       0.094847  \n",
       "\n",
       "[11381612 rows x 45 columns]"
      ]
     },
     "execution_count": 253,
     "metadata": {},
     "output_type": "execute_result"
    }
   ],
   "source": [
    "train"
   ]
  },
  {
   "cell_type": "code",
   "execution_count": 270,
   "metadata": {},
   "outputs": [],
   "source": [
    "columns_to_use = ['article_id', 'product_type_no', 'graphical_appearance_no', 'colour_group_code', 'perceived_colour_value_id',\n",
    "'perceived_colour_master_id', 'department_no',  'age',\n",
    "'index_group_no', 'section_no', 'garment_group_no', 'FN', 'Active','mean_max_price',\n",
    " 'club_member_status', 'fashion_news_frequency', 'postal_code', 'bestseller_rank','cluster_id','avg_channel_id','avg_expense','total_expense']"
   ]
  },
  {
   "cell_type": "code",
   "execution_count": 271,
   "metadata": {
    "execution": {
     "iopub.execute_input": "2022-04-16T16:57:48.280088Z",
     "iopub.status.busy": "2022-04-16T16:57:48.279843Z",
     "iopub.status.idle": "2022-04-16T16:57:48.285125Z",
     "shell.execute_reply": "2022-04-16T16:57:48.284292Z",
     "shell.execute_reply.started": "2022-04-16T16:57:48.280057Z"
    },
    "id": "TB3MS276AuwN"
   },
   "outputs": [],
   "source": [
    "# columns_to_use = ['article_id', 'product_type_no', 'graphical_appearance_no', 'colour_group_code', 'perceived_colour_value_id',\n",
    "# 'perceived_colour_master_id', 'department_no', 'index_code',\n",
    "# 'index_group_no', 'section_no', 'garment_group_no', 'FN', 'Active',\n",
    "# 'club_member_status', 'fashion_news_frequency', 'age', 'postal_code', 'bestseller_rank']"
   ]
  },
  {
   "cell_type": "code",
   "execution_count": 272,
   "metadata": {
    "colab": {
     "base_uri": "https://localhost:8080/"
    },
    "execution": {
     "iopub.execute_input": "2022-04-16T16:57:48.287072Z",
     "iopub.status.busy": "2022-04-16T16:57:48.286579Z",
     "iopub.status.idle": "2022-04-16T16:57:49.009188Z",
     "shell.execute_reply": "2022-04-16T16:57:49.008435Z",
     "shell.execute_reply.started": "2022-04-16T16:57:48.287025Z"
    },
    "id": "BW05aP6LAuwN",
    "outputId": "6f04a10d-c06f-418d-d570-9d5cd6a0e107"
   },
   "outputs": [
    {
     "name": "stdout",
     "output_type": "stream",
     "text": [
      "CPU times: user 1.2 s, sys: 7.17 s, total: 8.37 s\n",
      "Wall time: 26.2 s\n"
     ]
    }
   ],
   "source": [
    "%%time\n",
    "\n",
    "train_X = train[columns_to_use]\n",
    "train_y = train['purchased']\n",
    "\n",
    "test_X = test[columns_to_use]"
   ]
  },
  {
   "cell_type": "code",
   "execution_count": 273,
   "metadata": {
    "colab": {
     "base_uri": "https://localhost:8080/"
    },
    "id": "wqV5zBuaFR-L",
    "outputId": "c3132c6e-54b6-46fa-e215-758441ed6602"
   },
   "outputs": [
    {
     "data": {
      "text/plain": [
       "0           1.0\n",
       "1           0.0\n",
       "2           0.0\n",
       "3           0.0\n",
       "4           0.0\n",
       "           ... \n",
       "11381607    0.0\n",
       "11381608    0.0\n",
       "11381609    0.0\n",
       "11381610    0.0\n",
       "11381611    0.0\n",
       "Name: purchased, Length: 11381612, dtype: float64"
      ]
     },
     "execution_count": 273,
     "metadata": {},
     "output_type": "execute_result"
    }
   ],
   "source": [
    "train_y"
   ]
  },
  {
   "cell_type": "markdown",
   "metadata": {
    "id": "tYk09kJlAuwN"
   },
   "source": [
    "# Model training"
   ]
  },
  {
   "cell_type": "code",
   "execution_count": 274,
   "metadata": {
    "execution": {
     "iopub.execute_input": "2022-04-16T16:57:49.012576Z",
     "iopub.status.busy": "2022-04-16T16:57:49.01189Z",
     "iopub.status.idle": "2022-04-16T16:57:50.099966Z",
     "shell.execute_reply": "2022-04-16T16:57:50.09909Z",
     "shell.execute_reply.started": "2022-04-16T16:57:49.012515Z"
    },
    "id": "WgjXWkK0AuwN"
   },
   "outputs": [],
   "source": [
    "from lightgbm.sklearn import LGBMRanker"
   ]
  },
  {
   "cell_type": "code",
   "execution_count": 275,
   "metadata": {
    "execution": {
     "iopub.execute_input": "2022-04-16T16:57:50.101312Z",
     "iopub.status.busy": "2022-04-16T16:57:50.101082Z",
     "iopub.status.idle": "2022-04-16T16:57:50.105859Z",
     "shell.execute_reply": "2022-04-16T16:57:50.105251Z",
     "shell.execute_reply.started": "2022-04-16T16:57:50.101285Z"
    },
    "id": "sV-6YLcsAuwN"
   },
   "outputs": [],
   "source": [
    "ranker = LGBMRanker(\n",
    "    objective=\"lambdarank\",\n",
    "    metric=\"ndcg\",\n",
    "    boosting_type=\"dart\",\n",
    "    n_estimators=4,\n",
    "    importance_type='gain',\n",
    "    verbose=10\n",
    ")"
   ]
  },
  {
   "cell_type": "code",
   "execution_count": 276,
   "metadata": {
    "colab": {
     "base_uri": "https://localhost:8080/"
    },
    "execution": {
     "iopub.execute_input": "2022-04-16T16:57:50.107518Z",
     "iopub.status.busy": "2022-04-16T16:57:50.106963Z"
    },
    "id": "mDwi8A5XAuwN",
    "outputId": "0de9cdd8-8a60-4528-91ab-f39a7c5bcb71"
   },
   "outputs": [
    {
     "name": "stdout",
     "output_type": "stream",
     "text": [
      "[LightGBM] [Debug] Dataset::GetMultiBinFromSparseFeatures: sparse rate 0.848850\n",
      "[LightGBM] [Debug] Dataset::GetMultiBinFromAllFeatures: sparse rate 0.104105\n",
      "[LightGBM] [Debug] init for col-wise cost 0.373454 seconds, init for row-wise cost 0.371310 seconds\n",
      "[LightGBM] [Warning] Auto-choosing row-wise multi-threading, the overhead of testing was 0.510730 seconds.\n",
      "You can set `force_row_wise=true` to remove the overhead.\n",
      "And if memory is not enough, you can set `force_col_wise=true`.\n",
      "[LightGBM] [Debug] Using Dense Multi-Val Bin\n",
      "[LightGBM] [Info] Total Bins 2087\n",
      "[LightGBM] [Info] Number of data points in the train set: 11381612, number of used features: 22\n",
      "[LightGBM] [Debug] Trained a tree with leaves = 31 and depth = 7\n",
      "[LightGBM] [Debug] Trained a tree with leaves = 31 and depth = 9\n",
      "[LightGBM] [Debug] Trained a tree with leaves = 31 and depth = 9\n",
      "[LightGBM] [Debug] Trained a tree with leaves = 31 and depth = 9\n",
      "CPU times: user 28.4 s, sys: 7.79 s, total: 36.2 s\n",
      "Wall time: 18.1 s\n"
     ]
    }
   ],
   "source": [
    "%%time\n",
    "\n",
    "ranker = ranker.fit(\n",
    "    train_X,\n",
    "    train_y,\n",
    "    group=train_baskets,\n",
    ")"
   ]
  },
  {
   "cell_type": "code",
   "execution_count": 277,
   "metadata": {
    "colab": {
     "base_uri": "https://localhost:8080/"
    },
    "id": "XdZ5t69BAuwO",
    "outputId": "2e70baa9-ccfa-421b-afd5-ee3f75af90f6"
   },
   "outputs": [
    {
     "name": "stdout",
     "output_type": "stream",
     "text": [
      "bestseller_rank 0.9269851238374939\n",
      "total_expense 0.034927755696101244\n",
      "mean_max_price 0.01720149127798692\n",
      "article_id 0.008565193176854391\n",
      "avg_channel_id 0.004033644408028161\n",
      "cluster_id 0.0038130908795765716\n",
      "garment_group_no 0.0016331311160622142\n",
      "avg_expense 0.0015809517381306032\n",
      "product_type_no 0.0005639601876913032\n",
      "department_no 0.000486344880878578\n",
      "section_no 0.00012354939431638584\n",
      "graphical_appearance_no 7.234493301563093e-05\n",
      "age 1.3418473864089597e-05\n",
      "club_member_status 0.0\n",
      "fashion_news_frequency 0.0\n",
      "Active 0.0\n",
      "FN 0.0\n",
      "postal_code 0.0\n",
      "perceived_colour_master_id 0.0\n",
      "perceived_colour_value_id 0.0\n",
      "colour_group_code 0.0\n",
      "index_group_no 0.0\n"
     ]
    }
   ],
   "source": [
    "for i in ranker.feature_importances_.argsort()[::-1]:\n",
    "    print(columns_to_use[i], ranker.feature_importances_[i]/ranker.feature_importances_.sum())"
   ]
  },
  {
   "cell_type": "markdown",
   "metadata": {
    "id": "NS5xRtmAAuwO"
   },
   "source": [
    "# Calculate predictions"
   ]
  },
  {
   "cell_type": "code",
   "execution_count": 278,
   "metadata": {
    "colab": {
     "base_uri": "https://localhost:8080/"
    },
    "id": "HwaqDfhtAuwO",
    "outputId": "32d5ec51-2936-464b-f010-0b4e2c07bee9"
   },
   "outputs": [
    {
     "name": "stdout",
     "output_type": "stream",
     "text": [
      "CPU times: user 19 µs, sys: 7 µs, total: 26 µs\n",
      "Wall time: 5.96 µs\n"
     ]
    }
   ],
   "source": [
    "%time\n",
    "\n",
    "test['preds'] = ranker.predict(test_X)\n",
    "\n",
    "c_id2predicted_article_ids = test \\\n",
    "    .sort_values(['customer_id', 'preds'], ascending=False) \\\n",
    "    .groupby('customer_id')['article_id'].apply(list).to_dict()\n",
    "\n",
    "bestsellers_last_week = \\\n",
    "    bestsellers_previous_week[bestsellers_previous_week.week == bestsellers_previous_week.week.max()]['article_id'].tolist()"
   ]
  },
  {
   "cell_type": "code",
   "execution_count": 279,
   "metadata": {
    "colab": {
     "base_uri": "https://localhost:8080/"
    },
    "id": "grPIiUo6oQXv",
    "outputId": "067006e4-6864-43c7-ac0d-d8289b76d9a3"
   },
   "outputs": [
    {
     "data": {
      "text/plain": [
       "11381612    0.400328\n",
       "11381613   -0.547294\n",
       "11381614   -0.588470\n",
       "11381615   -0.588470\n",
       "11381616   -0.624252\n",
       "              ...   \n",
       "23479677   -0.547294\n",
       "23479678   -0.614038\n",
       "23479679   -0.623396\n",
       "23479680    0.491526\n",
       "23479681   -0.547294\n",
       "Name: preds, Length: 12098070, dtype: float64"
      ]
     },
     "execution_count": 279,
     "metadata": {},
     "output_type": "execute_result"
    }
   ],
   "source": [
    "test['preds']"
   ]
  },
  {
   "cell_type": "code",
   "execution_count": 280,
   "metadata": {
    "colab": {
     "base_uri": "https://localhost:8080/",
     "height": 653
    },
    "id": "kT6oxHQ5zJcf",
    "outputId": "7ac78cea-102d-4d6c-bb1f-a8d6a2354c69"
   },
   "outputs": [
    {
     "data": {
      "text/html": [
       "<div>\n",
       "<style scoped>\n",
       "    .dataframe tbody tr th:only-of-type {\n",
       "        vertical-align: middle;\n",
       "    }\n",
       "\n",
       "    .dataframe tbody tr th {\n",
       "        vertical-align: top;\n",
       "    }\n",
       "\n",
       "    .dataframe thead th {\n",
       "        text-align: right;\n",
       "    }\n",
       "</style>\n",
       "<table border=\"1\" class=\"dataframe\">\n",
       "  <thead>\n",
       "    <tr style=\"text-align: right;\">\n",
       "      <th></th>\n",
       "      <th>t_dat</th>\n",
       "      <th>customer_id</th>\n",
       "      <th>article_id</th>\n",
       "      <th>price</th>\n",
       "      <th>sales_channel_id</th>\n",
       "      <th>week</th>\n",
       "      <th>purchased</th>\n",
       "      <th>bestseller_rank</th>\n",
       "      <th>product_code</th>\n",
       "      <th>prod_name</th>\n",
       "      <th>...</th>\n",
       "      <th>mean_max_price</th>\n",
       "      <th>FN</th>\n",
       "      <th>Active</th>\n",
       "      <th>club_member_status</th>\n",
       "      <th>fashion_news_frequency</th>\n",
       "      <th>age</th>\n",
       "      <th>postal_code</th>\n",
       "      <th>avg_expense</th>\n",
       "      <th>total_expense</th>\n",
       "      <th>preds</th>\n",
       "    </tr>\n",
       "  </thead>\n",
       "  <tbody>\n",
       "    <tr>\n",
       "      <th>11381612</th>\n",
       "      <td>2020-09-03</td>\n",
       "      <td>28847241659200</td>\n",
       "      <td>925246001</td>\n",
       "      <td>0.128797</td>\n",
       "      <td>2.0</td>\n",
       "      <td>105</td>\n",
       "      <td>0.0</td>\n",
       "      <td>999.0</td>\n",
       "      <td>925246</td>\n",
       "      <td>Fortune PU</td>\n",
       "      <td>...</td>\n",
       "      <td>0.35781</td>\n",
       "      <td>1.0</td>\n",
       "      <td>1.0</td>\n",
       "      <td>0.0</td>\n",
       "      <td>1.0</td>\n",
       "      <td>21.0</td>\n",
       "      <td>57896.0</td>\n",
       "      <td>0.046085</td>\n",
       "      <td>0.230424</td>\n",
       "      <td>0.400328</td>\n",
       "    </tr>\n",
       "    <tr>\n",
       "      <th>11381613</th>\n",
       "      <td>2020-07-18</td>\n",
       "      <td>28847241659200</td>\n",
       "      <td>924243001</td>\n",
       "      <td>0.041535</td>\n",
       "      <td>1.0</td>\n",
       "      <td>105</td>\n",
       "      <td>0.0</td>\n",
       "      <td>1.0</td>\n",
       "      <td>924243</td>\n",
       "      <td>Ohlsson</td>\n",
       "      <td>...</td>\n",
       "      <td>0.35781</td>\n",
       "      <td>1.0</td>\n",
       "      <td>1.0</td>\n",
       "      <td>0.0</td>\n",
       "      <td>1.0</td>\n",
       "      <td>21.0</td>\n",
       "      <td>57896.0</td>\n",
       "      <td>0.046085</td>\n",
       "      <td>0.230424</td>\n",
       "      <td>-0.547294</td>\n",
       "    </tr>\n",
       "    <tr>\n",
       "      <th>11381614</th>\n",
       "      <td>2020-07-18</td>\n",
       "      <td>28847241659200</td>\n",
       "      <td>924243002</td>\n",
       "      <td>0.041877</td>\n",
       "      <td>1.0</td>\n",
       "      <td>105</td>\n",
       "      <td>0.0</td>\n",
       "      <td>2.0</td>\n",
       "      <td>924243</td>\n",
       "      <td>Ohlsson</td>\n",
       "      <td>...</td>\n",
       "      <td>0.35781</td>\n",
       "      <td>1.0</td>\n",
       "      <td>1.0</td>\n",
       "      <td>0.0</td>\n",
       "      <td>1.0</td>\n",
       "      <td>21.0</td>\n",
       "      <td>57896.0</td>\n",
       "      <td>0.046085</td>\n",
       "      <td>0.230424</td>\n",
       "      <td>-0.588470</td>\n",
       "    </tr>\n",
       "    <tr>\n",
       "      <th>11381615</th>\n",
       "      <td>2020-07-18</td>\n",
       "      <td>28847241659200</td>\n",
       "      <td>918522001</td>\n",
       "      <td>0.041435</td>\n",
       "      <td>1.0</td>\n",
       "      <td>105</td>\n",
       "      <td>0.0</td>\n",
       "      <td>3.0</td>\n",
       "      <td>918522</td>\n",
       "      <td>Jackie cable vest</td>\n",
       "      <td>...</td>\n",
       "      <td>0.35781</td>\n",
       "      <td>1.0</td>\n",
       "      <td>1.0</td>\n",
       "      <td>0.0</td>\n",
       "      <td>1.0</td>\n",
       "      <td>21.0</td>\n",
       "      <td>57896.0</td>\n",
       "      <td>0.046085</td>\n",
       "      <td>0.230424</td>\n",
       "      <td>-0.588470</td>\n",
       "    </tr>\n",
       "    <tr>\n",
       "      <th>11381616</th>\n",
       "      <td>2020-07-18</td>\n",
       "      <td>28847241659200</td>\n",
       "      <td>923758001</td>\n",
       "      <td>0.033462</td>\n",
       "      <td>1.0</td>\n",
       "      <td>105</td>\n",
       "      <td>0.0</td>\n",
       "      <td>4.0</td>\n",
       "      <td>923758</td>\n",
       "      <td>Vanessa</td>\n",
       "      <td>...</td>\n",
       "      <td>0.35781</td>\n",
       "      <td>1.0</td>\n",
       "      <td>1.0</td>\n",
       "      <td>0.0</td>\n",
       "      <td>1.0</td>\n",
       "      <td>21.0</td>\n",
       "      <td>57896.0</td>\n",
       "      <td>0.046085</td>\n",
       "      <td>0.230424</td>\n",
       "      <td>-0.624252</td>\n",
       "    </tr>\n",
       "    <tr>\n",
       "      <th>...</th>\n",
       "      <td>...</td>\n",
       "      <td>...</td>\n",
       "      <td>...</td>\n",
       "      <td>...</td>\n",
       "      <td>...</td>\n",
       "      <td>...</td>\n",
       "      <td>...</td>\n",
       "      <td>...</td>\n",
       "      <td>...</td>\n",
       "      <td>...</td>\n",
       "      <td>...</td>\n",
       "      <td>...</td>\n",
       "      <td>...</td>\n",
       "      <td>...</td>\n",
       "      <td>...</td>\n",
       "      <td>...</td>\n",
       "      <td>...</td>\n",
       "      <td>...</td>\n",
       "      <td>...</td>\n",
       "      <td>...</td>\n",
       "      <td>...</td>\n",
       "    </tr>\n",
       "    <tr>\n",
       "      <th>23479677</th>\n",
       "      <td>NaT</td>\n",
       "      <td>ffffd7744cebcf3aca44ae7049d2a94b87074c3d4ffe38...</td>\n",
       "      <td>924243001</td>\n",
       "      <td>0.041535</td>\n",
       "      <td>NaN</td>\n",
       "      <td>105</td>\n",
       "      <td>0.0</td>\n",
       "      <td>1.0</td>\n",
       "      <td>924243</td>\n",
       "      <td>Ohlsson</td>\n",
       "      <td>...</td>\n",
       "      <td>NaN</td>\n",
       "      <td>NaN</td>\n",
       "      <td>NaN</td>\n",
       "      <td>NaN</td>\n",
       "      <td>NaN</td>\n",
       "      <td>NaN</td>\n",
       "      <td>NaN</td>\n",
       "      <td>NaN</td>\n",
       "      <td>NaN</td>\n",
       "      <td>-0.547294</td>\n",
       "    </tr>\n",
       "    <tr>\n",
       "      <th>23479678</th>\n",
       "      <td>NaT</td>\n",
       "      <td>ffffd9ac14e89946416d80e791d064701994755c3ab686...</td>\n",
       "      <td>751471001</td>\n",
       "      <td>0.033423</td>\n",
       "      <td>NaN</td>\n",
       "      <td>105</td>\n",
       "      <td>0.0</td>\n",
       "      <td>7.0</td>\n",
       "      <td>751471</td>\n",
       "      <td>Pluto RW slacks (1)</td>\n",
       "      <td>...</td>\n",
       "      <td>NaN</td>\n",
       "      <td>NaN</td>\n",
       "      <td>NaN</td>\n",
       "      <td>NaN</td>\n",
       "      <td>NaN</td>\n",
       "      <td>NaN</td>\n",
       "      <td>NaN</td>\n",
       "      <td>NaN</td>\n",
       "      <td>NaN</td>\n",
       "      <td>-0.614038</td>\n",
       "    </tr>\n",
       "    <tr>\n",
       "      <th>23479679</th>\n",
       "      <td>NaT</td>\n",
       "      <td>ffffd9ac14e89946416d80e791d064701994755c3ab686...</td>\n",
       "      <td>448509014</td>\n",
       "      <td>0.041630</td>\n",
       "      <td>NaN</td>\n",
       "      <td>105</td>\n",
       "      <td>0.0</td>\n",
       "      <td>10.0</td>\n",
       "      <td>448509</td>\n",
       "      <td>Perrie Slim Mom Denim TRS</td>\n",
       "      <td>...</td>\n",
       "      <td>NaN</td>\n",
       "      <td>NaN</td>\n",
       "      <td>NaN</td>\n",
       "      <td>NaN</td>\n",
       "      <td>NaN</td>\n",
       "      <td>NaN</td>\n",
       "      <td>NaN</td>\n",
       "      <td>NaN</td>\n",
       "      <td>NaN</td>\n",
       "      <td>-0.623396</td>\n",
       "    </tr>\n",
       "    <tr>\n",
       "      <th>23479680</th>\n",
       "      <td>NaT</td>\n",
       "      <td>ffffd9ac14e89946416d80e791d064701994755c3ab686...</td>\n",
       "      <td>918292001</td>\n",
       "      <td>0.041627</td>\n",
       "      <td>NaN</td>\n",
       "      <td>105</td>\n",
       "      <td>0.0</td>\n",
       "      <td>999.0</td>\n",
       "      <td>918292</td>\n",
       "      <td>STRONG HW seamless tights</td>\n",
       "      <td>...</td>\n",
       "      <td>NaN</td>\n",
       "      <td>NaN</td>\n",
       "      <td>NaN</td>\n",
       "      <td>NaN</td>\n",
       "      <td>NaN</td>\n",
       "      <td>NaN</td>\n",
       "      <td>NaN</td>\n",
       "      <td>NaN</td>\n",
       "      <td>NaN</td>\n",
       "      <td>0.491526</td>\n",
       "    </tr>\n",
       "    <tr>\n",
       "      <th>23479681</th>\n",
       "      <td>NaT</td>\n",
       "      <td>ffffd9ac14e89946416d80e791d064701994755c3ab686...</td>\n",
       "      <td>924243001</td>\n",
       "      <td>0.041535</td>\n",
       "      <td>NaN</td>\n",
       "      <td>105</td>\n",
       "      <td>0.0</td>\n",
       "      <td>1.0</td>\n",
       "      <td>924243</td>\n",
       "      <td>Ohlsson</td>\n",
       "      <td>...</td>\n",
       "      <td>NaN</td>\n",
       "      <td>NaN</td>\n",
       "      <td>NaN</td>\n",
       "      <td>NaN</td>\n",
       "      <td>NaN</td>\n",
       "      <td>NaN</td>\n",
       "      <td>NaN</td>\n",
       "      <td>NaN</td>\n",
       "      <td>NaN</td>\n",
       "      <td>-0.547294</td>\n",
       "    </tr>\n",
       "  </tbody>\n",
       "</table>\n",
       "<p>12098070 rows × 46 columns</p>\n",
       "</div>"
      ],
      "text/plain": [
       "              t_dat                                        customer_id  \\\n",
       "11381612 2020-09-03                                     28847241659200   \n",
       "11381613 2020-07-18                                     28847241659200   \n",
       "11381614 2020-07-18                                     28847241659200   \n",
       "11381615 2020-07-18                                     28847241659200   \n",
       "11381616 2020-07-18                                     28847241659200   \n",
       "...             ...                                                ...   \n",
       "23479677        NaT  ffffd7744cebcf3aca44ae7049d2a94b87074c3d4ffe38...   \n",
       "23479678        NaT  ffffd9ac14e89946416d80e791d064701994755c3ab686...   \n",
       "23479679        NaT  ffffd9ac14e89946416d80e791d064701994755c3ab686...   \n",
       "23479680        NaT  ffffd9ac14e89946416d80e791d064701994755c3ab686...   \n",
       "23479681        NaT  ffffd9ac14e89946416d80e791d064701994755c3ab686...   \n",
       "\n",
       "          article_id     price  sales_channel_id  week  purchased  \\\n",
       "11381612   925246001  0.128797               2.0   105        0.0   \n",
       "11381613   924243001  0.041535               1.0   105        0.0   \n",
       "11381614   924243002  0.041877               1.0   105        0.0   \n",
       "11381615   918522001  0.041435               1.0   105        0.0   \n",
       "11381616   923758001  0.033462               1.0   105        0.0   \n",
       "...              ...       ...               ...   ...        ...   \n",
       "23479677   924243001  0.041535               NaN   105        0.0   \n",
       "23479678   751471001  0.033423               NaN   105        0.0   \n",
       "23479679   448509014  0.041630               NaN   105        0.0   \n",
       "23479680   918292001  0.041627               NaN   105        0.0   \n",
       "23479681   924243001  0.041535               NaN   105        0.0   \n",
       "\n",
       "          bestseller_rank  product_code                  prod_name  ...  \\\n",
       "11381612            999.0        925246                 Fortune PU  ...   \n",
       "11381613              1.0        924243                    Ohlsson  ...   \n",
       "11381614              2.0        924243                    Ohlsson  ...   \n",
       "11381615              3.0        918522          Jackie cable vest  ...   \n",
       "11381616              4.0        923758                    Vanessa  ...   \n",
       "...                   ...           ...                        ...  ...   \n",
       "23479677              1.0        924243                    Ohlsson  ...   \n",
       "23479678              7.0        751471        Pluto RW slacks (1)  ...   \n",
       "23479679             10.0        448509  Perrie Slim Mom Denim TRS  ...   \n",
       "23479680            999.0        918292  STRONG HW seamless tights  ...   \n",
       "23479681              1.0        924243                    Ohlsson  ...   \n",
       "\n",
       "          mean_max_price   FN Active  club_member_status  \\\n",
       "11381612         0.35781  1.0    1.0                 0.0   \n",
       "11381613         0.35781  1.0    1.0                 0.0   \n",
       "11381614         0.35781  1.0    1.0                 0.0   \n",
       "11381615         0.35781  1.0    1.0                 0.0   \n",
       "11381616         0.35781  1.0    1.0                 0.0   \n",
       "...                  ...  ...    ...                 ...   \n",
       "23479677             NaN  NaN    NaN                 NaN   \n",
       "23479678             NaN  NaN    NaN                 NaN   \n",
       "23479679             NaN  NaN    NaN                 NaN   \n",
       "23479680             NaN  NaN    NaN                 NaN   \n",
       "23479681             NaN  NaN    NaN                 NaN   \n",
       "\n",
       "         fashion_news_frequency   age postal_code  avg_expense total_expense  \\\n",
       "11381612                    1.0  21.0     57896.0     0.046085      0.230424   \n",
       "11381613                    1.0  21.0     57896.0     0.046085      0.230424   \n",
       "11381614                    1.0  21.0     57896.0     0.046085      0.230424   \n",
       "11381615                    1.0  21.0     57896.0     0.046085      0.230424   \n",
       "11381616                    1.0  21.0     57896.0     0.046085      0.230424   \n",
       "...                         ...   ...         ...          ...           ...   \n",
       "23479677                    NaN   NaN         NaN          NaN           NaN   \n",
       "23479678                    NaN   NaN         NaN          NaN           NaN   \n",
       "23479679                    NaN   NaN         NaN          NaN           NaN   \n",
       "23479680                    NaN   NaN         NaN          NaN           NaN   \n",
       "23479681                    NaN   NaN         NaN          NaN           NaN   \n",
       "\n",
       "             preds  \n",
       "11381612  0.400328  \n",
       "11381613 -0.547294  \n",
       "11381614 -0.588470  \n",
       "11381615 -0.588470  \n",
       "11381616 -0.624252  \n",
       "...            ...  \n",
       "23479677 -0.547294  \n",
       "23479678 -0.614038  \n",
       "23479679 -0.623396  \n",
       "23479680  0.491526  \n",
       "23479681 -0.547294  \n",
       "\n",
       "[12098070 rows x 46 columns]"
      ]
     },
     "execution_count": 280,
     "metadata": {},
     "output_type": "execute_result"
    }
   ],
   "source": [
    "test"
   ]
  },
  {
   "cell_type": "code",
   "execution_count": 281,
   "metadata": {
    "colab": {
     "base_uri": "https://localhost:8080/"
    },
    "id": "ZUK1XaSnobI0",
    "outputId": "8399297e-85f7-44c6-ac2f-cc51917f1430"
   },
   "outputs": [
    {
     "data": {
      "text/plain": [
       "[]"
      ]
     },
     "execution_count": 281,
     "metadata": {},
     "output_type": "execute_result"
    }
   ],
   "source": [
    "c_id2predicted_article_ids.get(c_id, [])"
   ]
  },
  {
   "cell_type": "markdown",
   "metadata": {
    "id": "w7TKGCcFAuwO"
   },
   "source": [
    "# Create submission"
   ]
  },
  {
   "cell_type": "code",
   "execution_count": 282,
   "metadata": {
    "id": "FoPePARYAuwO"
   },
   "outputs": [],
   "source": [
    "sub = pd.read_csv('sample_submission.csv')"
   ]
  },
  {
   "cell_type": "code",
   "execution_count": 283,
   "metadata": {
    "colab": {
     "base_uri": "https://localhost:8080/"
    },
    "id": "tfu79t9MAuwO",
    "outputId": "fa626607-98bd-4ced-ba2a-29429e15671c"
   },
   "outputs": [
    {
     "name": "stdout",
     "output_type": "stream",
     "text": [
      "CPU times: user 5.02 s, sys: 4.57 s, total: 9.59 s\n",
      "Wall time: 14.7 s\n"
     ]
    }
   ],
   "source": [
    "%%time\n",
    "preds = []\n",
    "for c_id in customer_hex_id_to_int(sub.customer_id):\n",
    "    pred = c_id2predicted_article_ids.get(c_id, [])\n",
    "    pred = pred + bestsellers_last_week\n",
    "    preds.append(pred[:12])"
   ]
  },
  {
   "cell_type": "code",
   "execution_count": 284,
   "metadata": {
    "id": "vkeN1S7RAuwO"
   },
   "outputs": [],
   "source": [
    "preds = [' '.join(['0' + str(p) for p in ps]) for ps in preds]\n",
    "sub.prediction = preds"
   ]
  },
  {
   "cell_type": "code",
   "execution_count": 285,
   "metadata": {
    "id": "aAvfsBFrAuwO"
   },
   "outputs": [],
   "source": [
    "sub_name = 'basic_model_submission'\n",
    "sub.to_csv(f'{sub_name}.csv.gz', index=False)"
   ]
  },
  {
   "cell_type": "code",
   "execution_count": 286,
   "metadata": {},
   "outputs": [
    {
     "data": {
      "text/html": [
       "<div>\n",
       "<style scoped>\n",
       "    .dataframe tbody tr th:only-of-type {\n",
       "        vertical-align: middle;\n",
       "    }\n",
       "\n",
       "    .dataframe tbody tr th {\n",
       "        vertical-align: top;\n",
       "    }\n",
       "\n",
       "    .dataframe thead th {\n",
       "        text-align: right;\n",
       "    }\n",
       "</style>\n",
       "<table border=\"1\" class=\"dataframe\">\n",
       "  <thead>\n",
       "    <tr style=\"text-align: right;\">\n",
       "      <th></th>\n",
       "      <th>customer_id</th>\n",
       "      <th>prediction</th>\n",
       "    </tr>\n",
       "  </thead>\n",
       "  <tbody>\n",
       "    <tr>\n",
       "      <th>0</th>\n",
       "      <td>00000dbacae5abe5e23885899a1fa44253a17956c6d1c3...</td>\n",
       "      <td>0568601043 0924243001 0924243002 0918522001 09...</td>\n",
       "    </tr>\n",
       "    <tr>\n",
       "      <th>1</th>\n",
       "      <td>0000423b00ade91418cceaf3b26c6af3dd342b51fd051e...</td>\n",
       "      <td>0924243001 0924243002 0918522001 0923758001 08...</td>\n",
       "    </tr>\n",
       "    <tr>\n",
       "      <th>2</th>\n",
       "      <td>000058a12d5b43e67d225668fa1f8d618c13dc232df0ca...</td>\n",
       "      <td>0794321007 0924243001 0924243002 0918522001 09...</td>\n",
       "    </tr>\n",
       "    <tr>\n",
       "      <th>3</th>\n",
       "      <td>00005ca1c9ed5f5146b52ac8639a40ca9d57aeff4d1bd2...</td>\n",
       "      <td>0924243001 0924243002 0918522001 0923758001 08...</td>\n",
       "    </tr>\n",
       "    <tr>\n",
       "      <th>4</th>\n",
       "      <td>00006413d8573cd20ed7128e53b7b13819fe5cfc2d801f...</td>\n",
       "      <td>0927530004 0896152002 0730683050 0791587015 09...</td>\n",
       "    </tr>\n",
       "    <tr>\n",
       "      <th>...</th>\n",
       "      <td>...</td>\n",
       "      <td>...</td>\n",
       "    </tr>\n",
       "    <tr>\n",
       "      <th>1371975</th>\n",
       "      <td>ffffbbf78b6eaac697a8a5dfbfd2bfa8113ee5b403e474...</td>\n",
       "      <td>0720125039 0740922009 0791587007 0804992033 05...</td>\n",
       "    </tr>\n",
       "    <tr>\n",
       "      <th>1371976</th>\n",
       "      <td>ffffcd5046a6143d29a04fb8c424ce494a76e5cdf4fab5...</td>\n",
       "      <td>0762846031 0924243001 0924243002 0918522001 09...</td>\n",
       "    </tr>\n",
       "    <tr>\n",
       "      <th>1371977</th>\n",
       "      <td>ffffcf35913a0bee60e8741cb2b4e78b8a98ee5ff2e6a1...</td>\n",
       "      <td>0924243001 0924243002 0918522001 0915529003 09...</td>\n",
       "    </tr>\n",
       "    <tr>\n",
       "      <th>1371978</th>\n",
       "      <td>ffffd7744cebcf3aca44ae7049d2a94b87074c3d4ffe38...</td>\n",
       "      <td>0924243001 0924243002 0918522001 0923758001 08...</td>\n",
       "    </tr>\n",
       "    <tr>\n",
       "      <th>1371979</th>\n",
       "      <td>ffffd9ac14e89946416d80e791d064701994755c3ab686...</td>\n",
       "      <td>0924243001 0924243002 0918522001 0923758001 08...</td>\n",
       "    </tr>\n",
       "  </tbody>\n",
       "</table>\n",
       "<p>1371980 rows × 2 columns</p>\n",
       "</div>"
      ],
      "text/plain": [
       "                                               customer_id  \\\n",
       "0        00000dbacae5abe5e23885899a1fa44253a17956c6d1c3...   \n",
       "1        0000423b00ade91418cceaf3b26c6af3dd342b51fd051e...   \n",
       "2        000058a12d5b43e67d225668fa1f8d618c13dc232df0ca...   \n",
       "3        00005ca1c9ed5f5146b52ac8639a40ca9d57aeff4d1bd2...   \n",
       "4        00006413d8573cd20ed7128e53b7b13819fe5cfc2d801f...   \n",
       "...                                                    ...   \n",
       "1371975  ffffbbf78b6eaac697a8a5dfbfd2bfa8113ee5b403e474...   \n",
       "1371976  ffffcd5046a6143d29a04fb8c424ce494a76e5cdf4fab5...   \n",
       "1371977  ffffcf35913a0bee60e8741cb2b4e78b8a98ee5ff2e6a1...   \n",
       "1371978  ffffd7744cebcf3aca44ae7049d2a94b87074c3d4ffe38...   \n",
       "1371979  ffffd9ac14e89946416d80e791d064701994755c3ab686...   \n",
       "\n",
       "                                                prediction  \n",
       "0        0568601043 0924243001 0924243002 0918522001 09...  \n",
       "1        0924243001 0924243002 0918522001 0923758001 08...  \n",
       "2        0794321007 0924243001 0924243002 0918522001 09...  \n",
       "3        0924243001 0924243002 0918522001 0923758001 08...  \n",
       "4        0927530004 0896152002 0730683050 0791587015 09...  \n",
       "...                                                    ...  \n",
       "1371975  0720125039 0740922009 0791587007 0804992033 05...  \n",
       "1371976  0762846031 0924243001 0924243002 0918522001 09...  \n",
       "1371977  0924243001 0924243002 0918522001 0915529003 09...  \n",
       "1371978  0924243001 0924243002 0918522001 0923758001 08...  \n",
       "1371979  0924243001 0924243002 0918522001 0923758001 08...  \n",
       "\n",
       "[1371980 rows x 2 columns]"
      ]
     },
     "execution_count": 286,
     "metadata": {},
     "output_type": "execute_result"
    }
   ],
   "source": [
    " sub"
   ]
  },
  {
   "cell_type": "code",
   "execution_count": null,
   "metadata": {},
   "outputs": [],
   "source": []
  },
  {
   "cell_type": "code",
   "execution_count": null,
   "metadata": {},
   "outputs": [],
   "source": []
  }
 ],
 "metadata": {
  "accelerator": "GPU",
  "colab": {
   "collapsed_sections": [
    "Ji3cu4LpAuwI",
    "Vcz9bc1-AuwM"
   ],
   "machine_shape": "hm",
   "name": "radek-s-lgbmranker-starter-pack.ipynb",
   "provenance": []
  },
  "gpuClass": "standard",
  "kernelspec": {
   "display_name": "Python 3 (ipykernel)",
   "language": "python",
   "name": "python3"
  },
  "language_info": {
   "codemirror_mode": {
    "name": "ipython",
    "version": 3
   },
   "file_extension": ".py",
   "mimetype": "text/x-python",
   "name": "python",
   "nbconvert_exporter": "python",
   "pygments_lexer": "ipython3",
   "version": "3.7.11"
  }
 },
 "nbformat": 4,
 "nbformat_minor": 1
}
